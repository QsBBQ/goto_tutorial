{
 "cells": [
  {
   "cell_type": "markdown",
   "metadata": {},
   "source": [
    "# Class II Outline\n",
    "\n",
    "* Homework review\n",
    "* How Python works\n",
    "    * on disk `.py` files\n",
    "    * interpreter\n",
    "    * IDEs & editors\n",
    "    * Jupyter notebook \n",
    "    * modules \n",
    "* Built-in types review\n",
    "    * int/float/decimal\n",
    "    * str/unicode\n",
    "    * list/tuple/set\n",
    "    * dictionaries / ordereddicts \n",
    "    * scope\n",
    "* Intro to packages\n",
    "    * NLTK\n",
    "    * Numpy \n",
    "* Next week outlook\n",
    "    * pair-coding exercise \n",
    "* Post-class office hours\n",
    "\n",
    "\n",
    "## How works this Python?\n",
    "\n",
    "\n",
    "<img src=\"how_works.png\"/>\n",
    "\n",
    "\n",
    "### On disk\n",
    "\n",
    "#### 1. Make file\n",
    "\n",
    "Example file \"`say_hello.py`\":\n",
    "\n",
    "```python\n",
    "print(\"Hello World\")\n",
    "```\n",
    "\n",
    "#### 2. Call file\n",
    "\n",
    "```bash\n",
    "python say_hello.py\n",
    "```\n",
    "\n",
    "#### 3. Expected output\n",
    "\n",
    "```bash\n",
    "Hello World\n",
    "```\n",
    "\n",
    "### In interpreter\n",
    "\n",
    "An Read-Eval-Print Loop (REPL) 'interpreter'\n",
    "\n",
    "```bash\n",
    "python\n",
    "Python 2.7 (#1, Feb 28 2010, 00:02:06)\n",
    "Type \"help\", \"copyright\", \"credits\" or \"license\" for more information.\n",
    ">>>\n",
    "```\n",
    "\n",
    "IPython; a better Python shell\n",
    "\n",
    "```python\n",
    "Python 2.7.11 |Anaconda 2.2.0 (x86_64)| (default, Dec  6 2015, 18:57:58) \n",
    "Type \"copyright\", \"credits\" or \"license\" for more information.\n",
    "\n",
    "IPython 4.1.2 -- An enhanced Interactive Python.\n",
    "?         -> Introduction and overview of IPython's features.\n",
    "%quickref -> Quick reference.\n",
    "help      -> Python's own help system.\n",
    "object?   -> Details about 'object', use 'object??' for extra details.\n",
    "\n",
    "In [1]: \n",
    "```\n",
    "Or in this notebook"
   ]
  },
  {
   "cell_type": "code",
   "execution_count": null,
   "metadata": {
    "collapsed": false
   },
   "outputs": [],
   "source": [
    "from __future__ import print_function\n",
    "\n",
    "print(\"Hello World\")"
   ]
  },
  {
   "cell_type": "markdown",
   "metadata": {},
   "source": [
    "Jupyter Notebook tips:\n",
    "\n",
    "* Help >> User Interface Tour\n",
    "* Command mode vs. Edit mode (modal editor)\n",
    "* Keyboard shortcut cheat-sheet: Hit <kbd>H</kbd> in command mode (<kbd>Esc</kbd> first)    "
   ]
  },
  {
   "cell_type": "markdown",
   "metadata": {},
   "source": [
    "## Editors vs IDEs \n",
    "\n",
    "An Editor (like Sublime Text or VIM):\n",
    "\n",
    "<img src=\"sublime_text.png\"/>\n",
    "\n",
    "Or a full IDE (like PyCharm):\n",
    "\n",
    "<img src=\"pycharm.jpg\"/>\n",
    "\n"
   ]
  },
  {
   "cell_type": "markdown",
   "metadata": {
    "collapsed": true
   },
   "source": [
    "### modules\n",
    "\n",
    "Let's build our own.\n",
    "\n",
    "```\n",
    "foo_module/\n",
    "  |\n",
    "  +-__init__.py\n",
    "  |\n",
    "  +-bar.py\n",
    "```\n",
    "\n",
    "\n",
    "[browse](/tree/foo_module)"
   ]
  },
  {
   "cell_type": "code",
   "execution_count": 1,
   "metadata": {
    "collapsed": false
   },
   "outputs": [],
   "source": [
    "import foo_module"
   ]
  },
  {
   "cell_type": "code",
   "execution_count": 2,
   "metadata": {
    "collapsed": false
   },
   "outputs": [
    {
     "data": {
      "text/plain": [
       "1"
      ]
     },
     "execution_count": 2,
     "metadata": {},
     "output_type": "execute_result"
    }
   ],
   "source": [
    "foo_module.bar.a"
   ]
  },
  {
   "cell_type": "code",
   "execution_count": 4,
   "metadata": {
    "collapsed": false
   },
   "outputs": [
    {
     "data": {
      "text/plain": [
       "['',\n",
       " '/Users/qavila/.pyenv/versions/anaconda-2.4.0/lib/python27.zip',\n",
       " '/Users/qavila/.pyenv/versions/anaconda-2.4.0/lib/python2.7',\n",
       " '/Users/qavila/.pyenv/versions/anaconda-2.4.0/lib/python2.7/plat-darwin',\n",
       " '/Users/qavila/.pyenv/versions/anaconda-2.4.0/lib/python2.7/plat-mac',\n",
       " '/Users/qavila/.pyenv/versions/anaconda-2.4.0/lib/python2.7/plat-mac/lib-scriptpackages',\n",
       " '/Users/qavila/.pyenv/versions/anaconda-2.4.0/lib/python2.7/lib-tk',\n",
       " '/Users/qavila/.pyenv/versions/anaconda-2.4.0/lib/python2.7/lib-old',\n",
       " '/Users/qavila/.pyenv/versions/anaconda-2.4.0/lib/python2.7/lib-dynload',\n",
       " '/Users/qavila/.pyenv/versions/anaconda-2.4.0/lib/python2.7/site-packages/Sphinx-1.3.1-py2.7.egg',\n",
       " '/Users/qavila/.pyenv/versions/anaconda-2.4.0/lib/python2.7/site-packages/setuptools-18.4-py2.7.egg',\n",
       " '/Users/qavila/.pyenv/versions/anaconda-2.4.0/lib/python2.7/site-packages',\n",
       " '/Users/qavila/.pyenv/versions/anaconda-2.4.0/lib/python2.7/site-packages/aeosa',\n",
       " '/Users/qavila/.pyenv/versions/anaconda-2.4.0/lib/python2.7/site-packages/IPython/extensions',\n",
       " '/Users/qavila/.ipython']"
      ]
     },
     "execution_count": 4,
     "metadata": {},
     "output_type": "execute_result"
    }
   ],
   "source": [
    "import sys\n",
    "sys.path"
   ]
  },
  {
   "cell_type": "markdown",
   "metadata": {
    "collapsed": true
   },
   "source": [
    "## Built-in types review\n",
    "\n",
    " * int/float/decimal\n",
    " * str/unicode\n",
    " * list/tuple/set\n",
    " * dictionaries / ordereddicts \n",
    " * scope\n",
    " \n",
    "How to define a variable:\n",
    "\n",
    "| Language   | Syntax                                   | Example                                                            |\n",
    "|------------|------------------------------------------|--------------------------------------------------------------------|\n",
    "| Javascript | var variable = new class(parameters)     | my_int_array = new Array();                                        |\n",
    "| Java/C#    | class variable = new class(parameters);  | int[] my_int_array = new int[10];                                  |\n",
    "| C/C++      | class *variable = new class(parameters); | int *my_int_array,= new int[10];                                   |\n",
    "| VB         | Dim variable As New class(parameters)    | Dim my_int_array (10) As Integer                                   |\n",
    "| Ruby       | variable = class.new(parameters)         | my_int_array = Array.new(10)                                       |\n",
    "|  Python    | variable = class(parameters)             | my_int_array = [] ## or use arrays: my_array = array('i', [1,2,3,4,5]) |"
   ]
  },
  {
   "cell_type": "code",
   "execution_count": 5,
   "metadata": {
    "collapsed": false
   },
   "outputs": [
    {
     "name": "stdout",
     "output_type": "stream",
     "text": [
      "(1, <type 'int'>)\n"
     ]
    }
   ],
   "source": [
    "i = 1\n",
    "print(i, type(i))"
   ]
  },
  {
   "cell_type": "code",
   "execution_count": 6,
   "metadata": {
    "collapsed": false
   },
   "outputs": [
    {
     "name": "stdout",
     "output_type": "stream",
     "text": [
      "(1.0, <type 'float'>)\n"
     ]
    }
   ],
   "source": [
    "i = 1.0\n",
    "print(i, type(i))"
   ]
  },
  {
   "cell_type": "code",
   "execution_count": 7,
   "metadata": {
    "collapsed": true
   },
   "outputs": [],
   "source": [
    "import decimal"
   ]
  },
  {
   "cell_type": "code",
   "execution_count": 9,
   "metadata": {
    "collapsed": false
   },
   "outputs": [
    {
     "data": {
      "text/plain": [
       "decimal.Decimal"
      ]
     },
     "execution_count": 9,
     "metadata": {},
     "output_type": "execute_result"
    }
   ],
   "source": [
    "decimal.Decimal"
   ]
  },
  {
   "cell_type": "code",
   "execution_count": 10,
   "metadata": {
    "collapsed": false
   },
   "outputs": [
    {
     "name": "stdout",
     "output_type": "stream",
     "text": [
      "Help on class Decimal in module decimal:\n",
      "\n",
      "class Decimal(__builtin__.object)\n",
      " |  Floating point class for decimal arithmetic.\n",
      " |  \n",
      " |  Methods defined here:\n",
      " |  \n",
      " |  __abs__(self, round=True, context=None)\n",
      " |      Returns the absolute value of self.\n",
      " |      \n",
      " |      If the keyword argument 'round' is false, do not round.  The\n",
      " |      expression self.__abs__(round=False) is equivalent to\n",
      " |      self.copy_abs().\n",
      " |  \n",
      " |  __add__(self, other, context=None)\n",
      " |      Returns self + other.\n",
      " |      \n",
      " |      -INF + INF (or the reverse) cause InvalidOperation errors.\n",
      " |  \n",
      " |  __complex__(self)\n",
      " |  \n",
      " |  __copy__(self)\n",
      " |  \n",
      " |  __deepcopy__(self, memo)\n",
      " |  \n",
      " |  __div__ = __truediv__(self, other, context=None)\n",
      " |  \n",
      " |  __divmod__(self, other, context=None)\n",
      " |      Return (self // other, self % other)\n",
      " |  \n",
      " |  __eq__(self, other, context=None)\n",
      " |  \n",
      " |  __float__(self)\n",
      " |      Float representation.\n",
      " |  \n",
      " |  __floordiv__(self, other, context=None)\n",
      " |      self // other\n",
      " |  \n",
      " |  __format__(self, specifier, context=None, _localeconv=None)\n",
      " |      Format a Decimal instance according to the given specifier.\n",
      " |      \n",
      " |      The specifier should be a standard format specifier, with the\n",
      " |      form described in PEP 3101.  Formatting types 'e', 'E', 'f',\n",
      " |      'F', 'g', 'G', 'n' and '%' are supported.  If the formatting\n",
      " |      type is omitted it defaults to 'g' or 'G', depending on the\n",
      " |      value of context.capitals.\n",
      " |  \n",
      " |  __ge__(self, other, context=None)\n",
      " |  \n",
      " |  __gt__(self, other, context=None)\n",
      " |  \n",
      " |  __hash__(self)\n",
      " |      x.__hash__() <==> hash(x)\n",
      " |  \n",
      " |  __int__(self)\n",
      " |      Converts self to an int, truncating if necessary.\n",
      " |  \n",
      " |  __le__(self, other, context=None)\n",
      " |  \n",
      " |  __long__(self)\n",
      " |      Converts to a long.\n",
      " |      \n",
      " |      Equivalent to long(int(self))\n",
      " |  \n",
      " |  __lt__(self, other, context=None)\n",
      " |  \n",
      " |  __mod__(self, other, context=None)\n",
      " |      self % other\n",
      " |  \n",
      " |  __mul__(self, other, context=None)\n",
      " |      Return self * other.\n",
      " |      \n",
      " |      (+-) INF * 0 (or its reverse) raise InvalidOperation.\n",
      " |  \n",
      " |  __ne__(self, other, context=None)\n",
      " |  \n",
      " |  __neg__(self, context=None)\n",
      " |      Returns a copy with the sign switched.\n",
      " |      \n",
      " |      Rounds, if it has reason.\n",
      " |  \n",
      " |  __nonzero__(self)\n",
      " |      Return True if self is nonzero; otherwise return False.\n",
      " |      \n",
      " |      NaNs and infinities are considered nonzero.\n",
      " |  \n",
      " |  __pos__(self, context=None)\n",
      " |      Returns a copy, unless it is a sNaN.\n",
      " |      \n",
      " |      Rounds the number (if more then precision digits)\n",
      " |  \n",
      " |  __pow__(self, other, modulo=None, context=None)\n",
      " |      Return self ** other [ % modulo].\n",
      " |      \n",
      " |      With two arguments, compute self**other.\n",
      " |      \n",
      " |      With three arguments, compute (self**other) % modulo.  For the\n",
      " |      three argument form, the following restrictions on the\n",
      " |      arguments hold:\n",
      " |      \n",
      " |       - all three arguments must be integral\n",
      " |       - other must be nonnegative\n",
      " |       - either self or other (or both) must be nonzero\n",
      " |       - modulo must be nonzero and must have at most p digits,\n",
      " |         where p is the context precision.\n",
      " |      \n",
      " |      If any of these restrictions is violated the InvalidOperation\n",
      " |      flag is raised.\n",
      " |      \n",
      " |      The result of pow(self, other, modulo) is identical to the\n",
      " |      result that would be obtained by computing (self**other) %\n",
      " |      modulo with unbounded precision, but is computed more\n",
      " |      efficiently.  It is always exact.\n",
      " |  \n",
      " |  __radd__ = __add__(self, other, context=None)\n",
      " |  \n",
      " |  __rdiv__ = __rtruediv__(self, other, context=None)\n",
      " |  \n",
      " |  __rdivmod__(self, other, context=None)\n",
      " |      Swaps self/other and returns __divmod__.\n",
      " |  \n",
      " |  __reduce__(self)\n",
      " |      # Support for pickling, copy, and deepcopy\n",
      " |  \n",
      " |  __repr__(self)\n",
      " |      Represents the number as an instance of Decimal.\n",
      " |  \n",
      " |  __rfloordiv__(self, other, context=None)\n",
      " |      Swaps self/other and returns __floordiv__.\n",
      " |  \n",
      " |  __rmod__(self, other, context=None)\n",
      " |      Swaps self/other and returns __mod__.\n",
      " |  \n",
      " |  __rmul__ = __mul__(self, other, context=None)\n",
      " |  \n",
      " |  __rpow__(self, other, context=None)\n",
      " |      Swaps self/other and returns __pow__.\n",
      " |  \n",
      " |  __rsub__(self, other, context=None)\n",
      " |      Return other - self\n",
      " |  \n",
      " |  __rtruediv__(self, other, context=None)\n",
      " |      Swaps self/other and returns __truediv__.\n",
      " |  \n",
      " |  __str__(self, eng=False, context=None)\n",
      " |      Return string representation of the number in scientific notation.\n",
      " |      \n",
      " |      Captures all of the information in the underlying representation.\n",
      " |  \n",
      " |  __sub__(self, other, context=None)\n",
      " |      Return self - other\n",
      " |  \n",
      " |  __truediv__(self, other, context=None)\n",
      " |      Return self / other.\n",
      " |  \n",
      " |  __trunc__ = __int__(self)\n",
      " |  \n",
      " |  adjusted(self)\n",
      " |      Return the adjusted exponent of self\n",
      " |  \n",
      " |  as_tuple(self)\n",
      " |      Represents the number as a triple tuple.\n",
      " |      \n",
      " |      To show the internals exactly as they are.\n",
      " |  \n",
      " |  canonical(self, context=None)\n",
      " |      Returns the same Decimal object.\n",
      " |      \n",
      " |      As we do not have different encodings for the same number, the\n",
      " |      received object already is in its canonical form.\n",
      " |  \n",
      " |  compare(self, other, context=None)\n",
      " |      Compares one to another.\n",
      " |      \n",
      " |      -1 => a < b\n",
      " |      0  => a = b\n",
      " |      1  => a > b\n",
      " |      NaN => one is NaN\n",
      " |      Like __cmp__, but returns Decimal instances.\n",
      " |  \n",
      " |  compare_signal(self, other, context=None)\n",
      " |      Compares self to the other operand numerically.\n",
      " |      \n",
      " |      It's pretty much like compare(), but all NaNs signal, with signaling\n",
      " |      NaNs taking precedence over quiet NaNs.\n",
      " |  \n",
      " |  compare_total(self, other)\n",
      " |      Compares self to other using the abstract representations.\n",
      " |      \n",
      " |      This is not like the standard compare, which use their numerical\n",
      " |      value. Note that a total ordering is defined for all possible abstract\n",
      " |      representations.\n",
      " |  \n",
      " |  compare_total_mag(self, other)\n",
      " |      Compares self to other using abstract repr., ignoring sign.\n",
      " |      \n",
      " |      Like compare_total, but with operand's sign ignored and assumed to be 0.\n",
      " |  \n",
      " |  conjugate(self)\n",
      " |  \n",
      " |  copy_abs(self)\n",
      " |      Returns a copy with the sign set to 0.\n",
      " |  \n",
      " |  copy_negate(self)\n",
      " |      Returns a copy with the sign inverted.\n",
      " |  \n",
      " |  copy_sign(self, other)\n",
      " |      Returns self with the sign of other.\n",
      " |  \n",
      " |  exp(self, context=None)\n",
      " |      Returns e ** self.\n",
      " |  \n",
      " |  fma(self, other, third, context=None)\n",
      " |      Fused multiply-add.\n",
      " |      \n",
      " |      Returns self*other+third with no rounding of the intermediate\n",
      " |      product self*other.\n",
      " |      \n",
      " |      self and other are multiplied together, with no rounding of\n",
      " |      the result.  The third operand is then added to the result,\n",
      " |      and a single final rounding is performed.\n",
      " |  \n",
      " |  is_canonical(self)\n",
      " |      Return True if self is canonical; otherwise return False.\n",
      " |      \n",
      " |      Currently, the encoding of a Decimal instance is always\n",
      " |      canonical, so this method returns True for any Decimal.\n",
      " |  \n",
      " |  is_finite(self)\n",
      " |      Return True if self is finite; otherwise return False.\n",
      " |      \n",
      " |      A Decimal instance is considered finite if it is neither\n",
      " |      infinite nor a NaN.\n",
      " |  \n",
      " |  is_infinite(self)\n",
      " |      Return True if self is infinite; otherwise return False.\n",
      " |  \n",
      " |  is_nan(self)\n",
      " |      Return True if self is a qNaN or sNaN; otherwise return False.\n",
      " |  \n",
      " |  is_normal(self, context=None)\n",
      " |      Return True if self is a normal number; otherwise return False.\n",
      " |  \n",
      " |  is_qnan(self)\n",
      " |      Return True if self is a quiet NaN; otherwise return False.\n",
      " |  \n",
      " |  is_signed(self)\n",
      " |      Return True if self is negative; otherwise return False.\n",
      " |  \n",
      " |  is_snan(self)\n",
      " |      Return True if self is a signaling NaN; otherwise return False.\n",
      " |  \n",
      " |  is_subnormal(self, context=None)\n",
      " |      Return True if self is subnormal; otherwise return False.\n",
      " |  \n",
      " |  is_zero(self)\n",
      " |      Return True if self is a zero; otherwise return False.\n",
      " |  \n",
      " |  ln(self, context=None)\n",
      " |      Returns the natural (base e) logarithm of self.\n",
      " |  \n",
      " |  log10(self, context=None)\n",
      " |      Returns the base 10 logarithm of self.\n",
      " |  \n",
      " |  logb(self, context=None)\n",
      " |      Returns the exponent of the magnitude of self's MSD.\n",
      " |      \n",
      " |      The result is the integer which is the exponent of the magnitude\n",
      " |      of the most significant digit of self (as though it were truncated\n",
      " |      to a single digit while maintaining the value of that digit and\n",
      " |      without limiting the resulting exponent).\n",
      " |  \n",
      " |  logical_and(self, other, context=None)\n",
      " |      Applies an 'and' operation between self and other's digits.\n",
      " |  \n",
      " |  logical_invert(self, context=None)\n",
      " |      Invert all its digits.\n",
      " |  \n",
      " |  logical_or(self, other, context=None)\n",
      " |      Applies an 'or' operation between self and other's digits.\n",
      " |  \n",
      " |  logical_xor(self, other, context=None)\n",
      " |      Applies an 'xor' operation between self and other's digits.\n",
      " |  \n",
      " |  max(self, other, context=None)\n",
      " |      Returns the larger value.\n",
      " |      \n",
      " |      Like max(self, other) except if one is not a number, returns\n",
      " |      NaN (and signals if one is sNaN).  Also rounds.\n",
      " |  \n",
      " |  max_mag(self, other, context=None)\n",
      " |      Compares the values numerically with their sign ignored.\n",
      " |  \n",
      " |  min(self, other, context=None)\n",
      " |      Returns the smaller value.\n",
      " |      \n",
      " |      Like min(self, other) except if one is not a number, returns\n",
      " |      NaN (and signals if one is sNaN).  Also rounds.\n",
      " |  \n",
      " |  min_mag(self, other, context=None)\n",
      " |      Compares the values numerically with their sign ignored.\n",
      " |  \n",
      " |  next_minus(self, context=None)\n",
      " |      Returns the largest representable number smaller than itself.\n",
      " |  \n",
      " |  next_plus(self, context=None)\n",
      " |      Returns the smallest representable number larger than itself.\n",
      " |  \n",
      " |  next_toward(self, other, context=None)\n",
      " |      Returns the number closest to self, in the direction towards other.\n",
      " |      \n",
      " |      The result is the closest representable number to self\n",
      " |      (excluding self) that is in the direction towards other,\n",
      " |      unless both have the same value.  If the two operands are\n",
      " |      numerically equal, then the result is a copy of self with the\n",
      " |      sign set to be the same as the sign of other.\n",
      " |  \n",
      " |  normalize(self, context=None)\n",
      " |      Normalize- strip trailing 0s, change anything equal to 0 to 0e0\n",
      " |  \n",
      " |  number_class(self, context=None)\n",
      " |      Returns an indication of the class of self.\n",
      " |      \n",
      " |      The class is one of the following strings:\n",
      " |        sNaN\n",
      " |        NaN\n",
      " |        -Infinity\n",
      " |        -Normal\n",
      " |        -Subnormal\n",
      " |        -Zero\n",
      " |        +Zero\n",
      " |        +Subnormal\n",
      " |        +Normal\n",
      " |        +Infinity\n",
      " |  \n",
      " |  quantize(self, exp, rounding=None, context=None, watchexp=True)\n",
      " |      Quantize self so its exponent is the same as that of exp.\n",
      " |      \n",
      " |      Similar to self._rescale(exp._exp) but with error checking.\n",
      " |  \n",
      " |  radix(self)\n",
      " |      Just returns 10, as this is Decimal, :)\n",
      " |  \n",
      " |  remainder_near(self, other, context=None)\n",
      " |      Remainder nearest to 0-  abs(remainder-near) <= other/2\n",
      " |  \n",
      " |  rotate(self, other, context=None)\n",
      " |      Returns a rotated copy of self, value-of-other times.\n",
      " |  \n",
      " |  same_quantum(self, other)\n",
      " |      Return True if self and other have the same exponent; otherwise\n",
      " |      return False.\n",
      " |      \n",
      " |      If either operand is a special value, the following rules are used:\n",
      " |         * return True if both operands are infinities\n",
      " |         * return True if both operands are NaNs\n",
      " |         * otherwise, return False.\n",
      " |  \n",
      " |  scaleb(self, other, context=None)\n",
      " |      Returns self operand after adding the second value to its exp.\n",
      " |  \n",
      " |  shift(self, other, context=None)\n",
      " |      Returns a shifted copy of self, value-of-other times.\n",
      " |  \n",
      " |  sqrt(self, context=None)\n",
      " |      Return the square root of self.\n",
      " |  \n",
      " |  to_eng_string(self, context=None)\n",
      " |      Convert to engineering-type string.\n",
      " |      \n",
      " |      Engineering notation has an exponent which is a multiple of 3, so there\n",
      " |      are up to 3 digits left of the decimal place.\n",
      " |      \n",
      " |      Same rules for when in exponential and when as a value as in __str__.\n",
      " |  \n",
      " |  to_integral = to_integral_value(self, rounding=None, context=None)\n",
      " |  \n",
      " |  to_integral_exact(self, rounding=None, context=None)\n",
      " |      Rounds to a nearby integer.\n",
      " |      \n",
      " |      If no rounding mode is specified, take the rounding mode from\n",
      " |      the context.  This method raises the Rounded and Inexact flags\n",
      " |      when appropriate.\n",
      " |      \n",
      " |      See also: to_integral_value, which does exactly the same as\n",
      " |      this method except that it doesn't raise Inexact or Rounded.\n",
      " |  \n",
      " |  to_integral_value(self, rounding=None, context=None)\n",
      " |      Rounds to the nearest integer, without raising inexact, rounded.\n",
      " |  \n",
      " |  ----------------------------------------------------------------------\n",
      " |  Class methods defined here:\n",
      " |  \n",
      " |  from_float(cls, f) from __builtin__.type\n",
      " |      Converts a float to a decimal number, exactly.\n",
      " |      \n",
      " |      Note that Decimal.from_float(0.1) is not the same as Decimal('0.1').\n",
      " |      Since 0.1 is not exactly representable in binary floating point, the\n",
      " |      value is stored as the nearest representable value which is\n",
      " |      0x1.999999999999ap-4.  The exact equivalent of the value in decimal\n",
      " |      is 0.1000000000000000055511151231257827021181583404541015625.\n",
      " |      \n",
      " |      >>> Decimal.from_float(0.1)\n",
      " |      Decimal('0.1000000000000000055511151231257827021181583404541015625')\n",
      " |      >>> Decimal.from_float(float('nan'))\n",
      " |      Decimal('NaN')\n",
      " |      >>> Decimal.from_float(float('inf'))\n",
      " |      Decimal('Infinity')\n",
      " |      >>> Decimal.from_float(-float('inf'))\n",
      " |      Decimal('-Infinity')\n",
      " |      >>> Decimal.from_float(-0.0)\n",
      " |      Decimal('-0')\n",
      " |  \n",
      " |  ----------------------------------------------------------------------\n",
      " |  Static methods defined here:\n",
      " |  \n",
      " |  __new__(cls, value='0', context=None)\n",
      " |      Create a decimal point instance.\n",
      " |      \n",
      " |      >>> Decimal('3.14')              # string input\n",
      " |      Decimal('3.14')\n",
      " |      >>> Decimal((0, (3, 1, 4), -2))  # tuple (sign, digit_tuple, exponent)\n",
      " |      Decimal('3.14')\n",
      " |      >>> Decimal(314)                 # int or long\n",
      " |      Decimal('314')\n",
      " |      >>> Decimal(Decimal(314))        # another decimal instance\n",
      " |      Decimal('314')\n",
      " |      >>> Decimal('  3.14  \\n')        # leading and trailing whitespace okay\n",
      " |      Decimal('3.14')\n",
      " |  \n",
      " |  ----------------------------------------------------------------------\n",
      " |  Data descriptors defined here:\n",
      " |  \n",
      " |  imag\n",
      " |  \n",
      " |  real\n",
      "\n"
     ]
    }
   ],
   "source": [
    "from decimal import Decimal\n",
    "# altrnative to IEEE floating point version implemented by most computer hardware\n",
    "help(Decimal)"
   ]
  },
  {
   "cell_type": "code",
   "execution_count": 11,
   "metadata": {
    "collapsed": false
   },
   "outputs": [
    {
     "data": {
      "text/plain": [
       "Decimal('1.0')"
      ]
     },
     "execution_count": 11,
     "metadata": {},
     "output_type": "execute_result"
    }
   ],
   "source": [
    "i = Decimal(\"1.0\")\n",
    "i"
   ]
  },
  {
   "cell_type": "code",
   "execution_count": 12,
   "metadata": {
    "collapsed": false
   },
   "outputs": [
    {
     "data": {
      "text/plain": [
       "Decimal('0.01')"
      ]
     },
     "execution_count": 12,
     "metadata": {},
     "output_type": "execute_result"
    }
   ],
   "source": [
    "Decimal(\"1.0\") - Decimal(\".99\")"
   ]
  },
  {
   "cell_type": "code",
   "execution_count": 13,
   "metadata": {
    "collapsed": false
   },
   "outputs": [
    {
     "data": {
      "text/plain": [
       "\"I'm a String\""
      ]
     },
     "execution_count": 13,
     "metadata": {},
     "output_type": "execute_result"
    }
   ],
   "source": [
    "i = \"I'm a String\"\n",
    "i"
   ]
  },
  {
   "cell_type": "code",
   "execution_count": 14,
   "metadata": {
    "collapsed": false
   },
   "outputs": [
    {
     "name": "stdout",
     "output_type": "stream",
     "text": [
      "So \n",
      "Am I!\n",
      "But triple quoted\n"
     ]
    }
   ],
   "source": [
    "i = \"\"\"So \n",
    "Am I!\n",
    "But triple quoted\"\"\"\n",
    "print(i)"
   ]
  },
  {
   "cell_type": "code",
   "execution_count": 15,
   "metadata": {
    "collapsed": false
   },
   "outputs": [
    {
     "data": {
      "text/plain": [
       "str"
      ]
     },
     "execution_count": 15,
     "metadata": {},
     "output_type": "execute_result"
    }
   ],
   "source": [
    "type(i)"
   ]
  },
  {
   "cell_type": "code",
   "execution_count": 16,
   "metadata": {
    "collapsed": false
   },
   "outputs": [
    {
     "name": "stdout",
     "output_type": "stream",
     "text": [
      "a\n",
      "b\n"
     ]
    }
   ],
   "source": [
    "i = \"a\\nb\"\n",
    "\n",
    "print(i)"
   ]
  },
  {
   "cell_type": "markdown",
   "metadata": {},
   "source": [
    "Raw string"
   ]
  },
  {
   "cell_type": "code",
   "execution_count": 18,
   "metadata": {
    "collapsed": false
   },
   "outputs": [
    {
     "name": "stdout",
     "output_type": "stream",
     "text": [
      "a\\nb\n"
     ]
    }
   ],
   "source": [
    "i = r\"a\\nb\"\n",
    "print(i)"
   ]
  },
  {
   "cell_type": "markdown",
   "metadata": {},
   "source": [
    "Unicode"
   ]
  },
  {
   "cell_type": "code",
   "execution_count": 19,
   "metadata": {
    "collapsed": false
   },
   "outputs": [
    {
     "name": "stdout",
     "output_type": "stream",
     "text": [
      "(ง'̀-'́)ง\n"
     ]
    }
   ],
   "source": [
    "i = u\"(\\u0e07'\\u0300-'\\u0301)\\u0e07\"\n",
    "print(i)"
   ]
  },
  {
   "cell_type": "markdown",
   "metadata": {},
   "source": [
    "#### List/Tuple/Set"
   ]
  },
  {
   "cell_type": "code",
   "execution_count": 20,
   "metadata": {
    "collapsed": false
   },
   "outputs": [
    {
     "data": {
      "text/plain": [
       "True"
      ]
     },
     "execution_count": 20,
     "metadata": {},
     "output_type": "execute_result"
    }
   ],
   "source": [
    "(1, 2, 3) != [1, 2, 3]"
   ]
  },
  {
   "cell_type": "code",
   "execution_count": 21,
   "metadata": {
    "collapsed": true
   },
   "outputs": [],
   "source": [
    "a = [1, 2, 3]"
   ]
  },
  {
   "cell_type": "code",
   "execution_count": 22,
   "metadata": {
    "collapsed": false
   },
   "outputs": [
    {
     "data": {
      "text/plain": [
       "[3, 2, 3]"
      ]
     },
     "execution_count": 22,
     "metadata": {},
     "output_type": "execute_result"
    }
   ],
   "source": [
    "a[0] = 3\n",
    "a"
   ]
  },
  {
   "cell_type": "code",
   "execution_count": 23,
   "metadata": {
    "collapsed": true
   },
   "outputs": [],
   "source": [
    "b = (1, 2, 3)"
   ]
  },
  {
   "cell_type": "code",
   "execution_count": 24,
   "metadata": {
    "collapsed": false
   },
   "outputs": [
    {
     "ename": "TypeError",
     "evalue": "'tuple' object does not support item assignment",
     "output_type": "error",
     "traceback": [
      "\u001b[0;31m---------------------------------------------------------------------------\u001b[0m",
      "\u001b[0;31mTypeError\u001b[0m                                 Traceback (most recent call last)",
      "\u001b[0;32m<ipython-input-24-d28c64b6d9cf>\u001b[0m in \u001b[0;36m<module>\u001b[0;34m()\u001b[0m\n\u001b[0;32m----> 1\u001b[0;31m \u001b[0mb\u001b[0m\u001b[0;34m[\u001b[0m\u001b[0;36m0\u001b[0m\u001b[0;34m]\u001b[0m \u001b[0;34m=\u001b[0m \u001b[0;36m1\u001b[0m\u001b[0;34m\u001b[0m\u001b[0m\n\u001b[0m",
      "\u001b[0;31mTypeError\u001b[0m: 'tuple' object does not support item assignment"
     ]
    }
   ],
   "source": [
    "b[0] = 1"
   ]
  },
  {
   "cell_type": "code",
   "execution_count": 25,
   "metadata": {
    "collapsed": false
   },
   "outputs": [
    {
     "data": {
      "text/plain": [
       "True"
      ]
     },
     "execution_count": 25,
     "metadata": {},
     "output_type": "execute_result"
    }
   ],
   "source": [
    "set([1, 2, 3]) == set([1, 2, 3, 3, 3])"
   ]
  },
  {
   "cell_type": "code",
   "execution_count": 26,
   "metadata": {
    "collapsed": false
   },
   "outputs": [
    {
     "data": {
      "text/plain": [
       "{1}"
      ]
     },
     "execution_count": 26,
     "metadata": {},
     "output_type": "execute_result"
    }
   ],
   "source": [
    "set_1_to_3 = set([1, 2, 3])\n",
    "set_2_to_4 = set([2, 3, 4])\n",
    "set_1_to_3 - set_2_to_4"
   ]
  },
  {
   "cell_type": "code",
   "execution_count": 27,
   "metadata": {
    "collapsed": false
   },
   "outputs": [
    {
     "data": {
      "text/plain": [
       "{2, 3}"
      ]
     },
     "execution_count": 27,
     "metadata": {},
     "output_type": "execute_result"
    }
   ],
   "source": [
    "set_1_to_3 & set_2_to_4"
   ]
  },
  {
   "cell_type": "code",
   "execution_count": 28,
   "metadata": {
    "collapsed": false
   },
   "outputs": [
    {
     "data": {
      "text/plain": [
       "{1, 2, 3, 4}"
      ]
     },
     "execution_count": 28,
     "metadata": {},
     "output_type": "execute_result"
    }
   ],
   "source": [
    "set_1_to_3 | set_2_to_4"
   ]
  },
  {
   "cell_type": "markdown",
   "metadata": {},
   "source": [
    "#### Dictonaries / Ordered Dicts"
   ]
  },
  {
   "cell_type": "code",
   "execution_count": null,
   "metadata": {
    "collapsed": true
   },
   "outputs": [],
   "source": []
  },
  {
   "cell_type": "code",
   "execution_count": 29,
   "metadata": {
    "collapsed": true
   },
   "outputs": [],
   "source": [
    "my_dict = {'a': 1, 'b': 2, 'c': 3, 5: 'd'}"
   ]
  },
  {
   "cell_type": "code",
   "execution_count": 30,
   "metadata": {
    "collapsed": false
   },
   "outputs": [
    {
     "data": {
      "text/plain": [
       "['a', 'c', 'b', 5]"
      ]
     },
     "execution_count": 30,
     "metadata": {},
     "output_type": "execute_result"
    }
   ],
   "source": [
    "my_dict.keys()"
   ]
  },
  {
   "cell_type": "code",
   "execution_count": 31,
   "metadata": {
    "collapsed": false
   },
   "outputs": [
    {
     "data": {
      "text/plain": [
       "[1, 3, 2, 'd']"
      ]
     },
     "execution_count": 31,
     "metadata": {},
     "output_type": "execute_result"
    }
   ],
   "source": [
    "my_dict.values()"
   ]
  },
  {
   "cell_type": "code",
   "execution_count": 32,
   "metadata": {
    "collapsed": false
   },
   "outputs": [
    {
     "data": {
      "text/plain": [
       "[('a', 1), ('c', 3), ('b', 2), (5, 'd')]"
      ]
     },
     "execution_count": 32,
     "metadata": {},
     "output_type": "execute_result"
    }
   ],
   "source": [
    "my_dict.items()"
   ]
  },
  {
   "cell_type": "code",
   "execution_count": 33,
   "metadata": {
    "collapsed": true
   },
   "outputs": [],
   "source": [
    "my_dict['a'] = 1337"
   ]
  },
  {
   "cell_type": "code",
   "execution_count": 34,
   "metadata": {
    "collapsed": false
   },
   "outputs": [
    {
     "data": {
      "text/plain": [
       "{5: 'd', 'a': 1337, 'b': 2, 'c': 3}"
      ]
     },
     "execution_count": 34,
     "metadata": {},
     "output_type": "execute_result"
    }
   ],
   "source": [
    "my_dict"
   ]
  },
  {
   "cell_type": "markdown",
   "metadata": {},
   "source": [
    "*order is not preserved*"
   ]
  },
  {
   "cell_type": "code",
   "execution_count": 35,
   "metadata": {
    "collapsed": true
   },
   "outputs": [],
   "source": [
    "del my_dict['b']"
   ]
  },
  {
   "cell_type": "code",
   "execution_count": 36,
   "metadata": {
    "collapsed": false
   },
   "outputs": [
    {
     "data": {
      "text/plain": [
       "{5: 'd', 'a': 1337, 'c': 3}"
      ]
     },
     "execution_count": 36,
     "metadata": {},
     "output_type": "execute_result"
    }
   ],
   "source": [
    "my_dict"
   ]
  },
  {
   "cell_type": "code",
   "execution_count": 37,
   "metadata": {
    "collapsed": false
   },
   "outputs": [
    {
     "data": {
      "text/plain": [
       "3"
      ]
     },
     "execution_count": 37,
     "metadata": {},
     "output_type": "execute_result"
    }
   ],
   "source": [
    "my_dict.pop('c')"
   ]
  },
  {
   "cell_type": "code",
   "execution_count": 38,
   "metadata": {
    "collapsed": false
   },
   "outputs": [
    {
     "data": {
      "text/plain": [
       "{5: 'd', 'a': 1337}"
      ]
     },
     "execution_count": 38,
     "metadata": {},
     "output_type": "execute_result"
    }
   ],
   "source": [
    "my_dict"
   ]
  },
  {
   "cell_type": "code",
   "execution_count": 39,
   "metadata": {
    "collapsed": false
   },
   "outputs": [
    {
     "data": {
      "text/plain": [
       "2"
      ]
     },
     "execution_count": 39,
     "metadata": {},
     "output_type": "execute_result"
    }
   ],
   "source": [
    "len(my_dict)"
   ]
  },
  {
   "cell_type": "code",
   "execution_count": 40,
   "metadata": {
    "collapsed": false
   },
   "outputs": [
    {
     "name": "stdout",
     "output_type": "stream",
     "text": [
      "key: 'a' value: '1337'\n",
      "key: '5' value: 'd'\n"
     ]
    }
   ],
   "source": [
    "print(\"\\n\".join([\"key: '{}' value: '{}'\".format(k, v) for k, v in my_dict.items()]))"
   ]
  },
  {
   "cell_type": "markdown",
   "metadata": {},
   "source": [
    "special: ordered dicts"
   ]
  },
  {
   "cell_type": "code",
   "execution_count": 41,
   "metadata": {
    "collapsed": true
   },
   "outputs": [],
   "source": [
    "from collections import OrderedDict"
   ]
  },
  {
   "cell_type": "code",
   "execution_count": 42,
   "metadata": {
    "collapsed": true
   },
   "outputs": [],
   "source": [
    "ordered_dict = OrderedDict(a=1, b=2, c=3, d=4)\n",
    "regular_dict = dict(a=1, b=2, c=3)\n",
    "ordered_dict[1] = 4\n",
    "regular_dict[1] = 4"
   ]
  },
  {
   "cell_type": "code",
   "execution_count": 43,
   "metadata": {
    "collapsed": false
   },
   "outputs": [
    {
     "data": {
      "text/plain": [
       "OrderedDict([('a', 1), ('c', 3), ('b', 2), ('d', 4), (1, 4)])"
      ]
     },
     "execution_count": 43,
     "metadata": {},
     "output_type": "execute_result"
    }
   ],
   "source": [
    "ordered_dict"
   ]
  },
  {
   "cell_type": "code",
   "execution_count": 44,
   "metadata": {
    "collapsed": false
   },
   "outputs": [
    {
     "data": {
      "text/plain": [
       "{1: 4, 'a': 1, 'b': 2, 'c': 3}"
      ]
     },
     "execution_count": 44,
     "metadata": {},
     "output_type": "execute_result"
    }
   ],
   "source": [
    "regular_dict"
   ]
  },
  {
   "cell_type": "markdown",
   "metadata": {},
   "source": [
    "#### scope\n",
    "LEGB Rule.\n",
    "\n",
    "* Local \n",
    "* Enclosed\n",
    "* Global\n",
    "* Built In\n"
   ]
  },
  {
   "cell_type": "code",
   "execution_count": 45,
   "metadata": {
    "collapsed": false
   },
   "outputs": [
    {
     "name": "stdout",
     "output_type": "stream",
     "text": [
      "('1. Global x:', 100)\n",
      "('2. Enclosed y:', 100)\n",
      "('3. Enclosed x:', 101)\n",
      "('4. Enclosed self.x', 101)\n",
      "('5. Global x', 100)\n",
      "('6.', NameError(\"global name 'y' is not defined\",))\n",
      "('7.', UnboundLocalError(\"local variable 'x' referenced before assignment\",))\n",
      "('8. Local x', 200)\n"
     ]
    }
   ],
   "source": [
    "x = 100\n",
    "print(\"1. Global x:\", x)\n",
    "class Test(object):\n",
    "    y = x\n",
    "    print(\"2. Enclosed y:\", y)\n",
    "    x = x + 1 \n",
    "    print(\"3. Enclosed x:\", x)\n",
    "    z = x\n",
    "\n",
    "    def method(self):\n",
    "        print(\"4. Enclosed self.x\", self.x)\n",
    "        print(\"5. Global x\", x)\n",
    "        try:\n",
    "            print(y)\n",
    "        except NameError as e:\n",
    "            print(\"6.\", e)\n",
    "\n",
    "    def method_local_ref(self):\n",
    "        try:\n",
    "            print(x)\n",
    "        except UnboundLocalError as e:\n",
    "            print(\"7.\", e)\n",
    "        x = 200 \n",
    "        print(\"8. Local x\", x)\n",
    "        \n",
    "inst = Test()\n",
    "inst.method()\n",
    "inst.method_local_ref()"
   ]
  },
  {
   "cell_type": "markdown",
   "metadata": {},
   "source": [
    "# Intro to Packages\n",
    "* NLTK (Natural Language Toolkit) http://www.nltk.org/\n",
    "* Numpy http://www.numpy.org/"
   ]
  },
  {
   "cell_type": "code",
   "execution_count": 46,
   "metadata": {
    "collapsed": false
   },
   "outputs": [
    {
     "name": "stdout",
     "output_type": "stream",
     "text": [
      "Fetching package metadata: ....\n",
      "Solving package specifications: .................\n",
      "Package plan for installation in environment /Users/qavila/.pyenv/versions/anaconda-2.4.0:\n",
      "\n",
      "The following packages will be downloaded:\n",
      "\n",
      "    package                    |            build\n",
      "    ---------------------------|-----------------\n",
      "    openssl-1.0.2h             |                0         3.0 MB\n",
      "    sqlite-3.9.2               |                0         1.2 MB\n",
      "    python-2.7.11              |                0         9.9 MB\n",
      "    conda-env-2.4.5            |           py27_0          24 KB\n",
      "    nltk-3.2.1                 |           py27_0         1.7 MB\n",
      "    requests-2.10.0            |           py27_0         611 KB\n",
      "    setuptools-20.7.0          |           py27_0         453 KB\n",
      "    wheel-0.29.0               |           py27_0          81 KB\n",
      "    conda-4.0.6                |           py27_0         185 KB\n",
      "    pip-8.1.1                  |           py27_1         1.5 MB\n",
      "    ------------------------------------------------------------\n",
      "                                           Total:        18.7 MB\n",
      "\n",
      "The following packages will be UPDATED:\n",
      "\n",
      "    conda:      3.18.3-py27_0 --> 4.0.6-py27_0 \n",
      "    conda-env:  2.4.4-py27_0  --> 2.4.5-py27_0 \n",
      "    nltk:       3.1-py27_0    --> 3.2.1-py27_0 \n",
      "    openssl:    1.0.2d-0      --> 1.0.2h-0     \n",
      "    pip:        7.1.2-py27_0  --> 8.1.1-py27_1 \n",
      "    python:     2.7.10-2      --> 2.7.11-0     \n",
      "    requests:   2.8.1-py27_0  --> 2.10.0-py27_0\n",
      "    setuptools: 18.4-py27_0   --> 20.7.0-py27_0\n",
      "    sqlite:     3.8.4.1-1     --> 3.9.2-0      \n",
      "    wheel:      0.26.0-py27_1 --> 0.29.0-py27_0\n",
      "\n"
     ]
    }
   ],
   "source": [
    "!conda install -q --yes nltk"
   ]
  },
  {
   "cell_type": "code",
   "execution_count": 47,
   "metadata": {
    "collapsed": true
   },
   "outputs": [],
   "source": [
    "import nltk"
   ]
  },
  {
   "cell_type": "code",
   "execution_count": 56,
   "metadata": {
    "collapsed": false
   },
   "outputs": [
    {
     "name": "stdout",
     "output_type": "stream",
     "text": [
      "[nltk_data] Downloading package brown to /Users/qavila/nltk_data...\n",
      "[nltk_data]   Package brown is already up-to-date!\n",
      "[nltk_data] Downloading package averaged_perceptron_tagger to\n",
      "[nltk_data]     /Users/qavila/nltk_data...\n",
      "[nltk_data]   Package averaged_perceptron_tagger is already up-to-\n",
      "[nltk_data]       date!\n"
     ]
    },
    {
     "data": {
      "text/plain": [
       "True"
      ]
     },
     "execution_count": 56,
     "metadata": {},
     "output_type": "execute_result"
    }
   ],
   "source": [
    "nltk.download(\"brown\")\n",
    "nltk.download(\"averaged_perceptron_tagger\")"
   ]
  },
  {
   "cell_type": "code",
   "execution_count": 57,
   "metadata": {
    "collapsed": true
   },
   "outputs": [],
   "source": [
    "from nltk.corpus import brown"
   ]
  },
  {
   "cell_type": "code",
   "execution_count": 58,
   "metadata": {
    "collapsed": false
   },
   "outputs": [
    {
     "data": {
      "text/plain": [
       "[u'The',\n",
       " u'Fulton',\n",
       " u'County',\n",
       " u'Grand',\n",
       " u'Jury',\n",
       " u'said',\n",
       " u'Friday',\n",
       " u'an',\n",
       " u'investigation',\n",
       " u'of']"
      ]
     },
     "execution_count": 58,
     "metadata": {},
     "output_type": "execute_result"
    }
   ],
   "source": [
    "brown.words()[0:10]"
   ]
  },
  {
   "cell_type": "code",
   "execution_count": 59,
   "metadata": {
    "collapsed": false
   },
   "outputs": [
    {
     "data": {
      "text/plain": [
       "[(u'The', u'AT'),\n",
       " (u'Fulton', u'NP-TL'),\n",
       " (u'County', u'NN-TL'),\n",
       " (u'Grand', u'JJ-TL'),\n",
       " (u'Jury', u'NN-TL'),\n",
       " (u'said', u'VBD'),\n",
       " (u'Friday', u'NR'),\n",
       " (u'an', u'AT'),\n",
       " (u'investigation', u'NN'),\n",
       " (u'of', u'IN')]"
      ]
     },
     "execution_count": 59,
     "metadata": {},
     "output_type": "execute_result"
    }
   ],
   "source": [
    "brown.tagged_words()[0:10]"
   ]
  },
  {
   "cell_type": "markdown",
   "metadata": {},
   "source": [
    "POS:\n",
    " * AT\tarticle\ta, the, no\n",
    " * NP\tproper noun or part of name phrase\n",
    " * JJ\tadjective\n",
    " * VBD\tverb, past tense\n",
    " * NN\tsingular or mass noun\n",
    " * NNS\tplural noun\n",
    " * ...\n",
    "  "
   ]
  },
  {
   "cell_type": "code",
   "execution_count": 60,
   "metadata": {
    "collapsed": true
   },
   "outputs": [],
   "source": [
    "from nltk import sent_tokenize, word_tokenize, pos_tag\n",
    "\n",
    "text = \"\"\"Change will not come if we wait for some other person or some other time.\n",
    "We are the ones we've been waiting for. We are the change that we seek.\"\"\"\n"
   ]
  },
  {
   "cell_type": "code",
   "execution_count": 68,
   "metadata": {
    "collapsed": false
   },
   "outputs": [
    {
     "name": "stdout",
     "output_type": "stream",
     "text": [
      "[nltk_data] Downloading collection u'all'\n",
      "[nltk_data]    | \n",
      "[nltk_data]    | Downloading package abc to /Users/qavila/nltk_data...\n",
      "[nltk_data]    |   Unzipping corpora/abc.zip.\n",
      "[nltk_data]    | Downloading package alpino to\n",
      "[nltk_data]    |     /Users/qavila/nltk_data...\n",
      "[nltk_data]    |   Unzipping corpora/alpino.zip.\n",
      "[nltk_data]    | Downloading package biocreative_ppi to\n",
      "[nltk_data]    |     /Users/qavila/nltk_data...\n",
      "[nltk_data]    |   Unzipping corpora/biocreative_ppi.zip.\n",
      "[nltk_data]    | Downloading package brown to\n",
      "[nltk_data]    |     /Users/qavila/nltk_data...\n",
      "[nltk_data]    |   Package brown is already up-to-date!\n",
      "[nltk_data]    | Downloading package brown_tei to\n",
      "[nltk_data]    |     /Users/qavila/nltk_data...\n",
      "[nltk_data]    |   Unzipping corpora/brown_tei.zip.\n",
      "[nltk_data]    | Downloading package cess_cat to\n",
      "[nltk_data]    |     /Users/qavila/nltk_data...\n",
      "[nltk_data]    |   Unzipping corpora/cess_cat.zip.\n",
      "[nltk_data]    | Downloading package cess_esp to\n",
      "[nltk_data]    |     /Users/qavila/nltk_data...\n",
      "[nltk_data]    |   Unzipping corpora/cess_esp.zip.\n",
      "[nltk_data]    | Downloading package chat80 to\n",
      "[nltk_data]    |     /Users/qavila/nltk_data...\n",
      "[nltk_data]    |   Unzipping corpora/chat80.zip.\n",
      "[nltk_data]    | Downloading package city_database to\n",
      "[nltk_data]    |     /Users/qavila/nltk_data...\n",
      "[nltk_data]    |   Unzipping corpora/city_database.zip.\n",
      "[nltk_data]    | Downloading package cmudict to\n",
      "[nltk_data]    |     /Users/qavila/nltk_data...\n",
      "[nltk_data]    |   Unzipping corpora/cmudict.zip.\n",
      "[nltk_data]    | Downloading package comparative_sentences to\n",
      "[nltk_data]    |     /Users/qavila/nltk_data...\n",
      "[nltk_data]    |   Unzipping corpora/comparative_sentences.zip.\n",
      "[nltk_data]    | Downloading package comtrans to\n",
      "[nltk_data]    |     /Users/qavila/nltk_data...\n",
      "[nltk_data]    | Downloading package conll2000 to\n",
      "[nltk_data]    |     /Users/qavila/nltk_data...\n",
      "[nltk_data]    |   Unzipping corpora/conll2000.zip.\n",
      "[nltk_data]    | Downloading package conll2002 to\n",
      "[nltk_data]    |     /Users/qavila/nltk_data...\n",
      "[nltk_data]    |   Unzipping corpora/conll2002.zip.\n",
      "[nltk_data]    | Downloading package conll2007 to\n",
      "[nltk_data]    |     /Users/qavila/nltk_data...\n",
      "[nltk_data]    | Downloading package crubadan to\n",
      "[nltk_data]    |     /Users/qavila/nltk_data...\n",
      "[nltk_data]    |   Unzipping corpora/crubadan.zip.\n",
      "[nltk_data]    | Downloading package dependency_treebank to\n",
      "[nltk_data]    |     /Users/qavila/nltk_data...\n",
      "[nltk_data]    |   Unzipping corpora/dependency_treebank.zip.\n",
      "[nltk_data]    | Downloading package europarl_raw to\n",
      "[nltk_data]    |     /Users/qavila/nltk_data...\n",
      "[nltk_data]    |   Unzipping corpora/europarl_raw.zip.\n",
      "[nltk_data]    | Downloading package floresta to\n",
      "[nltk_data]    |     /Users/qavila/nltk_data...\n",
      "[nltk_data]    |   Unzipping corpora/floresta.zip.\n",
      "[nltk_data]    | Downloading package framenet_v15 to\n",
      "[nltk_data]    |     /Users/qavila/nltk_data...\n",
      "[nltk_data]    |   Unzipping corpora/framenet_v15.zip.\n",
      "[nltk_data]    | Downloading package gazetteers to\n",
      "[nltk_data]    |     /Users/qavila/nltk_data...\n",
      "[nltk_data]    |   Unzipping corpora/gazetteers.zip.\n",
      "[nltk_data]    | Downloading package genesis to\n",
      "[nltk_data]    |     /Users/qavila/nltk_data...\n",
      "[nltk_data]    |   Unzipping corpora/genesis.zip.\n",
      "[nltk_data]    | Downloading package gutenberg to\n",
      "[nltk_data]    |     /Users/qavila/nltk_data...\n",
      "[nltk_data]    |   Unzipping corpora/gutenberg.zip.\n",
      "[nltk_data]    | Downloading package ieer to\n",
      "[nltk_data]    |     /Users/qavila/nltk_data...\n",
      "[nltk_data]    |   Unzipping corpora/ieer.zip.\n",
      "[nltk_data]    | Downloading package inaugural to\n",
      "[nltk_data]    |     /Users/qavila/nltk_data...\n",
      "[nltk_data]    |   Unzipping corpora/inaugural.zip.\n",
      "[nltk_data]    | Downloading package indian to\n",
      "[nltk_data]    |     /Users/qavila/nltk_data...\n",
      "[nltk_data]    |   Unzipping corpora/indian.zip.\n",
      "[nltk_data]    | Downloading package jeita to\n",
      "[nltk_data]    |     /Users/qavila/nltk_data...\n",
      "[nltk_data]    | Downloading package kimmo to\n",
      "[nltk_data]    |     /Users/qavila/nltk_data...\n",
      "[nltk_data]    |   Unzipping corpora/kimmo.zip.\n",
      "[nltk_data]    | Downloading package knbc to\n",
      "[nltk_data]    |     /Users/qavila/nltk_data...\n",
      "[nltk_data]    | Downloading package lin_thesaurus to\n",
      "[nltk_data]    |     /Users/qavila/nltk_data...\n",
      "[nltk_data]    |   Unzipping corpora/lin_thesaurus.zip.\n",
      "[nltk_data]    | Downloading package mac_morpho to\n",
      "[nltk_data]    |     /Users/qavila/nltk_data...\n",
      "[nltk_data]    |   Unzipping corpora/mac_morpho.zip.\n",
      "[nltk_data]    | Downloading package machado to\n",
      "[nltk_data]    |     /Users/qavila/nltk_data...\n",
      "[nltk_data]    | Downloading package masc_tagged to\n",
      "[nltk_data]    |     /Users/qavila/nltk_data...\n",
      "[nltk_data]    | Downloading package moses_sample to\n",
      "[nltk_data]    |     /Users/qavila/nltk_data...\n",
      "[nltk_data]    |   Unzipping models/moses_sample.zip.\n",
      "[nltk_data]    | Downloading package movie_reviews to\n",
      "[nltk_data]    |     /Users/qavila/nltk_data...\n",
      "[nltk_data]    |   Unzipping corpora/movie_reviews.zip.\n",
      "[nltk_data]    | Downloading package names to\n",
      "[nltk_data]    |     /Users/qavila/nltk_data...\n",
      "[nltk_data]    |   Unzipping corpora/names.zip.\n",
      "[nltk_data]    | Downloading package nombank.1.0 to\n",
      "[nltk_data]    |     /Users/qavila/nltk_data...\n",
      "[nltk_data]    | Downloading package nps_chat to\n",
      "[nltk_data]    |     /Users/qavila/nltk_data...\n",
      "[nltk_data]    |   Unzipping corpora/nps_chat.zip.\n",
      "[nltk_data]    | Downloading package omw to /Users/qavila/nltk_data...\n",
      "[nltk_data]    |   Unzipping corpora/omw.zip.\n",
      "[nltk_data]    | Downloading package opinion_lexicon to\n",
      "[nltk_data]    |     /Users/qavila/nltk_data...\n",
      "[nltk_data]    |   Unzipping corpora/opinion_lexicon.zip.\n",
      "[nltk_data]    | Downloading package paradigms to\n",
      "[nltk_data]    |     /Users/qavila/nltk_data...\n",
      "[nltk_data]    |   Unzipping corpora/paradigms.zip.\n",
      "[nltk_data]    | Downloading package pil to /Users/qavila/nltk_data...\n",
      "[nltk_data]    |   Unzipping corpora/pil.zip.\n",
      "[nltk_data]    | Downloading package pl196x to\n",
      "[nltk_data]    |     /Users/qavila/nltk_data...\n",
      "[nltk_data]    |   Unzipping corpora/pl196x.zip.\n",
      "[nltk_data]    | Downloading package ppattach to\n",
      "[nltk_data]    |     /Users/qavila/nltk_data...\n",
      "[nltk_data]    |   Unzipping corpora/ppattach.zip.\n",
      "[nltk_data]    | Downloading package problem_reports to\n",
      "[nltk_data]    |     /Users/qavila/nltk_data...\n",
      "[nltk_data]    |   Unzipping corpora/problem_reports.zip.\n",
      "[nltk_data]    | Downloading package propbank to\n",
      "[nltk_data]    |     /Users/qavila/nltk_data...\n",
      "[nltk_data]    | Downloading package ptb to /Users/qavila/nltk_data...\n",
      "[nltk_data]    |   Unzipping corpora/ptb.zip.\n",
      "[nltk_data]    | Downloading package product_reviews_1 to\n",
      "[nltk_data]    |     /Users/qavila/nltk_data...\n",
      "[nltk_data]    |   Unzipping corpora/product_reviews_1.zip.\n",
      "[nltk_data]    | Downloading package product_reviews_2 to\n",
      "[nltk_data]    |     /Users/qavila/nltk_data...\n",
      "[nltk_data]    |   Unzipping corpora/product_reviews_2.zip.\n",
      "[nltk_data]    | Downloading package pros_cons to\n",
      "[nltk_data]    |     /Users/qavila/nltk_data...\n",
      "[nltk_data]    |   Unzipping corpora/pros_cons.zip.\n",
      "[nltk_data]    | Downloading package qc to /Users/qavila/nltk_data...\n",
      "[nltk_data]    |   Unzipping corpora/qc.zip.\n",
      "[nltk_data]    | Downloading package reuters to\n",
      "[nltk_data]    |     /Users/qavila/nltk_data...\n",
      "[nltk_data]    | Downloading package rte to /Users/qavila/nltk_data...\n",
      "[nltk_data]    |   Unzipping corpora/rte.zip.\n",
      "[nltk_data]    | Downloading package semcor to\n",
      "[nltk_data]    |     /Users/qavila/nltk_data...\n",
      "[nltk_data]    | Downloading package senseval to\n",
      "[nltk_data]    |     /Users/qavila/nltk_data...\n",
      "[nltk_data]    |   Unzipping corpora/senseval.zip.\n",
      "[nltk_data]    | Downloading package sentiwordnet to\n",
      "[nltk_data]    |     /Users/qavila/nltk_data...\n",
      "[nltk_data]    |   Unzipping corpora/sentiwordnet.zip.\n",
      "[nltk_data]    | Downloading package sentence_polarity to\n",
      "[nltk_data]    |     /Users/qavila/nltk_data...\n",
      "[nltk_data]    |   Unzipping corpora/sentence_polarity.zip.\n",
      "[nltk_data]    | Downloading package shakespeare to\n",
      "[nltk_data]    |     /Users/qavila/nltk_data...\n",
      "[nltk_data]    |   Unzipping corpora/shakespeare.zip.\n",
      "[nltk_data]    | Downloading package sinica_treebank to\n",
      "[nltk_data]    |     /Users/qavila/nltk_data...\n",
      "[nltk_data]    |   Unzipping corpora/sinica_treebank.zip.\n",
      "[nltk_data]    | Downloading package smultron to\n",
      "[nltk_data]    |     /Users/qavila/nltk_data...\n",
      "[nltk_data]    |   Unzipping corpora/smultron.zip.\n",
      "[nltk_data]    | Downloading package state_union to\n",
      "[nltk_data]    |     /Users/qavila/nltk_data...\n",
      "[nltk_data]    |   Unzipping corpora/state_union.zip.\n",
      "[nltk_data]    | Downloading package stopwords to\n",
      "[nltk_data]    |     /Users/qavila/nltk_data...\n",
      "[nltk_data]    |   Unzipping corpora/stopwords.zip.\n",
      "[nltk_data]    | Downloading package subjectivity to\n",
      "[nltk_data]    |     /Users/qavila/nltk_data...\n",
      "[nltk_data]    |   Unzipping corpora/subjectivity.zip.\n",
      "[nltk_data]    | Downloading package swadesh to\n",
      "[nltk_data]    |     /Users/qavila/nltk_data...\n",
      "[nltk_data]    |   Unzipping corpora/swadesh.zip.\n",
      "[nltk_data]    | Downloading package switchboard to\n",
      "[nltk_data]    |     /Users/qavila/nltk_data...\n",
      "[nltk_data]    |   Unzipping corpora/switchboard.zip.\n",
      "[nltk_data]    | Downloading package timit to\n",
      "[nltk_data]    |     /Users/qavila/nltk_data...\n",
      "[nltk_data]    |   Unzipping corpora/timit.zip.\n",
      "[nltk_data]    | Downloading package toolbox to\n",
      "[nltk_data]    |     /Users/qavila/nltk_data...\n",
      "[nltk_data]    |   Unzipping corpora/toolbox.zip.\n",
      "[nltk_data]    | Downloading package treebank to\n",
      "[nltk_data]    |     /Users/qavila/nltk_data...\n",
      "[nltk_data]    |   Unzipping corpora/treebank.zip.\n",
      "[nltk_data]    | Downloading package twitter_samples to\n",
      "[nltk_data]    |     /Users/qavila/nltk_data...\n",
      "[nltk_data]    |   Unzipping corpora/twitter_samples.zip.\n",
      "[nltk_data]    | Downloading package udhr to\n",
      "[nltk_data]    |     /Users/qavila/nltk_data...\n",
      "[nltk_data]    |   Unzipping corpora/udhr.zip.\n",
      "[nltk_data]    | Downloading package udhr2 to\n",
      "[nltk_data]    |     /Users/qavila/nltk_data...\n",
      "[nltk_data]    |   Unzipping corpora/udhr2.zip.\n",
      "[nltk_data]    | Downloading package unicode_samples to\n",
      "[nltk_data]    |     /Users/qavila/nltk_data...\n",
      "[nltk_data]    |   Unzipping corpora/unicode_samples.zip.\n",
      "[nltk_data]    | Downloading package universal_treebanks_v20 to\n",
      "[nltk_data]    |     /Users/qavila/nltk_data...\n",
      "[nltk_data]    | Downloading package verbnet to\n",
      "[nltk_data]    |     /Users/qavila/nltk_data...\n",
      "[nltk_data]    |   Unzipping corpora/verbnet.zip.\n",
      "[nltk_data]    | Downloading package webtext to\n",
      "[nltk_data]    |     /Users/qavila/nltk_data...\n",
      "[nltk_data]    |   Unzipping corpora/webtext.zip.\n",
      "[nltk_data]    | Downloading package wordnet to\n",
      "[nltk_data]    |     /Users/qavila/nltk_data...\n",
      "[nltk_data]    |   Unzipping corpora/wordnet.zip.\n",
      "[nltk_data]    | Downloading package wordnet_ic to\n",
      "[nltk_data]    |     /Users/qavila/nltk_data...\n",
      "[nltk_data]    |   Unzipping corpora/wordnet_ic.zip.\n",
      "[nltk_data]    | Downloading package words to\n",
      "[nltk_data]    |     /Users/qavila/nltk_data...\n",
      "[nltk_data]    |   Unzipping corpora/words.zip.\n",
      "[nltk_data]    | Downloading package ycoe to\n",
      "[nltk_data]    |     /Users/qavila/nltk_data...\n",
      "[nltk_data]    |   Unzipping corpora/ycoe.zip.\n",
      "[nltk_data]    | Downloading package rslp to\n",
      "[nltk_data]    |     /Users/qavila/nltk_data...\n",
      "[nltk_data]    |   Unzipping stemmers/rslp.zip.\n",
      "[nltk_data]    | Downloading package hmm_treebank_pos_tagger to\n",
      "[nltk_data]    |     /Users/qavila/nltk_data...\n",
      "[nltk_data]    |   Unzipping taggers/hmm_treebank_pos_tagger.zip.\n",
      "[nltk_data]    | Downloading package maxent_treebank_pos_tagger to\n",
      "[nltk_data]    |     /Users/qavila/nltk_data...\n",
      "[nltk_data]    |   Unzipping taggers/maxent_treebank_pos_tagger.zip.\n",
      "[nltk_data]    | Downloading package universal_tagset to\n",
      "[nltk_data]    |     /Users/qavila/nltk_data...\n",
      "[nltk_data]    |   Unzipping taggers/universal_tagset.zip.\n",
      "[nltk_data]    | Downloading package maxent_ne_chunker to\n",
      "[nltk_data]    |     /Users/qavila/nltk_data...\n",
      "[nltk_data]    |   Unzipping chunkers/maxent_ne_chunker.zip.\n",
      "[nltk_data]    | Downloading package punkt to\n",
      "[nltk_data]    |     /Users/qavila/nltk_data...\n",
      "[nltk_data]    |   Unzipping tokenizers/punkt.zip.\n",
      "[nltk_data]    | Downloading package book_grammars to\n",
      "[nltk_data]    |     /Users/qavila/nltk_data...\n",
      "[nltk_data]    |   Unzipping grammars/book_grammars.zip.\n",
      "[nltk_data]    | Downloading package sample_grammars to\n",
      "[nltk_data]    |     /Users/qavila/nltk_data...\n",
      "[nltk_data]    |   Unzipping grammars/sample_grammars.zip.\n",
      "[nltk_data]    | Downloading package spanish_grammars to\n",
      "[nltk_data]    |     /Users/qavila/nltk_data...\n",
      "[nltk_data]    |   Unzipping grammars/spanish_grammars.zip.\n",
      "[nltk_data]    | Downloading package basque_grammars to\n",
      "[nltk_data]    |     /Users/qavila/nltk_data...\n",
      "[nltk_data]    |   Unzipping grammars/basque_grammars.zip.\n",
      "[nltk_data]    | Downloading package large_grammars to\n",
      "[nltk_data]    |     /Users/qavila/nltk_data...\n",
      "[nltk_data]    |   Unzipping grammars/large_grammars.zip.\n",
      "[nltk_data]    | Downloading package tagsets to\n",
      "[nltk_data]    |     /Users/qavila/nltk_data...\n",
      "[nltk_data]    |   Unzipping help/tagsets.zip.\n",
      "[nltk_data]    | Downloading package snowball_data to\n",
      "[nltk_data]    |     /Users/qavila/nltk_data...\n",
      "[nltk_data]    | Downloading package bllip_wsj_no_aux to\n",
      "[nltk_data]    |     /Users/qavila/nltk_data...\n",
      "[nltk_data]    |   Unzipping models/bllip_wsj_no_aux.zip.\n",
      "[nltk_data]    | Downloading package word2vec_sample to\n",
      "[nltk_data]    |     /Users/qavila/nltk_data...\n",
      "[nltk_data]    |   Unzipping models/word2vec_sample.zip.\n",
      "[nltk_data]    | Downloading package panlex_swadesh to\n",
      "[nltk_data]    |     /Users/qavila/nltk_data...\n",
      "[nltk_data]    | Downloading package mte_teip5 to\n",
      "[nltk_data]    |     /Users/qavila/nltk_data...\n",
      "[nltk_data]    |   Unzipping corpora/mte_teip5.zip.\n",
      "[nltk_data]    | Downloading package averaged_perceptron_tagger to\n",
      "[nltk_data]    |     /Users/qavila/nltk_data...\n",
      "[nltk_data]    |   Package averaged_perceptron_tagger is already up-\n",
      "[nltk_data]    |       to-date!\n",
      "[nltk_data]    | Downloading package panlex_lite to\n",
      "[nltk_data]    |     /Users/qavila/nltk_data...\n",
      "[nltk_data]    |   Unzipping corpora/panlex_lite.zip.\n",
      "[nltk_data]    | Downloading package perluniprops to\n",
      "[nltk_data]    |     /Users/qavila/nltk_data...\n",
      "[nltk_data]    |   Unzipping misc/perluniprops.zip.\n",
      "[nltk_data]    | Downloading package nonbreaking_prefixes to\n",
      "[nltk_data]    |     /Users/qavila/nltk_data...\n",
      "[nltk_data]    |   Unzipping corpora/nonbreaking_prefixes.zip.\n",
      "[nltk_data]    | Downloading package vader_lexicon to\n",
      "[nltk_data]    |     /Users/qavila/nltk_data...\n",
      "[nltk_data]    | \n",
      "[nltk_data]  Done downloading collection all\n"
     ]
    },
    {
     "data": {
      "text/plain": [
       "['Change will not come if we wait for some other person or some other time.',\n",
       " \"We are the ones we've been waiting for.\",\n",
       " 'We are the change that we seek.']"
      ]
     },
     "execution_count": 68,
     "metadata": {},
     "output_type": "execute_result"
    }
   ],
   "source": [
    "import nltk\n",
    "# nltk.download('all')\n",
    "sents = sent_tokenize(text)\n",
    "sents"
   ]
  },
  {
   "cell_type": "code",
   "execution_count": 69,
   "metadata": {
    "collapsed": false
   },
   "outputs": [
    {
     "data": {
      "text/plain": [
       "['Change',\n",
       " 'will',\n",
       " 'not',\n",
       " 'come',\n",
       " 'if',\n",
       " 'we',\n",
       " 'wait',\n",
       " 'for',\n",
       " 'some',\n",
       " 'other',\n",
       " 'person',\n",
       " 'or',\n",
       " 'some',\n",
       " 'other',\n",
       " 'time',\n",
       " '.']"
      ]
     },
     "execution_count": 69,
     "metadata": {},
     "output_type": "execute_result"
    }
   ],
   "source": [
    "tokens = word_tokenize(sents[0])\n",
    "tokens"
   ]
  },
  {
   "cell_type": "code",
   "execution_count": 70,
   "metadata": {
    "collapsed": false
   },
   "outputs": [
    {
     "data": {
      "text/plain": [
       "[('Change', 'NNP'),\n",
       " ('will', 'MD'),\n",
       " ('not', 'RB'),\n",
       " ('come', 'VB'),\n",
       " ('if', 'IN'),\n",
       " ('we', 'PRP'),\n",
       " ('wait', 'VBP'),\n",
       " ('for', 'IN'),\n",
       " ('some', 'DT'),\n",
       " ('other', 'JJ'),\n",
       " ('person', 'NN'),\n",
       " ('or', 'CC'),\n",
       " ('some', 'DT'),\n",
       " ('other', 'JJ'),\n",
       " ('time', 'NN'),\n",
       " ('.', '.')]"
      ]
     },
     "execution_count": 70,
     "metadata": {},
     "output_type": "execute_result"
    }
   ],
   "source": [
    "pos_tag(tokens)"
   ]
  },
  {
   "cell_type": "code",
   "execution_count": 66,
   "metadata": {
    "collapsed": false
   },
   "outputs": [
    {
     "ename": "LookupError",
     "evalue": "\n**********************************************************************\n  Resource u'tokenizers/punkt/english.pickle' not found.  Please\n  use the NLTK Downloader to obtain the resource:  >>>\n  nltk.download()\n  Searched in:\n    - '/Users/qavila/nltk_data'\n    - '/usr/share/nltk_data'\n    - '/usr/local/share/nltk_data'\n    - '/usr/lib/nltk_data'\n    - '/usr/local/lib/nltk_data'\n    - u''\n**********************************************************************",
     "output_type": "error",
     "traceback": [
      "\u001b[0;31m---------------------------------------------------------------------------\u001b[0m",
      "\u001b[0;31mLookupError\u001b[0m                               Traceback (most recent call last)",
      "\u001b[0;32m<ipython-input-66-2d783344cfca>\u001b[0m in \u001b[0;36m<module>\u001b[0;34m()\u001b[0m\n\u001b[0;32m----> 1\u001b[0;31m \u001b[0mpos_tag\u001b[0m\u001b[0;34m(\u001b[0m\u001b[0mword_tokenize\u001b[0m\u001b[0;34m(\u001b[0m\u001b[0;34m\"I cubbed a ball\"\u001b[0m\u001b[0;34m)\u001b[0m\u001b[0;34m)\u001b[0m\u001b[0;34m\u001b[0m\u001b[0m\n\u001b[0m",
      "\u001b[0;32m/Users/qavila/.pyenv/versions/anaconda-2.4.0/lib/python2.7/site-packages/nltk/tokenize/__init__.py\u001b[0m in \u001b[0;36mword_tokenize\u001b[0;34m(text, language)\u001b[0m\n\u001b[1;32m    104\u001b[0m     \u001b[0;34m:\u001b[0m\u001b[0mparam\u001b[0m \u001b[0mlanguage\u001b[0m\u001b[0;34m:\u001b[0m \u001b[0mthe\u001b[0m \u001b[0mmodel\u001b[0m \u001b[0mname\u001b[0m \u001b[0;32min\u001b[0m \u001b[0mthe\u001b[0m \u001b[0mPunkt\u001b[0m \u001b[0mcorpus\u001b[0m\u001b[0;34m\u001b[0m\u001b[0m\n\u001b[1;32m    105\u001b[0m     \"\"\"\n\u001b[0;32m--> 106\u001b[0;31m     return [token for sent in sent_tokenize(text, language)\n\u001b[0m\u001b[1;32m    107\u001b[0m             for token in _treebank_word_tokenize(sent)]\n\u001b[1;32m    108\u001b[0m \u001b[0;34m\u001b[0m\u001b[0m\n",
      "\u001b[0;32m/Users/qavila/.pyenv/versions/anaconda-2.4.0/lib/python2.7/site-packages/nltk/tokenize/__init__.py\u001b[0m in \u001b[0;36msent_tokenize\u001b[0;34m(text, language)\u001b[0m\n\u001b[1;32m     88\u001b[0m     \u001b[0;34m:\u001b[0m\u001b[0mparam\u001b[0m \u001b[0mlanguage\u001b[0m\u001b[0;34m:\u001b[0m \u001b[0mthe\u001b[0m \u001b[0mmodel\u001b[0m \u001b[0mname\u001b[0m \u001b[0;32min\u001b[0m \u001b[0mthe\u001b[0m \u001b[0mPunkt\u001b[0m \u001b[0mcorpus\u001b[0m\u001b[0;34m\u001b[0m\u001b[0m\n\u001b[1;32m     89\u001b[0m     \"\"\"\n\u001b[0;32m---> 90\u001b[0;31m     \u001b[0mtokenizer\u001b[0m \u001b[0;34m=\u001b[0m \u001b[0mload\u001b[0m\u001b[0;34m(\u001b[0m\u001b[0;34m'tokenizers/punkt/{0}.pickle'\u001b[0m\u001b[0;34m.\u001b[0m\u001b[0mformat\u001b[0m\u001b[0;34m(\u001b[0m\u001b[0mlanguage\u001b[0m\u001b[0;34m)\u001b[0m\u001b[0;34m)\u001b[0m\u001b[0;34m\u001b[0m\u001b[0m\n\u001b[0m\u001b[1;32m     91\u001b[0m     \u001b[0;32mreturn\u001b[0m \u001b[0mtokenizer\u001b[0m\u001b[0;34m.\u001b[0m\u001b[0mtokenize\u001b[0m\u001b[0;34m(\u001b[0m\u001b[0mtext\u001b[0m\u001b[0;34m)\u001b[0m\u001b[0;34m\u001b[0m\u001b[0m\n\u001b[1;32m     92\u001b[0m \u001b[0;34m\u001b[0m\u001b[0m\n",
      "\u001b[0;32m/Users/qavila/.pyenv/versions/anaconda-2.4.0/lib/python2.7/site-packages/nltk/data.py\u001b[0m in \u001b[0;36mload\u001b[0;34m(resource_url, format, cache, verbose, logic_parser, fstruct_reader, encoding)\u001b[0m\n\u001b[1;32m    799\u001b[0m \u001b[0;34m\u001b[0m\u001b[0m\n\u001b[1;32m    800\u001b[0m     \u001b[0;31m# Load the resource.\u001b[0m\u001b[0;34m\u001b[0m\u001b[0;34m\u001b[0m\u001b[0m\n\u001b[0;32m--> 801\u001b[0;31m     \u001b[0mopened_resource\u001b[0m \u001b[0;34m=\u001b[0m \u001b[0m_open\u001b[0m\u001b[0;34m(\u001b[0m\u001b[0mresource_url\u001b[0m\u001b[0;34m)\u001b[0m\u001b[0;34m\u001b[0m\u001b[0m\n\u001b[0m\u001b[1;32m    802\u001b[0m \u001b[0;34m\u001b[0m\u001b[0m\n\u001b[1;32m    803\u001b[0m     \u001b[0;32mif\u001b[0m \u001b[0mformat\u001b[0m \u001b[0;34m==\u001b[0m \u001b[0;34m'raw'\u001b[0m\u001b[0;34m:\u001b[0m\u001b[0;34m\u001b[0m\u001b[0m\n",
      "\u001b[0;32m/Users/qavila/.pyenv/versions/anaconda-2.4.0/lib/python2.7/site-packages/nltk/data.py\u001b[0m in \u001b[0;36m_open\u001b[0;34m(resource_url)\u001b[0m\n\u001b[1;32m    917\u001b[0m \u001b[0;34m\u001b[0m\u001b[0m\n\u001b[1;32m    918\u001b[0m     \u001b[0;32mif\u001b[0m \u001b[0mprotocol\u001b[0m \u001b[0;32mis\u001b[0m \u001b[0mNone\u001b[0m \u001b[0;32mor\u001b[0m \u001b[0mprotocol\u001b[0m\u001b[0;34m.\u001b[0m\u001b[0mlower\u001b[0m\u001b[0;34m(\u001b[0m\u001b[0;34m)\u001b[0m \u001b[0;34m==\u001b[0m \u001b[0;34m'nltk'\u001b[0m\u001b[0;34m:\u001b[0m\u001b[0;34m\u001b[0m\u001b[0m\n\u001b[0;32m--> 919\u001b[0;31m         \u001b[0;32mreturn\u001b[0m \u001b[0mfind\u001b[0m\u001b[0;34m(\u001b[0m\u001b[0mpath_\u001b[0m\u001b[0;34m,\u001b[0m \u001b[0mpath\u001b[0m \u001b[0;34m+\u001b[0m \u001b[0;34m[\u001b[0m\u001b[0;34m''\u001b[0m\u001b[0;34m]\u001b[0m\u001b[0;34m)\u001b[0m\u001b[0;34m.\u001b[0m\u001b[0mopen\u001b[0m\u001b[0;34m(\u001b[0m\u001b[0;34m)\u001b[0m\u001b[0;34m\u001b[0m\u001b[0m\n\u001b[0m\u001b[1;32m    920\u001b[0m     \u001b[0;32melif\u001b[0m \u001b[0mprotocol\u001b[0m\u001b[0;34m.\u001b[0m\u001b[0mlower\u001b[0m\u001b[0;34m(\u001b[0m\u001b[0;34m)\u001b[0m \u001b[0;34m==\u001b[0m \u001b[0;34m'file'\u001b[0m\u001b[0;34m:\u001b[0m\u001b[0;34m\u001b[0m\u001b[0m\n\u001b[1;32m    921\u001b[0m         \u001b[0;31m# urllib might not use mode='rb', so handle this one ourselves:\u001b[0m\u001b[0;34m\u001b[0m\u001b[0;34m\u001b[0m\u001b[0m\n",
      "\u001b[0;32m/Users/qavila/.pyenv/versions/anaconda-2.4.0/lib/python2.7/site-packages/nltk/data.py\u001b[0m in \u001b[0;36mfind\u001b[0;34m(resource_name, paths)\u001b[0m\n\u001b[1;32m    639\u001b[0m     \u001b[0msep\u001b[0m \u001b[0;34m=\u001b[0m \u001b[0;34m'*'\u001b[0m \u001b[0;34m*\u001b[0m \u001b[0;36m70\u001b[0m\u001b[0;34m\u001b[0m\u001b[0m\n\u001b[1;32m    640\u001b[0m     \u001b[0mresource_not_found\u001b[0m \u001b[0;34m=\u001b[0m \u001b[0;34m'\\n%s\\n%s\\n%s'\u001b[0m \u001b[0;34m%\u001b[0m \u001b[0;34m(\u001b[0m\u001b[0msep\u001b[0m\u001b[0;34m,\u001b[0m \u001b[0mmsg\u001b[0m\u001b[0;34m,\u001b[0m \u001b[0msep\u001b[0m\u001b[0;34m)\u001b[0m\u001b[0;34m\u001b[0m\u001b[0m\n\u001b[0;32m--> 641\u001b[0;31m     \u001b[0;32mraise\u001b[0m \u001b[0mLookupError\u001b[0m\u001b[0;34m(\u001b[0m\u001b[0mresource_not_found\u001b[0m\u001b[0;34m)\u001b[0m\u001b[0;34m\u001b[0m\u001b[0m\n\u001b[0m\u001b[1;32m    642\u001b[0m \u001b[0;34m\u001b[0m\u001b[0m\n\u001b[1;32m    643\u001b[0m \u001b[0;34m\u001b[0m\u001b[0m\n",
      "\u001b[0;31mLookupError\u001b[0m: \n**********************************************************************\n  Resource u'tokenizers/punkt/english.pickle' not found.  Please\n  use the NLTK Downloader to obtain the resource:  >>>\n  nltk.download()\n  Searched in:\n    - '/Users/qavila/nltk_data'\n    - '/usr/share/nltk_data'\n    - '/usr/local/share/nltk_data'\n    - '/usr/lib/nltk_data'\n    - '/usr/local/lib/nltk_data'\n    - u''\n**********************************************************************"
     ]
    }
   ],
   "source": [
    "pos_tag(word_tokenize(\"I cubbed a ball\"))"
   ]
  },
  {
   "cell_type": "code",
   "execution_count": null,
   "metadata": {
    "collapsed": true
   },
   "outputs": [],
   "source": []
  },
  {
   "cell_type": "markdown",
   "metadata": {},
   "source": [
    "#### Numpy\n",
    "\n",
    "http://phillipmfeldman.org/Python/Advantages_of_Python_Over_Matlab.html\n",
    "\n",
    "> Python's support for automatic broadcasting allows for cleaner, more readable code. The following is a sample of Matlab code that performs element-wise subtraction and multiplication of arrays with broadcasting, where A has dimensions 20&times;1&times;15, B is 20&times;12&times;1, and C is 1&times;12&times;15:\n",
    "\n",
    ">     D = bsxfun(@times, bsxfun(@minus, B, C), A);\n",
    "\n",
    "> The corresponding Python/Numpy code below looks exactly like the equation that it implements:\n",
    "\n",
    ">     D = A * (B - C)\n",
    "    \n",
    "Matlab users can [check the Numpy docs][npmatlab] for how to \"translate\" Matlab to Numpy\n",
    "\n",
    "[npmatlab]: https://docs.scipy.org/doc/numpy-dev/user/numpy-for-matlab-users.html#table-of-rough-matlab-numpy-equivalents"
   ]
  },
  {
   "cell_type": "code",
   "execution_count": 67,
   "metadata": {
    "collapsed": false
   },
   "outputs": [
    {
     "name": "stdout",
     "output_type": "stream",
     "text": [
      "-- Numpy --\n",
      "10000 loops, best of 3: 34.7 µs per loop\n",
      "-- Python --\n",
      "1000 loops, best of 3: 520 µs per loop\n"
     ]
    }
   ],
   "source": [
    "from numpy import arange\n",
    "\n",
    "Nelements = 100000\n",
    "\n",
    "x = arange(Nelements)\n",
    "y = range(Nelements)\n",
    "\n",
    "print('-- Numpy --')\n",
    "%timeit x.sum()\n",
    "\n",
    "print('-- Python --')\n",
    "%timeit sum(y)"
   ]
  },
  {
   "cell_type": "code",
   "execution_count": null,
   "metadata": {
    "collapsed": true
   },
   "outputs": [],
   "source": []
  }
 ],
 "metadata": {
  "kernelspec": {
   "display_name": "Python 2",
   "language": "python",
   "name": "python2"
  },
  "language_info": {
   "codemirror_mode": {
    "name": "ipython",
    "version": 2
   },
   "file_extension": ".py",
   "mimetype": "text/x-python",
   "name": "python",
   "nbconvert_exporter": "python",
   "pygments_lexer": "ipython2",
   "version": "2.7.10"
  }
 },
 "nbformat": 4,
 "nbformat_minor": 0
}
