{
 "cells": [
  {
   "cell_type": "markdown",
   "metadata": {},
   "source": [
    "# Class II Outline\n",
    "\n",
    "* Homework review\n",
    "* How Python works\n",
    "    * on disk `.py` files\n",
    "    * interpreter\n",
    "    * IDEs & editors\n",
    "    * Jupyter notebook \n",
    "    * modules \n",
    "* Built-in types review\n",
    "    * int/float/decimal\n",
    "    * str/unicode\n",
    "    * list/tuple/set\n",
    "    * dictionaries / ordereddicts \n",
    "    * scope\n",
    "* Intro to packages\n",
    "    * NLTK\n",
    "    * Numpy \n",
    "* Next week outlook\n",
    "    * pair-coding exercise \n",
    "* Post-class office hours\n",
    "\n",
    "\n",
    "## How works this Python?\n",
    "\n",
    "\n",
    "<img src=\"how_works.png\"/>\n",
    "\n",
    "\n",
    "### On disk\n",
    "\n",
    "#### 1. Make file\n",
    "\n",
    "Example file \"`say_hello.py`\":\n",
    "\n",
    "```python\n",
    "print(\"Hello World\")\n",
    "```\n",
    "\n",
    "#### 2. Call file\n",
    "\n",
    "```bash\n",
    "python say_hello.py\n",
    "```\n",
    "\n",
    "#### 3. Expected output\n",
    "\n",
    "```bash\n",
    "Hello World\n",
    "```\n",
    "\n",
    "### In interpreter\n",
    "\n",
    "An Read-Eval-Print Loop (REPL) 'interpreter'\n",
    "\n",
    "```bash\n",
    "python\n",
    "Python 2.7 (#1, Feb 28 2010, 00:02:06)\n",
    "Type \"help\", \"copyright\", \"credits\" or \"license\" for more information.\n",
    ">>>\n",
    "```\n",
    "\n",
    "IPython; a better Python shell\n",
    "\n",
    "```python\n",
    "Python 2.7.11 |Anaconda 2.2.0 (x86_64)| (default, Dec  6 2015, 18:57:58) \n",
    "Type \"copyright\", \"credits\" or \"license\" for more information.\n",
    "\n",
    "IPython 4.1.2 -- An enhanced Interactive Python.\n",
    "?         -> Introduction and overview of IPython's features.\n",
    "%quickref -> Quick reference.\n",
    "help      -> Python's own help system.\n",
    "object?   -> Details about 'object', use 'object??' for extra details.\n",
    "\n",
    "In [1]: \n",
    "```\n",
    "Or in this notebook"
   ]
  },
  {
   "cell_type": "code",
   "execution_count": 1,
   "metadata": {
    "collapsed": false
   },
   "outputs": [
    {
     "name": "stdout",
     "output_type": "stream",
     "text": [
      "Hello World\n"
     ]
    }
   ],
   "source": [
    "from __future__ import print_function\n",
    "\n",
    "print(\"Hello World\")"
   ]
  },
  {
   "cell_type": "markdown",
   "metadata": {},
   "source": [
    "Jupyter Notebook tips:\n",
    "\n",
    "* Help >> User Interface Tour\n",
    "* Command mode vs. Edit mode (modal editor)\n",
    "* Keyboard shortcut cheat-sheet: Hit <kbd>H</kbd> in command mode (<kbd>Esc</kbd> first)    "
   ]
  },
  {
   "cell_type": "markdown",
   "metadata": {},
   "source": [
    "## Editors vs IDEs \n",
    "\n",
    "An Editor (like Sublime Text or VIM):\n",
    "\n",
    "<img src=\"sublime_text.png\"/>\n",
    "\n",
    "Or a full IDE (like PyCharm):\n",
    "\n",
    "<img src=\"pycharm.jpg\"/>\n",
    "\n"
   ]
  },
  {
   "cell_type": "markdown",
   "metadata": {
    "collapsed": true
   },
   "source": [
    "### modules\n",
    "\n",
    "Let's build our own.\n",
    "\n",
    "```\n",
    "foo_module/\n",
    "  |\n",
    "  +-__init__.py\n",
    "  |\n",
    "  +-bar.py\n",
    "```\n",
    "\n",
    "\n",
    "[browse](/tree/foo_module)"
   ]
  },
  {
   "cell_type": "code",
   "execution_count": 2,
   "metadata": {
    "collapsed": false
   },
   "outputs": [],
   "source": [
    "import foo_module"
   ]
  },
  {
   "cell_type": "code",
   "execution_count": 3,
   "metadata": {
    "collapsed": false
   },
   "outputs": [
    {
     "data": {
      "text/plain": [
       "1"
      ]
     },
     "execution_count": 3,
     "metadata": {},
     "output_type": "execute_result"
    }
   ],
   "source": [
    "foo_module.bar.a"
   ]
  },
  {
   "cell_type": "markdown",
   "metadata": {
    "collapsed": true
   },
   "source": [
    "## Built-in types review\n",
    "\n",
    " * int/float/decimal\n",
    " * str/unicode\n",
    " * list/tuple/set\n",
    " * dictionaries / ordereddicts \n",
    " * scope\n",
    " \n",
    "How to define a variable:\n",
    "\n",
    "| Language   | Syntax                                   | Example                                                            |\n",
    "|------------|------------------------------------------|--------------------------------------------------------------------|\n",
    "| Javascript | var variable = new class(parameters)     | my_int_array = new Array();                                        |\n",
    "| Java/C#    | class variable = new class(parameters);  | int[] my_int_array = new int[10];                                  |\n",
    "| C/C++      | class *variable = new class(parameters); | int *my_int_array,= new int[10];                                   |\n",
    "| VB         | Dim variable As New class(parameters)    | Dim my_int_array (10) As Integer                                   |\n",
    "| Ruby       | variable = class.new(parameters)         | my_int_array = Array.new(10)                                       |\n",
    "|  Python    | variable = class(parameters)             | my_int_array = [] ## or use arrays: my_array = array('i', [1,2,3,4,5]) |"
   ]
  },
  {
   "cell_type": "code",
   "execution_count": 4,
   "metadata": {
    "collapsed": false
   },
   "outputs": [
    {
     "name": "stdout",
     "output_type": "stream",
     "text": [
      "1 <class 'int'>\n"
     ]
    }
   ],
   "source": [
    "i = 1\n",
    "print(i, type(i))"
   ]
  },
  {
   "cell_type": "code",
   "execution_count": 5,
   "metadata": {
    "collapsed": false
   },
   "outputs": [
    {
     "name": "stdout",
     "output_type": "stream",
     "text": [
      "1.0 <class 'float'>\n"
     ]
    }
   ],
   "source": [
    "i = 1.0\n",
    "print(i, type(i))"
   ]
  },
  {
   "cell_type": "code",
   "execution_count": 6,
   "metadata": {
    "collapsed": true
   },
   "outputs": [],
   "source": [
    "import decimal"
   ]
  },
  {
   "cell_type": "code",
   "execution_count": null,
   "metadata": {
    "collapsed": false
   },
   "outputs": [],
   "source": [
    "decimal.D"
   ]
  },
  {
   "cell_type": "code",
   "execution_count": 8,
   "metadata": {
    "collapsed": false
   },
   "outputs": [
    {
     "name": "stdout",
     "output_type": "stream",
     "text": [
      "Help on class Decimal in module decimal:\n",
      "\n",
      "class Decimal(builtins.object)\n",
      " |  Construct a new Decimal object. 'value' can be an integer, string, tuple,\n",
      " |  or another Decimal object. If no value is given, return Decimal('0'). The\n",
      " |  context does not affect the conversion and is only passed to determine if\n",
      " |  the InvalidOperation trap is active.\n",
      " |  \n",
      " |  Methods defined here:\n",
      " |  \n",
      " |  __abs__(self, /)\n",
      " |      abs(self)\n",
      " |  \n",
      " |  __add__(self, value, /)\n",
      " |      Return self+value.\n",
      " |  \n",
      " |  __bool__(self, /)\n",
      " |      self != 0\n",
      " |  \n",
      " |  __ceil__(...)\n",
      " |  \n",
      " |  __complex__(...)\n",
      " |  \n",
      " |  __copy__(...)\n",
      " |  \n",
      " |  __deepcopy__(...)\n",
      " |  \n",
      " |  __divmod__(self, value, /)\n",
      " |      Return divmod(self, value).\n",
      " |  \n",
      " |  __eq__(self, value, /)\n",
      " |      Return self==value.\n",
      " |  \n",
      " |  __float__(self, /)\n",
      " |      float(self)\n",
      " |  \n",
      " |  __floor__(...)\n",
      " |  \n",
      " |  __floordiv__(self, value, /)\n",
      " |      Return self//value.\n",
      " |  \n",
      " |  __format__(...)\n",
      " |      default object formatter\n",
      " |  \n",
      " |  __ge__(self, value, /)\n",
      " |      Return self>=value.\n",
      " |  \n",
      " |  __getattribute__(self, name, /)\n",
      " |      Return getattr(self, name).\n",
      " |  \n",
      " |  __gt__(self, value, /)\n",
      " |      Return self>value.\n",
      " |  \n",
      " |  __hash__(self, /)\n",
      " |      Return hash(self).\n",
      " |  \n",
      " |  __int__(self, /)\n",
      " |      int(self)\n",
      " |  \n",
      " |  __le__(self, value, /)\n",
      " |      Return self<=value.\n",
      " |  \n",
      " |  __lt__(self, value, /)\n",
      " |      Return self<value.\n",
      " |  \n",
      " |  __mod__(self, value, /)\n",
      " |      Return self%value.\n",
      " |  \n",
      " |  __mul__(self, value, /)\n",
      " |      Return self*value.\n",
      " |  \n",
      " |  __ne__(self, value, /)\n",
      " |      Return self!=value.\n",
      " |  \n",
      " |  __neg__(self, /)\n",
      " |      -self\n",
      " |  \n",
      " |  __new__(*args, **kwargs) from builtins.type\n",
      " |      Create and return a new object.  See help(type) for accurate signature.\n",
      " |  \n",
      " |  __pos__(self, /)\n",
      " |      +self\n",
      " |  \n",
      " |  __pow__(self, value, mod=None, /)\n",
      " |      Return pow(self, value, mod).\n",
      " |  \n",
      " |  __radd__(self, value, /)\n",
      " |      Return value+self.\n",
      " |  \n",
      " |  __rdivmod__(self, value, /)\n",
      " |      Return divmod(value, self).\n",
      " |  \n",
      " |  __reduce__(...)\n",
      " |      helper for pickle\n",
      " |  \n",
      " |  __repr__(self, /)\n",
      " |      Return repr(self).\n",
      " |  \n",
      " |  __rfloordiv__(self, value, /)\n",
      " |      Return value//self.\n",
      " |  \n",
      " |  __rmod__(self, value, /)\n",
      " |      Return value%self.\n",
      " |  \n",
      " |  __rmul__(self, value, /)\n",
      " |      Return value*self.\n",
      " |  \n",
      " |  __round__(...)\n",
      " |  \n",
      " |  __rpow__(self, value, mod=None, /)\n",
      " |      Return pow(value, self, mod).\n",
      " |  \n",
      " |  __rsub__(self, value, /)\n",
      " |      Return value-self.\n",
      " |  \n",
      " |  __rtruediv__(self, value, /)\n",
      " |      Return value/self.\n",
      " |  \n",
      " |  __sizeof__(...)\n",
      " |      __sizeof__() -> int\n",
      " |      size of object in memory, in bytes\n",
      " |  \n",
      " |  __str__(self, /)\n",
      " |      Return str(self).\n",
      " |  \n",
      " |  __sub__(self, value, /)\n",
      " |      Return self-value.\n",
      " |  \n",
      " |  __truediv__(self, value, /)\n",
      " |      Return self/value.\n",
      " |  \n",
      " |  __trunc__(...)\n",
      " |  \n",
      " |  adjusted(self, /)\n",
      " |      Return the adjusted exponent of the number.  Defined as exp + digits - 1.\n",
      " |  \n",
      " |  as_tuple(self, /)\n",
      " |      Return a tuple representation of the number.\n",
      " |  \n",
      " |  canonical(self, /)\n",
      " |      Return the canonical encoding of the argument.  Currently, the encoding\n",
      " |      of a Decimal instance is always canonical, so this operation returns its\n",
      " |      argument unchanged.\n",
      " |  \n",
      " |  compare(self, /, other, context=None)\n",
      " |      Compare self to other.  Return a decimal value:\n",
      " |      \n",
      " |      a or b is a NaN ==> Decimal('NaN')\n",
      " |      a < b           ==> Decimal('-1')\n",
      " |      a == b          ==> Decimal('0')\n",
      " |      a > b           ==> Decimal('1')\n",
      " |  \n",
      " |  compare_signal(self, /, other, context=None)\n",
      " |      Identical to compare, except that all NaNs signal.\n",
      " |  \n",
      " |  compare_total(self, /, other, context=None)\n",
      " |      Compare two operands using their abstract representation rather than\n",
      " |      their numerical value.  Similar to the compare() method, but the result\n",
      " |      gives a total ordering on Decimal instances.  Two Decimal instances with\n",
      " |      the same numeric value but different representations compare unequal\n",
      " |      in this ordering:\n",
      " |      \n",
      " |          >>> Decimal('12.0').compare_total(Decimal('12'))\n",
      " |          Decimal('-1')\n",
      " |      \n",
      " |      Quiet and signaling NaNs are also included in the total ordering. The result\n",
      " |      of this function is Decimal('0') if both operands have the same representation,\n",
      " |      Decimal('-1') if the first operand is lower in the total order than the second,\n",
      " |      and Decimal('1') if the first operand is higher in the total order than the\n",
      " |      second operand. See the specification for details of the total order.\n",
      " |      \n",
      " |      This operation is unaffected by context and is quiet: no flags are changed\n",
      " |      and no rounding is performed. As an exception, the C version may raise\n",
      " |      InvalidOperation if the second operand cannot be converted exactly.\n",
      " |  \n",
      " |  compare_total_mag(self, /, other, context=None)\n",
      " |      Compare two operands using their abstract representation rather than their\n",
      " |      value as in compare_total(), but ignoring the sign of each operand.\n",
      " |      \n",
      " |      x.compare_total_mag(y) is equivalent to x.copy_abs().compare_total(y.copy_abs()).\n",
      " |      \n",
      " |      This operation is unaffected by context and is quiet: no flags are changed\n",
      " |      and no rounding is performed. As an exception, the C version may raise\n",
      " |      InvalidOperation if the second operand cannot be converted exactly.\n",
      " |  \n",
      " |  conjugate(self, /)\n",
      " |      Return self.\n",
      " |  \n",
      " |  copy_abs(self, /)\n",
      " |      Return the absolute value of the argument.  This operation is unaffected by\n",
      " |      context and is quiet: no flags are changed and no rounding is performed.\n",
      " |  \n",
      " |  copy_negate(self, /)\n",
      " |      Return the negation of the argument.  This operation is unaffected by context\n",
      " |      and is quiet: no flags are changed and no rounding is performed.\n",
      " |  \n",
      " |  copy_sign(self, /, other, context=None)\n",
      " |      Return a copy of the first operand with the sign set to be the same as the\n",
      " |      sign of the second operand. For example:\n",
      " |      \n",
      " |          >>> Decimal('2.3').copy_sign(Decimal('-1.5'))\n",
      " |          Decimal('-2.3')\n",
      " |      \n",
      " |      This operation is unaffected by context and is quiet: no flags are changed\n",
      " |      and no rounding is performed. As an exception, the C version may raise\n",
      " |      InvalidOperation if the second operand cannot be converted exactly.\n",
      " |  \n",
      " |  exp(self, /, context=None)\n",
      " |      Return the value of the (natural) exponential function e**x at the given\n",
      " |      number.  The function always uses the ROUND_HALF_EVEN mode and the result\n",
      " |      is correctly rounded.\n",
      " |  \n",
      " |  fma(self, /, other, third, context=None)\n",
      " |      Fused multiply-add.  Return self*other+third with no rounding of the\n",
      " |      intermediate product self*other.\n",
      " |      \n",
      " |          >>> Decimal(2).fma(3, 5)\n",
      " |          Decimal('11')\n",
      " |  \n",
      " |  from_float(f, /) from builtins.type\n",
      " |      Class method that converts a float to a decimal number, exactly.\n",
      " |      Since 0.1 is not exactly representable in binary floating point,\n",
      " |      Decimal.from_float(0.1) is not the same as Decimal('0.1').\n",
      " |      \n",
      " |          >>> Decimal.from_float(0.1)\n",
      " |          Decimal('0.1000000000000000055511151231257827021181583404541015625')\n",
      " |          >>> Decimal.from_float(float('nan'))\n",
      " |          Decimal('NaN')\n",
      " |          >>> Decimal.from_float(float('inf'))\n",
      " |          Decimal('Infinity')\n",
      " |          >>> Decimal.from_float(float('-inf'))\n",
      " |          Decimal('-Infinity')\n",
      " |  \n",
      " |  is_canonical(self, /)\n",
      " |      Return True if the argument is canonical and False otherwise.  Currently,\n",
      " |      a Decimal instance is always canonical, so this operation always returns\n",
      " |      True.\n",
      " |  \n",
      " |  is_finite(self, /)\n",
      " |      Return True if the argument is a finite number, and False if the argument\n",
      " |      is infinite or a NaN.\n",
      " |  \n",
      " |  is_infinite(self, /)\n",
      " |      Return True if the argument is either positive or negative infinity and\n",
      " |      False otherwise.\n",
      " |  \n",
      " |  is_nan(self, /)\n",
      " |      Return True if the argument is a (quiet or signaling) NaN and False\n",
      " |      otherwise.\n",
      " |  \n",
      " |  is_normal(self, /, context=None)\n",
      " |      Return True if the argument is a normal finite non-zero number with an\n",
      " |      adjusted exponent greater than or equal to Emin. Return False if the\n",
      " |      argument is zero, subnormal, infinite or a NaN.\n",
      " |  \n",
      " |  is_qnan(self, /)\n",
      " |      Return True if the argument is a quiet NaN, and False otherwise.\n",
      " |  \n",
      " |  is_signed(self, /)\n",
      " |      Return True if the argument has a negative sign and False otherwise.\n",
      " |      Note that both zeros and NaNs can carry signs.\n",
      " |  \n",
      " |  is_snan(self, /)\n",
      " |      Return True if the argument is a signaling NaN and False otherwise.\n",
      " |  \n",
      " |  is_subnormal(self, /, context=None)\n",
      " |      Return True if the argument is subnormal, and False otherwise. A number is\n",
      " |      subnormal if it is non-zero, finite, and has an adjusted exponent less\n",
      " |      than Emin.\n",
      " |  \n",
      " |  is_zero(self, /)\n",
      " |      Return True if the argument is a (positive or negative) zero and False\n",
      " |      otherwise.\n",
      " |  \n",
      " |  ln(self, /, context=None)\n",
      " |      Return the natural (base e) logarithm of the operand. The function always\n",
      " |      uses the ROUND_HALF_EVEN mode and the result is correctly rounded.\n",
      " |  \n",
      " |  log10(self, /, context=None)\n",
      " |      Return the base ten logarithm of the operand. The function always uses the\n",
      " |      ROUND_HALF_EVEN mode and the result is correctly rounded.\n",
      " |  \n",
      " |  logb(self, /, context=None)\n",
      " |      For a non-zero number, return the adjusted exponent of the operand as a\n",
      " |      Decimal instance.  If the operand is a zero, then Decimal('-Infinity') is\n",
      " |      returned and the DivisionByZero condition is raised. If the operand is\n",
      " |      an infinity then Decimal('Infinity') is returned.\n",
      " |  \n",
      " |  logical_and(self, /, other, context=None)\n",
      " |      Return the digit-wise 'and' of the two (logical) operands.\n",
      " |  \n",
      " |  logical_invert(self, /, context=None)\n",
      " |      Return the digit-wise inversion of the (logical) operand.\n",
      " |  \n",
      " |  logical_or(self, /, other, context=None)\n",
      " |      Return the digit-wise 'or' of the two (logical) operands.\n",
      " |  \n",
      " |  logical_xor(self, /, other, context=None)\n",
      " |      Return the digit-wise 'exclusive or' of the two (logical) operands.\n",
      " |  \n",
      " |  max(self, /, other, context=None)\n",
      " |      Maximum of self and other.  If one operand is a quiet NaN and the other is\n",
      " |      numeric, the numeric operand is returned.\n",
      " |  \n",
      " |  max_mag(self, /, other, context=None)\n",
      " |      Similar to the max() method, but the comparison is done using the absolute\n",
      " |      values of the operands.\n",
      " |  \n",
      " |  min(self, /, other, context=None)\n",
      " |      Minimum of self and other. If one operand is a quiet NaN and the other is\n",
      " |      numeric, the numeric operand is returned.\n",
      " |  \n",
      " |  min_mag(self, /, other, context=None)\n",
      " |      Similar to the min() method, but the comparison is done using the absolute\n",
      " |      values of the operands.\n",
      " |  \n",
      " |  next_minus(self, /, context=None)\n",
      " |      Return the largest number representable in the given context (or in the\n",
      " |      current default context if no context is given) that is smaller than the\n",
      " |      given operand.\n",
      " |  \n",
      " |  next_plus(self, /, context=None)\n",
      " |      Return the smallest number representable in the given context (or in the\n",
      " |      current default context if no context is given) that is larger than the\n",
      " |      given operand.\n",
      " |  \n",
      " |  next_toward(self, /, other, context=None)\n",
      " |      If the two operands are unequal, return the number closest to the first\n",
      " |      operand in the direction of the second operand.  If both operands are\n",
      " |      numerically equal, return a copy of the first operand with the sign set\n",
      " |      to be the same as the sign of the second operand.\n",
      " |  \n",
      " |  normalize(self, /, context=None)\n",
      " |      Normalize the number by stripping the rightmost trailing zeros and\n",
      " |      converting any result equal to Decimal('0') to Decimal('0e0').  Used\n",
      " |      for producing canonical values for members of an equivalence class.\n",
      " |      For example, Decimal('32.100') and Decimal('0.321000e+2') both normalize\n",
      " |      to the equivalent value Decimal('32.1').\n",
      " |  \n",
      " |  number_class(self, /, context=None)\n",
      " |      Return a string describing the class of the operand.  The returned value\n",
      " |      is one of the following ten strings:\n",
      " |      \n",
      " |          * '-Infinity', indicating that the operand is negative infinity.\n",
      " |          * '-Normal', indicating that the operand is a negative normal number.\n",
      " |          * '-Subnormal', indicating that the operand is negative and subnormal.\n",
      " |          * '-Zero', indicating that the operand is a negative zero.\n",
      " |          * '+Zero', indicating that the operand is a positive zero.\n",
      " |          * '+Subnormal', indicating that the operand is positive and subnormal.\n",
      " |          * '+Normal', indicating that the operand is a positive normal number.\n",
      " |          * '+Infinity', indicating that the operand is positive infinity.\n",
      " |          * 'NaN', indicating that the operand is a quiet NaN (Not a Number).\n",
      " |          * 'sNaN', indicating that the operand is a signaling NaN.\n",
      " |  \n",
      " |  quantize(self, /, exp, rounding=None, context=None)\n",
      " |      Return a value equal to the first operand after rounding and having the\n",
      " |      exponent of the second operand.\n",
      " |      \n",
      " |          >>> Decimal('1.41421356').quantize(Decimal('1.000'))\n",
      " |          Decimal('1.414')\n",
      " |      \n",
      " |      Unlike other operations, if the length of the coefficient after the quantize\n",
      " |      operation would be greater than precision, then an InvalidOperation is signaled.\n",
      " |      This guarantees that, unless there is an error condition, the quantized exponent\n",
      " |      is always equal to that of the right-hand operand.\n",
      " |      \n",
      " |      Also unlike other operations, quantize never signals Underflow, even if the\n",
      " |      result is subnormal and inexact.\n",
      " |      \n",
      " |      If the exponent of the second operand is larger than that of the first, then\n",
      " |      rounding may be necessary. In this case, the rounding mode is determined by the\n",
      " |      rounding argument if given, else by the given context argument; if neither\n",
      " |      argument is given, the rounding mode of the current thread's context is used.\n",
      " |  \n",
      " |  radix(self, /)\n",
      " |      Return Decimal(10), the radix (base) in which the Decimal class does\n",
      " |      all its arithmetic. Included for compatibility with the specification.\n",
      " |  \n",
      " |  remainder_near(self, /, other, context=None)\n",
      " |      Return the remainder from dividing self by other.  This differs from\n",
      " |      self % other in that the sign of the remainder is chosen so as to minimize\n",
      " |      its absolute value. More precisely, the return value is self - n * other\n",
      " |      where n is the integer nearest to the exact value of self / other, and\n",
      " |      if two integers are equally near then the even one is chosen.\n",
      " |      \n",
      " |      If the result is zero then its sign will be the sign of self.\n",
      " |  \n",
      " |  rotate(self, /, other, context=None)\n",
      " |      Return the result of rotating the digits of the first operand by an amount\n",
      " |      specified by the second operand.  The second operand must be an integer in\n",
      " |      the range -precision through precision. The absolute value of the second\n",
      " |      operand gives the number of places to rotate. If the second operand is\n",
      " |      positive then rotation is to the left; otherwise rotation is to the right.\n",
      " |      The coefficient of the first operand is padded on the left with zeros to\n",
      " |      length precision if necessary. The sign and exponent of the first operand are\n",
      " |      unchanged.\n",
      " |  \n",
      " |  same_quantum(self, /, other, context=None)\n",
      " |      Test whether self and other have the same exponent or whether both are NaN.\n",
      " |      \n",
      " |      This operation is unaffected by context and is quiet: no flags are changed\n",
      " |      and no rounding is performed. As an exception, the C version may raise\n",
      " |      InvalidOperation if the second operand cannot be converted exactly.\n",
      " |  \n",
      " |  scaleb(self, /, other, context=None)\n",
      " |      Return the first operand with the exponent adjusted the second.  Equivalently,\n",
      " |      return the first operand multiplied by 10**other. The second operand must be\n",
      " |      an integer.\n",
      " |  \n",
      " |  shift(self, /, other, context=None)\n",
      " |      Return the result of shifting the digits of the first operand by an amount\n",
      " |      specified by the second operand.  The second operand must be an integer in\n",
      " |      the range -precision through precision. The absolute value of the second\n",
      " |      operand gives the number of places to shift. If the second operand is\n",
      " |      positive, then the shift is to the left; otherwise the shift is to the\n",
      " |      right. Digits shifted into the coefficient are zeros. The sign and exponent\n",
      " |      of the first operand are unchanged.\n",
      " |  \n",
      " |  sqrt(self, /, context=None)\n",
      " |      Return the square root of the argument to full precision. The result is\n",
      " |      correctly rounded using the ROUND_HALF_EVEN rounding mode.\n",
      " |  \n",
      " |  to_eng_string(self, /, context=None)\n",
      " |      Convert to an engineering-type string.  Engineering notation has an exponent\n",
      " |      which is a multiple of 3, so there are up to 3 digits left of the decimal\n",
      " |      place. For example, Decimal('123E+1') is converted to Decimal('1.23E+3').\n",
      " |      \n",
      " |      The value of context.capitals determines whether the exponent sign is lower\n",
      " |      or upper case. Otherwise, the context does not affect the operation.\n",
      " |  \n",
      " |  to_integral(self, /, rounding=None, context=None)\n",
      " |      Identical to the to_integral_value() method.  The to_integral() name has been\n",
      " |      kept for compatibility with older versions.\n",
      " |  \n",
      " |  to_integral_exact(self, /, rounding=None, context=None)\n",
      " |      Round to the nearest integer, signaling Inexact or Rounded as appropriate if\n",
      " |      rounding occurs.  The rounding mode is determined by the rounding parameter\n",
      " |      if given, else by the given context. If neither parameter is given, then the\n",
      " |      rounding mode of the current default context is used.\n",
      " |  \n",
      " |  to_integral_value(self, /, rounding=None, context=None)\n",
      " |      Round to the nearest integer without signaling Inexact or Rounded.  The\n",
      " |      rounding mode is determined by the rounding parameter if given, else by\n",
      " |      the given context. If neither parameter is given, then the rounding mode\n",
      " |      of the current default context is used.\n",
      " |  \n",
      " |  ----------------------------------------------------------------------\n",
      " |  Data descriptors defined here:\n",
      " |  \n",
      " |  imag\n",
      " |  \n",
      " |  real\n",
      "\n"
     ]
    }
   ],
   "source": [
    "from decimal import Decimal\n",
    "# altrnative to IEEE floating point version implemented by most computer hardware\n",
    "help(Decimal)"
   ]
  },
  {
   "cell_type": "code",
   "execution_count": 9,
   "metadata": {
    "collapsed": false
   },
   "outputs": [
    {
     "data": {
      "text/plain": [
       "Decimal('1.0')"
      ]
     },
     "execution_count": 9,
     "metadata": {},
     "output_type": "execute_result"
    }
   ],
   "source": [
    "i = Decimal(\"1.0\")\n",
    "i"
   ]
  },
  {
   "cell_type": "code",
   "execution_count": 10,
   "metadata": {
    "collapsed": false
   },
   "outputs": [
    {
     "data": {
      "text/plain": [
       "Decimal('0.01')"
      ]
     },
     "execution_count": 10,
     "metadata": {},
     "output_type": "execute_result"
    }
   ],
   "source": [
    "Decimal(\"1.0\") - Decimal(\".99\")"
   ]
  },
  {
   "cell_type": "code",
   "execution_count": 11,
   "metadata": {
    "collapsed": false
   },
   "outputs": [
    {
     "data": {
      "text/plain": [
       "\"I'm a String\""
      ]
     },
     "execution_count": 11,
     "metadata": {},
     "output_type": "execute_result"
    }
   ],
   "source": [
    "i = \"I'm a String\"\n",
    "i"
   ]
  },
  {
   "cell_type": "code",
   "execution_count": 12,
   "metadata": {
    "collapsed": false
   },
   "outputs": [
    {
     "name": "stdout",
     "output_type": "stream",
     "text": [
      "So \n",
      "Am I!\n",
      "But triple quoted\n"
     ]
    }
   ],
   "source": [
    "i = \"\"\"So \n",
    "Am I!\n",
    "But triple quoted\"\"\"\n",
    "print(i)"
   ]
  },
  {
   "cell_type": "code",
   "execution_count": 13,
   "metadata": {
    "collapsed": false
   },
   "outputs": [
    {
     "data": {
      "text/plain": [
       "str"
      ]
     },
     "execution_count": 13,
     "metadata": {},
     "output_type": "execute_result"
    }
   ],
   "source": [
    "type(i)"
   ]
  },
  {
   "cell_type": "code",
   "execution_count": 16,
   "metadata": {
    "collapsed": false
   },
   "outputs": [
    {
     "name": "stdout",
     "output_type": "stream",
     "text": [
      "a\n",
      "b\n"
     ]
    }
   ],
   "source": [
    "i = \"a\\nb\"\n",
    "\n",
    "print(i)"
   ]
  },
  {
   "cell_type": "markdown",
   "metadata": {},
   "source": [
    "Raw string"
   ]
  },
  {
   "cell_type": "code",
   "execution_count": 17,
   "metadata": {
    "collapsed": false
   },
   "outputs": [
    {
     "name": "stdout",
     "output_type": "stream",
     "text": [
      "a\\nb\n"
     ]
    }
   ],
   "source": [
    "i = r\"a\\nb\"\n",
    "print(i)"
   ]
  },
  {
   "cell_type": "markdown",
   "metadata": {},
   "source": [
    "Unicode"
   ]
  },
  {
   "cell_type": "code",
   "execution_count": 18,
   "metadata": {
    "collapsed": false
   },
   "outputs": [
    {
     "name": "stdout",
     "output_type": "stream",
     "text": [
      "(ง'̀-'́)ง\n"
     ]
    }
   ],
   "source": [
    "i = u\"(\\u0e07'\\u0300-'\\u0301)\\u0e07\"\n",
    "print(i)"
   ]
  },
  {
   "cell_type": "markdown",
   "metadata": {},
   "source": [
    "#### List/Tuple/Set"
   ]
  },
  {
   "cell_type": "code",
   "execution_count": 19,
   "metadata": {
    "collapsed": false
   },
   "outputs": [
    {
     "data": {
      "text/plain": [
       "True"
      ]
     },
     "execution_count": 19,
     "metadata": {},
     "output_type": "execute_result"
    }
   ],
   "source": [
    "(1, 2, 3) != [1, 2, 3]"
   ]
  },
  {
   "cell_type": "code",
   "execution_count": 20,
   "metadata": {
    "collapsed": true
   },
   "outputs": [],
   "source": [
    "a = [1, 2, 3]"
   ]
  },
  {
   "cell_type": "code",
   "execution_count": 21,
   "metadata": {
    "collapsed": false
   },
   "outputs": [
    {
     "data": {
      "text/plain": [
       "[3, 2, 3]"
      ]
     },
     "execution_count": 21,
     "metadata": {},
     "output_type": "execute_result"
    }
   ],
   "source": [
    "a[0] = 3\n",
    "a"
   ]
  },
  {
   "cell_type": "code",
   "execution_count": 22,
   "metadata": {
    "collapsed": true
   },
   "outputs": [],
   "source": [
    "b = (1, 2, 3)"
   ]
  },
  {
   "cell_type": "code",
   "execution_count": 23,
   "metadata": {
    "collapsed": false
   },
   "outputs": [
    {
     "ename": "TypeError",
     "evalue": "'tuple' object does not support item assignment",
     "output_type": "error",
     "traceback": [
      "\u001b[0;31m---------------------------------------------------------------------------\u001b[0m",
      "\u001b[0;31mTypeError\u001b[0m                                 Traceback (most recent call last)",
      "\u001b[0;32m<ipython-input-23-d28c64b6d9cf>\u001b[0m in \u001b[0;36m<module>\u001b[0;34m()\u001b[0m\n\u001b[0;32m----> 1\u001b[0;31m \u001b[0mb\u001b[0m\u001b[0;34m[\u001b[0m\u001b[0;36m0\u001b[0m\u001b[0;34m]\u001b[0m \u001b[0;34m=\u001b[0m \u001b[0;36m1\u001b[0m\u001b[0;34m\u001b[0m\u001b[0m\n\u001b[0m",
      "\u001b[0;31mTypeError\u001b[0m: 'tuple' object does not support item assignment"
     ]
    }
   ],
   "source": [
    "b[0] = 1"
   ]
  },
  {
   "cell_type": "code",
   "execution_count": 24,
   "metadata": {
    "collapsed": false
   },
   "outputs": [
    {
     "data": {
      "text/plain": [
       "True"
      ]
     },
     "execution_count": 24,
     "metadata": {},
     "output_type": "execute_result"
    }
   ],
   "source": [
    "set([1, 2, 3]) == set([1, 2, 3, 3, 3])"
   ]
  },
  {
   "cell_type": "code",
   "execution_count": 25,
   "metadata": {
    "collapsed": false
   },
   "outputs": [
    {
     "data": {
      "text/plain": [
       "{1}"
      ]
     },
     "execution_count": 25,
     "metadata": {},
     "output_type": "execute_result"
    }
   ],
   "source": [
    "set_1_to_3 = set([1, 2, 3])\n",
    "set_2_to_4 = set([2, 3, 4])\n",
    "set_1_to_3 - set_2_to_4"
   ]
  },
  {
   "cell_type": "code",
   "execution_count": 26,
   "metadata": {
    "collapsed": false
   },
   "outputs": [
    {
     "data": {
      "text/plain": [
       "{2, 3}"
      ]
     },
     "execution_count": 26,
     "metadata": {},
     "output_type": "execute_result"
    }
   ],
   "source": [
    "set_1_to_3 & set_2_to_4"
   ]
  },
  {
   "cell_type": "code",
   "execution_count": 27,
   "metadata": {
    "collapsed": false
   },
   "outputs": [
    {
     "data": {
      "text/plain": [
       "{1, 2, 3, 4}"
      ]
     },
     "execution_count": 27,
     "metadata": {},
     "output_type": "execute_result"
    }
   ],
   "source": [
    "set_1_to_3 | set_2_to_4"
   ]
  },
  {
   "cell_type": "markdown",
   "metadata": {},
   "source": [
    "#### Dictonaries / Ordered Dicts"
   ]
  },
  {
   "cell_type": "code",
   "execution_count": null,
   "metadata": {
    "collapsed": true
   },
   "outputs": [],
   "source": []
  },
  {
   "cell_type": "code",
   "execution_count": 28,
   "metadata": {
    "collapsed": true
   },
   "outputs": [],
   "source": [
    "my_dict = {'a': 1, 'b': 2, 'c': 3, 5: 'd'}"
   ]
  },
  {
   "cell_type": "code",
   "execution_count": 29,
   "metadata": {
    "collapsed": false
   },
   "outputs": [
    {
     "data": {
      "text/plain": [
       "dict_keys(['c', 'a', 'b', 5])"
      ]
     },
     "execution_count": 29,
     "metadata": {},
     "output_type": "execute_result"
    }
   ],
   "source": [
    "my_dict.keys()"
   ]
  },
  {
   "cell_type": "code",
   "execution_count": 30,
   "metadata": {
    "collapsed": false
   },
   "outputs": [
    {
     "data": {
      "text/plain": [
       "dict_values([3, 1, 2, 'd'])"
      ]
     },
     "execution_count": 30,
     "metadata": {},
     "output_type": "execute_result"
    }
   ],
   "source": [
    "my_dict.values()"
   ]
  },
  {
   "cell_type": "code",
   "execution_count": 31,
   "metadata": {
    "collapsed": false
   },
   "outputs": [
    {
     "data": {
      "text/plain": [
       "dict_items([('c', 3), ('a', 1), ('b', 2), (5, 'd')])"
      ]
     },
     "execution_count": 31,
     "metadata": {},
     "output_type": "execute_result"
    }
   ],
   "source": [
    "my_dict.items()"
   ]
  },
  {
   "cell_type": "code",
   "execution_count": 32,
   "metadata": {
    "collapsed": true
   },
   "outputs": [],
   "source": [
    "my_dict['a'] = 1337"
   ]
  },
  {
   "cell_type": "code",
   "execution_count": 33,
   "metadata": {
    "collapsed": false
   },
   "outputs": [
    {
     "data": {
      "text/plain": [
       "{'c': 3, 'a': 1337, 'b': 2, 5: 'd'}"
      ]
     },
     "execution_count": 33,
     "metadata": {},
     "output_type": "execute_result"
    }
   ],
   "source": [
    "my_dict"
   ]
  },
  {
   "cell_type": "markdown",
   "metadata": {},
   "source": [
    "*order is not preserved*"
   ]
  },
  {
   "cell_type": "code",
   "execution_count": 34,
   "metadata": {
    "collapsed": true
   },
   "outputs": [],
   "source": [
    "del my_dict['b']"
   ]
  },
  {
   "cell_type": "code",
   "execution_count": 35,
   "metadata": {
    "collapsed": false
   },
   "outputs": [
    {
     "data": {
      "text/plain": [
       "{'c': 3, 'a': 1337, 5: 'd'}"
      ]
     },
     "execution_count": 35,
     "metadata": {},
     "output_type": "execute_result"
    }
   ],
   "source": [
    "my_dict"
   ]
  },
  {
   "cell_type": "code",
   "execution_count": 36,
   "metadata": {
    "collapsed": false
   },
   "outputs": [
    {
     "data": {
      "text/plain": [
       "3"
      ]
     },
     "execution_count": 36,
     "metadata": {},
     "output_type": "execute_result"
    }
   ],
   "source": [
    "my_dict.pop('c')"
   ]
  },
  {
   "cell_type": "code",
   "execution_count": 37,
   "metadata": {
    "collapsed": false
   },
   "outputs": [
    {
     "data": {
      "text/plain": [
       "{'a': 1337, 5: 'd'}"
      ]
     },
     "execution_count": 37,
     "metadata": {},
     "output_type": "execute_result"
    }
   ],
   "source": [
    "my_dict"
   ]
  },
  {
   "cell_type": "code",
   "execution_count": 38,
   "metadata": {
    "collapsed": false
   },
   "outputs": [
    {
     "data": {
      "text/plain": [
       "2"
      ]
     },
     "execution_count": 38,
     "metadata": {},
     "output_type": "execute_result"
    }
   ],
   "source": [
    "len(my_dict)"
   ]
  },
  {
   "cell_type": "code",
   "execution_count": 40,
   "metadata": {
    "collapsed": false
   },
   "outputs": [
    {
     "name": "stdout",
     "output_type": "stream",
     "text": [
      "key: 'a' value: '1337'\n",
      "key: '5' value: 'd'\n"
     ]
    }
   ],
   "source": [
    "print(\"\\n\".join([\"key: '{}' value: '{}'\".format(k, v) for k, v in my_dict.items()]))"
   ]
  },
  {
   "cell_type": "markdown",
   "metadata": {},
   "source": [
    "special: ordered dicts"
   ]
  },
  {
   "cell_type": "code",
   "execution_count": 41,
   "metadata": {
    "collapsed": true
   },
   "outputs": [],
   "source": [
    "from collections import OrderedDict"
   ]
  },
  {
   "cell_type": "code",
   "execution_count": 42,
   "metadata": {
    "collapsed": true
   },
   "outputs": [],
   "source": [
    "ordered_dict = OrderedDict(a=1, b=2, c=3, d=4)\n",
    "regular_dict = dict(a=1, b=2, c=3)\n",
    "ordered_dict[1] = 4\n",
    "regular_dict[1] = 4"
   ]
  },
  {
   "cell_type": "code",
   "execution_count": 43,
   "metadata": {
    "collapsed": false
   },
   "outputs": [
    {
     "data": {
      "text/plain": [
       "OrderedDict([('d', 4), ('c', 3), ('a', 1), ('b', 2), (1, 4)])"
      ]
     },
     "execution_count": 43,
     "metadata": {},
     "output_type": "execute_result"
    }
   ],
   "source": [
    "ordered_dict"
   ]
  },
  {
   "cell_type": "code",
   "execution_count": 44,
   "metadata": {
    "collapsed": false
   },
   "outputs": [
    {
     "data": {
      "text/plain": [
       "{1: 4, 'c': 3, 'a': 1, 'b': 2}"
      ]
     },
     "execution_count": 44,
     "metadata": {},
     "output_type": "execute_result"
    }
   ],
   "source": [
    "regular_dict"
   ]
  },
  {
   "cell_type": "markdown",
   "metadata": {},
   "source": [
    "#### scope\n",
    "LEGB Rule.\n",
    "\n",
    "* Local \n",
    "* Enclosed\n",
    "* Global\n",
    "* Built In\n"
   ]
  },
  {
   "cell_type": "code",
   "execution_count": 45,
   "metadata": {
    "collapsed": false
   },
   "outputs": [
    {
     "name": "stdout",
     "output_type": "stream",
     "text": [
      "1. Global x: 100\n",
      "2. Enclosed y: 100\n",
      "3. Enclosed x: 101\n",
      "4. Enclosed self.x 101\n",
      "5. Global x 100\n",
      "6. name 'y' is not defined\n",
      "7. local variable 'x' referenced before assignment\n",
      "8. Local x 200\n"
     ]
    }
   ],
   "source": [
    "x = 100\n",
    "print(\"1. Global x:\", x)\n",
    "class Test(object):\n",
    "    y = x\n",
    "    print(\"2. Enclosed y:\", y)\n",
    "    x = x + 1 \n",
    "    print(\"3. Enclosed x:\", x)\n",
    "    z = x\n",
    "\n",
    "    def method(self):\n",
    "        print(\"4. Enclosed self.x\", self.x)\n",
    "        print(\"5. Global x\", x)\n",
    "        try:\n",
    "            print(y)\n",
    "        except NameError as e:\n",
    "            print(\"6.\", e)\n",
    "\n",
    "    def method_local_ref(self):\n",
    "        try:\n",
    "            print(x)\n",
    "        except UnboundLocalError as e:\n",
    "            print(\"7.\", e)\n",
    "        x = 200 \n",
    "        print(\"8. Local x\", x)\n",
    "        \n",
    "inst = Test()\n",
    "inst.method()\n",
    "inst.method_local_ref()"
   ]
  },
  {
   "cell_type": "markdown",
   "metadata": {},
   "source": [
    "# Intro to Packages\n",
    "* NLTK (Natural Language Toolkit) http://www.nltk.org/\n",
    "* Numpy http://www.numpy.org/"
   ]
  },
  {
   "cell_type": "code",
   "execution_count": 54,
   "metadata": {
    "collapsed": false
   },
   "outputs": [
    {
     "name": "stdout",
     "output_type": "stream",
     "text": [
      "Using Anaconda Cloud api site https://api.anaconda.org\n",
      "Fetching package metadata: ....\n",
      "Solving package specifications: .........\n",
      "\n",
      "# All requested packages already installed.\n",
      "# packages in environment at /Users/rayb/anaconda:\n",
      "#\n",
      "nltk                      3.2.1                    py27_0  \n"
     ]
    }
   ],
   "source": [
    "!conda install -q --yes nltk"
   ]
  },
  {
   "cell_type": "code",
   "execution_count": 56,
   "metadata": {
    "collapsed": true
   },
   "outputs": [],
   "source": [
    "import nltk"
   ]
  },
  {
   "cell_type": "code",
   "execution_count": 64,
   "metadata": {
    "collapsed": false
   },
   "outputs": [
    {
     "name": "stdout",
     "output_type": "stream",
     "text": [
      "[nltk_data] Downloading package brown to /Users/rayb/nltk_data...\n",
      "[nltk_data]   Package brown is already up-to-date!\n",
      "[nltk_data] Downloading package averaged_perceptron_tagger to\n",
      "[nltk_data]     /Users/rayb/nltk_data...\n",
      "[nltk_data]   Unzipping taggers/averaged_perceptron_tagger.zip.\n"
     ]
    },
    {
     "data": {
      "text/plain": [
       "True"
      ]
     },
     "execution_count": 64,
     "metadata": {},
     "output_type": "execute_result"
    }
   ],
   "source": [
    "nltk.download(\"brown\")\n",
    "nltk.download(\"averaged_perceptron_tagger\")"
   ]
  },
  {
   "cell_type": "code",
   "execution_count": 57,
   "metadata": {
    "collapsed": true
   },
   "outputs": [],
   "source": [
    "from nltk.corpus import brown"
   ]
  },
  {
   "cell_type": "code",
   "execution_count": 58,
   "metadata": {
    "collapsed": false
   },
   "outputs": [
    {
     "data": {
      "text/plain": [
       "[u'The',\n",
       " u'Fulton',\n",
       " u'County',\n",
       " u'Grand',\n",
       " u'Jury',\n",
       " u'said',\n",
       " u'Friday',\n",
       " u'an',\n",
       " u'investigation',\n",
       " u'of']"
      ]
     },
     "execution_count": 58,
     "metadata": {},
     "output_type": "execute_result"
    }
   ],
   "source": [
    "brown.words()[0:10]"
   ]
  },
  {
   "cell_type": "code",
   "execution_count": 59,
   "metadata": {
    "collapsed": false
   },
   "outputs": [
    {
     "data": {
      "text/plain": [
       "[(u'The', u'AT'),\n",
       " (u'Fulton', u'NP-TL'),\n",
       " (u'County', u'NN-TL'),\n",
       " (u'Grand', u'JJ-TL'),\n",
       " (u'Jury', u'NN-TL'),\n",
       " (u'said', u'VBD'),\n",
       " (u'Friday', u'NR'),\n",
       " (u'an', u'AT'),\n",
       " (u'investigation', u'NN'),\n",
       " (u'of', u'IN')]"
      ]
     },
     "execution_count": 59,
     "metadata": {},
     "output_type": "execute_result"
    }
   ],
   "source": [
    "brown.tagged_words()[0:10]"
   ]
  },
  {
   "cell_type": "markdown",
   "metadata": {},
   "source": [
    "POS:\n",
    " * AT\tarticle\ta, the, no\n",
    " * NP\tproper noun or part of name phrase\n",
    " * JJ\tadjective\n",
    " * VBD\tverb, past tense\n",
    " * NN\tsingular or mass noun\n",
    " * NNS\tplural noun\n",
    " * ...\n",
    "  "
   ]
  },
  {
   "cell_type": "code",
   "execution_count": 60,
   "metadata": {
    "collapsed": true
   },
   "outputs": [],
   "source": [
    "from nltk import sent_tokenize, word_tokenize, pos_tag\n",
    "\n",
    "text = \"\"\"Change will not come if we wait for some other person or some other time.\n",
    "We are the ones we've been waiting for. We are the change that we seek.\"\"\"\n"
   ]
  },
  {
   "cell_type": "code",
   "execution_count": 61,
   "metadata": {
    "collapsed": false
   },
   "outputs": [
    {
     "data": {
      "text/plain": [
       "['Change will not come if we wait for some other person or some other time.',\n",
       " \"We are the ones we've been waiting for.\",\n",
       " 'We are the change that we seek.']"
      ]
     },
     "execution_count": 61,
     "metadata": {},
     "output_type": "execute_result"
    }
   ],
   "source": [
    "sents = sent_tokenize(text)\n",
    "sents"
   ]
  },
  {
   "cell_type": "code",
   "execution_count": 62,
   "metadata": {
    "collapsed": false
   },
   "outputs": [
    {
     "data": {
      "text/plain": [
       "['Change',\n",
       " 'will',\n",
       " 'not',\n",
       " 'come',\n",
       " 'if',\n",
       " 'we',\n",
       " 'wait',\n",
       " 'for',\n",
       " 'some',\n",
       " 'other',\n",
       " 'person',\n",
       " 'or',\n",
       " 'some',\n",
       " 'other',\n",
       " 'time',\n",
       " '.']"
      ]
     },
     "execution_count": 62,
     "metadata": {},
     "output_type": "execute_result"
    }
   ],
   "source": [
    "tokens = word_tokenize(sents[0])\n",
    "tokens"
   ]
  },
  {
   "cell_type": "code",
   "execution_count": 65,
   "metadata": {
    "collapsed": false
   },
   "outputs": [
    {
     "data": {
      "text/plain": [
       "[('Change', 'NNP'),\n",
       " ('will', 'MD'),\n",
       " ('not', 'RB'),\n",
       " ('come', 'VB'),\n",
       " ('if', 'IN'),\n",
       " ('we', 'PRP'),\n",
       " ('wait', 'VBP'),\n",
       " ('for', 'IN'),\n",
       " ('some', 'DT'),\n",
       " ('other', 'JJ'),\n",
       " ('person', 'NN'),\n",
       " ('or', 'CC'),\n",
       " ('some', 'DT'),\n",
       " ('other', 'JJ'),\n",
       " ('time', 'NN'),\n",
       " ('.', '.')]"
      ]
     },
     "execution_count": 65,
     "metadata": {},
     "output_type": "execute_result"
    }
   ],
   "source": [
    "pos_tag(tokens)"
   ]
  },
  {
   "cell_type": "code",
   "execution_count": 67,
   "metadata": {
    "collapsed": false
   },
   "outputs": [
    {
     "data": {
      "text/plain": [
       "[('I', 'PRP'), ('cubbed', 'VBD'), ('a', 'DT'), ('ball', 'NN')]"
      ]
     },
     "execution_count": 67,
     "metadata": {},
     "output_type": "execute_result"
    }
   ],
   "source": [
    "pos_tag(word_tokenize(\"I cubbed a ball\"))"
   ]
  },
  {
   "cell_type": "code",
   "execution_count": null,
   "metadata": {
    "collapsed": true
   },
   "outputs": [],
   "source": []
  },
  {
   "cell_type": "markdown",
   "metadata": {},
   "source": [
    "#### Numpy\n",
    "\n",
    "http://phillipmfeldman.org/Python/Advantages_of_Python_Over_Matlab.html\n",
    "\n",
    "> Python's support for automatic broadcasting allows for cleaner, more readable code. The following is a sample of Matlab code that performs element-wise subtraction and multiplication of arrays with broadcasting, where A has dimensions 20&times;1&times;15, B is 20&times;12&times;1, and C is 1&times;12&times;15:\n",
    "\n",
    ">     D = bsxfun(@times, bsxfun(@minus, B, C), A);\n",
    "\n",
    "> The corresponding Python/Numpy code below looks exactly like the equation that it implements:\n",
    "\n",
    ">     D = A * (B - C)\n",
    "    \n",
    "Matlab users can [check the Numpy docs][npmatlab] for how to \"translate\" Matlab to Numpy\n",
    "\n",
    "[npmatlab]: https://docs.scipy.org/doc/numpy-dev/user/numpy-for-matlab-users.html#table-of-rough-matlab-numpy-equivalents"
   ]
  },
  {
   "cell_type": "code",
   "execution_count": 67,
   "metadata": {
    "collapsed": false
   },
   "outputs": [
    {
     "name": "stdout",
     "output_type": "stream",
     "text": [
      "-- Numpy --\n",
      "10000 loops, best of 3: 57.6 µs per loop\n",
      "-- Python --\n",
      "100 loops, best of 3: 3.15 ms per loop\n"
     ]
    }
   ],
   "source": [
    "from numpy import arange\n",
    "\n",
    "Nelements = 100000\n",
    "\n",
    "x = arange(Nelements)\n",
    "y = range(Nelements)\n",
    "\n",
    "print('-- Numpy --')\n",
    "%timeit x.sum()\n",
    "\n",
    "print('-- Python --')\n",
    "%timeit sum(y)"
   ]
  },
  {
   "cell_type": "code",
   "execution_count": null,
   "metadata": {
    "collapsed": true
   },
   "outputs": [],
   "source": []
  }
 ],
 "metadata": {
  "kernelspec": {
   "display_name": "Python 3",
   "language": "python",
   "name": "python3"
  },
  "language_info": {
   "codemirror_mode": {
    "name": "ipython",
    "version": 3
   },
   "file_extension": ".py",
   "mimetype": "text/x-python",
   "name": "python",
   "nbconvert_exporter": "python",
   "pygments_lexer": "ipython3",
   "version": "3.5.1"
  }
 },
 "nbformat": 4,
 "nbformat_minor": 0
}
