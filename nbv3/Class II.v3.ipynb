{
 "metadata": {
  "kernelspec": {
   "display_name": "Python 3",
   "language": "python",
   "name": "python3"
  },
  "language_info": {
   "codemirror_mode": {
    "name": "ipython",
    "version": 3
   },
   "file_extension": ".py",
   "mimetype": "text/x-python",
   "name": "python",
   "nbconvert_exporter": "python",
   "pygments_lexer": "ipython3",
   "version": "3.5.1"
  },
  "name": ""
 },
 "nbformat": 3,
 "nbformat_minor": 0,
 "worksheets": [
  {
   "cells": [
    {
     "cell_type": "markdown",
     "metadata": {},
     "source": [
      "# Class II Outline\n",
      "\n",
      "* Homework review\n",
      "* How Python works\n",
      "    * on disk `.py` files\n",
      "    * interpreter\n",
      "    * IDEs & editors\n",
      "    * Jupyter notebook \n",
      "    * modules \n",
      "* Built-in types review\n",
      "    * int/float/decimal\n",
      "    * str/unicode\n",
      "    * list/tuple/set\n",
      "    * dictionaries / ordereddicts \n",
      "    * scope\n",
      "* Intro to packages\n",
      "    * NLTK\n",
      "    * Numpy \n",
      "* Next week outlook\n",
      "    * pair-coding exercise \n",
      "* Post-class office hours\n",
      "\n",
      "\n",
      "## How works this Python?\n",
      "\n",
      "\n",
      "<img src=\"how_works.png\"/>\n",
      "\n",
      "\n",
      "### On disk\n",
      "\n",
      "#### 1. Make file\n",
      "\n",
      "Example file \"`say_hello.py`\":\n",
      "\n",
      "```python\n",
      "print(\"Hello World\")\n",
      "```\n",
      "\n",
      "#### 2. Call file\n",
      "\n",
      "```bash\n",
      "python say_hello.py\n",
      "```\n",
      "\n",
      "#### 3. Expected output\n",
      "\n",
      "```bash\n",
      "Hello World\n",
      "```\n",
      "\n",
      "### In interpreter\n",
      "\n",
      "An Read-Eval-Print Loop (REPL) 'interpreter'\n",
      "\n",
      "```bash\n",
      "python\n",
      "Python 2.7 (#1, Feb 28 2010, 00:02:06)\n",
      "Type \"help\", \"copyright\", \"credits\" or \"license\" for more information.\n",
      ">>>\n",
      "```\n",
      "\n",
      "IPython; a better Python shell\n",
      "\n",
      "```python\n",
      "Python 2.7.11 |Anaconda 2.2.0 (x86_64)| (default, Dec  6 2015, 18:57:58) \n",
      "Type \"copyright\", \"credits\" or \"license\" for more information.\n",
      "\n",
      "IPython 4.1.2 -- An enhanced Interactive Python.\n",
      "?         -> Introduction and overview of IPython's features.\n",
      "%quickref -> Quick reference.\n",
      "help      -> Python's own help system.\n",
      "object?   -> Details about 'object', use 'object??' for extra details.\n",
      "\n",
      "In [1]: \n",
      "```\n",
      "Or in this notebook"
     ]
    },
    {
     "cell_type": "code",
     "collapsed": false,
     "input": [
      "from __future__ import print_function\n",
      "\n",
      "print(\"Hello World\")"
     ],
     "language": "python",
     "metadata": {},
     "outputs": [],
     "prompt_number": null
    },
    {
     "cell_type": "markdown",
     "metadata": {},
     "source": [
      "Jupyter Notebook tips:\n",
      "\n",
      "* Help >> User Interface Tour\n",
      "* Command mode vs. Edit mode (modal editor)\n",
      "* Keyboard shortcut cheat-sheet: Hit <kbd>H</kbd> in command mode (<kbd>Esc</kbd> first)    "
     ]
    },
    {
     "cell_type": "markdown",
     "metadata": {},
     "source": [
      "## Editors vs IDEs \n",
      "\n",
      "An Editor (like Sublime Text or VIM):\n",
      "\n",
      "<img src=\"sublime_text.png\"/>\n",
      "\n",
      "Or a full IDE (like PyCharm):\n",
      "\n",
      "<img src=\"pycharm.jpg\"/>\n",
      "\n"
     ]
    },
    {
     "cell_type": "markdown",
     "metadata": {
      "collapsed": true
     },
     "source": [
      "### modules\n",
      "\n",
      "Let's build our own.\n",
      "\n",
      "```\n",
      "foo_module/\n",
      "  |\n",
      "  +-__init__.py\n",
      "  |\n",
      "  +-bar.py\n",
      "```\n",
      "\n",
      "\n",
      "[browse](/tree/foo_module)"
     ]
    },
    {
     "cell_type": "code",
     "collapsed": false,
     "input": [
      "import foo_module"
     ],
     "language": "python",
     "metadata": {},
     "outputs": [],
     "prompt_number": null
    },
    {
     "cell_type": "code",
     "collapsed": false,
     "input": [
      "foo_module.bar.a"
     ],
     "language": "python",
     "metadata": {},
     "outputs": [],
     "prompt_number": null
    },
    {
     "cell_type": "markdown",
     "metadata": {
      "collapsed": true
     },
     "source": [
      "## Built-in types review\n",
      "\n",
      " * int/float/decimal\n",
      " * str/unicode\n",
      " * list/tuple/set\n",
      " * dictionaries / ordereddicts \n",
      " * scope\n",
      " \n",
      "How to define a variable:\n",
      "\n",
      "| Language   | Syntax                                   | Example                                                            |\n",
      "|------------|------------------------------------------|--------------------------------------------------------------------|\n",
      "| Javascript | var variable = new class(parameters)     | my_int_array = new Array();                                        |\n",
      "| Java/C#    | class variable = new class(parameters);  | int[] my_int_array = new int[10];                                  |\n",
      "| C/C++      | class *variable = new class(parameters); | int *my_int_array,= new int[10];                                   |\n",
      "| VB         | Dim variable As New class(parameters)    | Dim my_int_array (10) As Integer                                   |\n",
      "| Ruby       | variable = class.new(parameters)         | my_int_array = Array.new(10)                                       |\n",
      "|  Python    | variable = class(parameters)             | my_int_array = [] ## or use arrays: my_array = array('i', [1,2,3,4,5]) |"
     ]
    },
    {
     "cell_type": "code",
     "collapsed": false,
     "input": [
      "i = 1\n",
      "print(i, type(i))"
     ],
     "language": "python",
     "metadata": {},
     "outputs": [],
     "prompt_number": null
    },
    {
     "cell_type": "code",
     "collapsed": false,
     "input": [
      "i = 1.0\n",
      "print(i, type(i))"
     ],
     "language": "python",
     "metadata": {},
     "outputs": [],
     "prompt_number": null
    },
    {
     "cell_type": "code",
     "collapsed": true,
     "input": [
      "import decimal"
     ],
     "language": "python",
     "metadata": {},
     "outputs": [],
     "prompt_number": null
    },
    {
     "cell_type": "code",
     "collapsed": false,
     "input": [
      "decimal.D"
     ],
     "language": "python",
     "metadata": {},
     "outputs": [],
     "prompt_number": null
    },
    {
     "cell_type": "code",
     "collapsed": false,
     "input": [
      "from decimal import Decimal\n",
      "# altrnative to IEEE floating point version implemented by most computer hardware\n",
      "help(Decimal)"
     ],
     "language": "python",
     "metadata": {},
     "outputs": [],
     "prompt_number": null
    },
    {
     "cell_type": "code",
     "collapsed": false,
     "input": [
      "i = Decimal(\"1.0\")\n",
      "i"
     ],
     "language": "python",
     "metadata": {},
     "outputs": [],
     "prompt_number": null
    },
    {
     "cell_type": "code",
     "collapsed": false,
     "input": [
      "Decimal(\"1.0\") - Decimal(\".99\")"
     ],
     "language": "python",
     "metadata": {},
     "outputs": [],
     "prompt_number": null
    },
    {
     "cell_type": "code",
     "collapsed": false,
     "input": [
      "i = \"I'm a String\"\n",
      "i"
     ],
     "language": "python",
     "metadata": {},
     "outputs": [],
     "prompt_number": null
    },
    {
     "cell_type": "code",
     "collapsed": false,
     "input": [
      "i = \"\"\"So \n",
      "Am I!\n",
      "But triple quoted\"\"\"\n",
      "print(i)"
     ],
     "language": "python",
     "metadata": {},
     "outputs": [],
     "prompt_number": null
    },
    {
     "cell_type": "code",
     "collapsed": false,
     "input": [
      "type(i)"
     ],
     "language": "python",
     "metadata": {},
     "outputs": [],
     "prompt_number": null
    },
    {
     "cell_type": "code",
     "collapsed": false,
     "input": [
      "i = \"a\\nb\"\n",
      "\n",
      "print(i)"
     ],
     "language": "python",
     "metadata": {},
     "outputs": [],
     "prompt_number": null
    },
    {
     "cell_type": "markdown",
     "metadata": {},
     "source": [
      "Raw string"
     ]
    },
    {
     "cell_type": "code",
     "collapsed": false,
     "input": [
      "i = r\"a\\nb\"\n",
      "print(i)"
     ],
     "language": "python",
     "metadata": {},
     "outputs": [],
     "prompt_number": null
    },
    {
     "cell_type": "markdown",
     "metadata": {},
     "source": [
      "Unicode"
     ]
    },
    {
     "cell_type": "code",
     "collapsed": false,
     "input": [
      "i = u\"(\\u0e07'\\u0300-'\\u0301)\\u0e07\"\n",
      "print(i)"
     ],
     "language": "python",
     "metadata": {},
     "outputs": [],
     "prompt_number": null
    },
    {
     "cell_type": "heading",
     "level": 4,
     "metadata": {},
     "source": [
      "List/Tuple/Set"
     ]
    },
    {
     "cell_type": "code",
     "collapsed": false,
     "input": [
      "(1, 2, 3) != [1, 2, 3]"
     ],
     "language": "python",
     "metadata": {},
     "outputs": [],
     "prompt_number": null
    },
    {
     "cell_type": "code",
     "collapsed": true,
     "input": [
      "a = [1, 2, 3]"
     ],
     "language": "python",
     "metadata": {},
     "outputs": [],
     "prompt_number": null
    },
    {
     "cell_type": "code",
     "collapsed": false,
     "input": [
      "a[0] = 3\n",
      "a"
     ],
     "language": "python",
     "metadata": {},
     "outputs": [],
     "prompt_number": null
    },
    {
     "cell_type": "code",
     "collapsed": true,
     "input": [
      "b = (1, 2, 3)"
     ],
     "language": "python",
     "metadata": {},
     "outputs": [],
     "prompt_number": null
    },
    {
     "cell_type": "code",
     "collapsed": false,
     "input": [
      "b[0] = 1"
     ],
     "language": "python",
     "metadata": {},
     "outputs": [],
     "prompt_number": null
    },
    {
     "cell_type": "code",
     "collapsed": false,
     "input": [
      "set([1, 2, 3]) == set([1, 2, 3, 3, 3])"
     ],
     "language": "python",
     "metadata": {},
     "outputs": [],
     "prompt_number": null
    },
    {
     "cell_type": "code",
     "collapsed": false,
     "input": [
      "set_1_to_3 = set([1, 2, 3])\n",
      "set_2_to_4 = set([2, 3, 4])\n",
      "set_1_to_3 - set_2_to_4"
     ],
     "language": "python",
     "metadata": {},
     "outputs": [],
     "prompt_number": null
    },
    {
     "cell_type": "code",
     "collapsed": false,
     "input": [
      "set_1_to_3 & set_2_to_4"
     ],
     "language": "python",
     "metadata": {},
     "outputs": [],
     "prompt_number": null
    },
    {
     "cell_type": "code",
     "collapsed": false,
     "input": [
      "set_1_to_3 | set_2_to_4"
     ],
     "language": "python",
     "metadata": {},
     "outputs": [],
     "prompt_number": null
    },
    {
     "cell_type": "heading",
     "level": 4,
     "metadata": {},
     "source": [
      "Dictonaries / Ordered Dicts"
     ]
    },
    {
     "cell_type": "code",
     "collapsed": true,
     "input": [],
     "language": "python",
     "metadata": {},
     "outputs": [],
     "prompt_number": null
    },
    {
     "cell_type": "code",
     "collapsed": true,
     "input": [
      "my_dict = {'a': 1, 'b': 2, 'c': 3, 5: 'd'}"
     ],
     "language": "python",
     "metadata": {},
     "outputs": [],
     "prompt_number": null
    },
    {
     "cell_type": "code",
     "collapsed": false,
     "input": [
      "my_dict.keys()"
     ],
     "language": "python",
     "metadata": {},
     "outputs": [],
     "prompt_number": null
    },
    {
     "cell_type": "code",
     "collapsed": false,
     "input": [
      "my_dict.values()"
     ],
     "language": "python",
     "metadata": {},
     "outputs": [],
     "prompt_number": null
    },
    {
     "cell_type": "code",
     "collapsed": false,
     "input": [
      "my_dict.items()"
     ],
     "language": "python",
     "metadata": {},
     "outputs": [],
     "prompt_number": null
    },
    {
     "cell_type": "code",
     "collapsed": true,
     "input": [
      "my_dict['a'] = 1337"
     ],
     "language": "python",
     "metadata": {},
     "outputs": [],
     "prompt_number": null
    },
    {
     "cell_type": "code",
     "collapsed": false,
     "input": [
      "my_dict"
     ],
     "language": "python",
     "metadata": {},
     "outputs": [],
     "prompt_number": null
    },
    {
     "cell_type": "markdown",
     "metadata": {},
     "source": [
      "*order is not preserved*"
     ]
    },
    {
     "cell_type": "code",
     "collapsed": true,
     "input": [
      "del my_dict['b']"
     ],
     "language": "python",
     "metadata": {},
     "outputs": [],
     "prompt_number": null
    },
    {
     "cell_type": "code",
     "collapsed": false,
     "input": [
      "my_dict"
     ],
     "language": "python",
     "metadata": {},
     "outputs": [],
     "prompt_number": null
    },
    {
     "cell_type": "code",
     "collapsed": false,
     "input": [
      "my_dict.pop('c')"
     ],
     "language": "python",
     "metadata": {},
     "outputs": [],
     "prompt_number": null
    },
    {
     "cell_type": "code",
     "collapsed": false,
     "input": [
      "my_dict"
     ],
     "language": "python",
     "metadata": {},
     "outputs": [],
     "prompt_number": null
    },
    {
     "cell_type": "code",
     "collapsed": false,
     "input": [
      "len(my_dict)"
     ],
     "language": "python",
     "metadata": {},
     "outputs": [],
     "prompt_number": null
    },
    {
     "cell_type": "code",
     "collapsed": false,
     "input": [
      "print(\"\\n\".join([\"key: '{}' value: '{}'\".format(k, v) for k, v in my_dict.items()]))"
     ],
     "language": "python",
     "metadata": {},
     "outputs": [],
     "prompt_number": null
    },
    {
     "cell_type": "markdown",
     "metadata": {},
     "source": [
      "special: ordered dicts"
     ]
    },
    {
     "cell_type": "code",
     "collapsed": true,
     "input": [
      "from collections import OrderedDict"
     ],
     "language": "python",
     "metadata": {},
     "outputs": [],
     "prompt_number": null
    },
    {
     "cell_type": "code",
     "collapsed": true,
     "input": [
      "ordered_dict = OrderedDict(a=1, b=2, c=3, d=4)\n",
      "regular_dict = dict(a=1, b=2, c=3)\n",
      "ordered_dict[1] = 4\n",
      "regular_dict[1] = 4"
     ],
     "language": "python",
     "metadata": {},
     "outputs": [],
     "prompt_number": null
    },
    {
     "cell_type": "code",
     "collapsed": false,
     "input": [
      "ordered_dict"
     ],
     "language": "python",
     "metadata": {},
     "outputs": [],
     "prompt_number": null
    },
    {
     "cell_type": "code",
     "collapsed": false,
     "input": [
      "regular_dict"
     ],
     "language": "python",
     "metadata": {},
     "outputs": [],
     "prompt_number": null
    },
    {
     "cell_type": "markdown",
     "metadata": {},
     "source": [
      "#### scope\n",
      "LEGB Rule.\n",
      "\n",
      "* Local \n",
      "* Enclosed\n",
      "* Global\n",
      "* Built In\n"
     ]
    },
    {
     "cell_type": "code",
     "collapsed": false,
     "input": [
      "x = 100\n",
      "print(\"1. Global x:\", x)\n",
      "class Test(object):\n",
      "    y = x\n",
      "    print(\"2. Enclosed y:\", y)\n",
      "    x = x + 1 \n",
      "    print(\"3. Enclosed x:\", x)\n",
      "    z = x\n",
      "\n",
      "    def method(self):\n",
      "        print(\"4. Enclosed self.x\", self.x)\n",
      "        print(\"5. Global x\", x)\n",
      "        try:\n",
      "            print(y)\n",
      "        except NameError as e:\n",
      "            print(\"6.\", e)\n",
      "\n",
      "    def method_local_ref(self):\n",
      "        try:\n",
      "            print(x)\n",
      "        except UnboundLocalError as e:\n",
      "            print(\"7.\", e)\n",
      "        x = 200 \n",
      "        print(\"8. Local x\", x)\n",
      "        \n",
      "inst = Test()\n",
      "inst.method()\n",
      "inst.method_local_ref()"
     ],
     "language": "python",
     "metadata": {},
     "outputs": [],
     "prompt_number": null
    },
    {
     "cell_type": "markdown",
     "metadata": {},
     "source": [
      "# Intro to Packages\n",
      "* NLTK (Natural Language Toolkit) http://www.nltk.org/\n",
      "* Numpy http://www.numpy.org/"
     ]
    },
    {
     "cell_type": "code",
     "collapsed": false,
     "input": [
      "!conda install -q --yes nltk"
     ],
     "language": "python",
     "metadata": {},
     "outputs": [],
     "prompt_number": null
    },
    {
     "cell_type": "code",
     "collapsed": true,
     "input": [
      "import nltk"
     ],
     "language": "python",
     "metadata": {},
     "outputs": [],
     "prompt_number": null
    },
    {
     "cell_type": "code",
     "collapsed": false,
     "input": [
      "nltk.download(\"brown\")\n",
      "nltk.download(\"averaged_perceptron_tagger\")"
     ],
     "language": "python",
     "metadata": {},
     "outputs": [],
     "prompt_number": null
    },
    {
     "cell_type": "code",
     "collapsed": true,
     "input": [
      "from nltk.corpus import brown"
     ],
     "language": "python",
     "metadata": {},
     "outputs": [],
     "prompt_number": null
    },
    {
     "cell_type": "code",
     "collapsed": false,
     "input": [
      "brown.words()[0:10]"
     ],
     "language": "python",
     "metadata": {},
     "outputs": [],
     "prompt_number": null
    },
    {
     "cell_type": "code",
     "collapsed": false,
     "input": [
      "brown.tagged_words()[0:10]"
     ],
     "language": "python",
     "metadata": {},
     "outputs": [],
     "prompt_number": null
    },
    {
     "cell_type": "markdown",
     "metadata": {},
     "source": [
      "POS:\n",
      " * AT\tarticle\ta, the, no\n",
      " * NP\tproper noun or part of name phrase\n",
      " * JJ\tadjective\n",
      " * VBD\tverb, past tense\n",
      " * NN\tsingular or mass noun\n",
      " * NNS\tplural noun\n",
      " * ...\n",
      "  "
     ]
    },
    {
     "cell_type": "code",
     "collapsed": true,
     "input": [
      "from nltk import sent_tokenize, word_tokenize, pos_tag\n",
      "\n",
      "text = \"\"\"Change will not come if we wait for some other person or some other time.\n",
      "We are the ones we've been waiting for. We are the change that we seek.\"\"\"\n"
     ],
     "language": "python",
     "metadata": {},
     "outputs": [],
     "prompt_number": null
    },
    {
     "cell_type": "code",
     "collapsed": false,
     "input": [
      "sents = sent_tokenize(text)\n",
      "sents"
     ],
     "language": "python",
     "metadata": {},
     "outputs": [],
     "prompt_number": null
    },
    {
     "cell_type": "code",
     "collapsed": false,
     "input": [
      "tokens = word_tokenize(sents[0])\n",
      "tokens"
     ],
     "language": "python",
     "metadata": {},
     "outputs": [],
     "prompt_number": null
    },
    {
     "cell_type": "code",
     "collapsed": false,
     "input": [
      "pos_tag(tokens)"
     ],
     "language": "python",
     "metadata": {},
     "outputs": [],
     "prompt_number": null
    },
    {
     "cell_type": "code",
     "collapsed": false,
     "input": [
      "pos_tag(word_tokenize(\"I cubbed a ball\"))"
     ],
     "language": "python",
     "metadata": {},
     "outputs": [],
     "prompt_number": null
    },
    {
     "cell_type": "code",
     "collapsed": true,
     "input": [],
     "language": "python",
     "metadata": {},
     "outputs": [],
     "prompt_number": null
    },
    {
     "cell_type": "markdown",
     "metadata": {},
     "source": [
      "#### Numpy\n",
      "\n",
      "http://phillipmfeldman.org/Python/Advantages_of_Python_Over_Matlab.html\n",
      "\n",
      "> Python's support for automatic broadcasting allows for cleaner, more readable code. The following is a sample of Matlab code that performs element-wise subtraction and multiplication of arrays with broadcasting, where A has dimensions 20&times;1&times;15, B is 20&times;12&times;1, and C is 1&times;12&times;15:\n",
      "\n",
      ">     D = bsxfun(@times, bsxfun(@minus, B, C), A);\n",
      "\n",
      "> The corresponding Python/Numpy code below looks exactly like the equation that it implements:\n",
      "\n",
      ">     D = A * (B - C)\n",
      "    \n",
      "Matlab users can [check the Numpy docs][npmatlab] for how to \"translate\" Matlab to Numpy\n",
      "\n",
      "[npmatlab]: https://docs.scipy.org/doc/numpy-dev/user/numpy-for-matlab-users.html#table-of-rough-matlab-numpy-equivalents"
     ]
    },
    {
     "cell_type": "code",
     "collapsed": false,
     "input": [
      "from numpy import arange\n",
      "\n",
      "Nelements = 100000\n",
      "\n",
      "x = arange(Nelements)\n",
      "y = range(Nelements)\n",
      "\n",
      "print('-- Numpy --')\n",
      "%timeit x.sum()\n",
      "\n",
      "print('-- Python --')\n",
      "%timeit sum(y)"
     ],
     "language": "python",
     "metadata": {},
     "outputs": [],
     "prompt_number": null
    },
    {
     "cell_type": "code",
     "collapsed": true,
     "input": [],
     "language": "python",
     "metadata": {},
     "outputs": [],
     "prompt_number": null
    }
   ],
   "metadata": {}
  }
 ]
}