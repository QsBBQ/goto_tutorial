{
 "metadata": {
  "kernelspec": {
   "display_name": "Python 3",
   "language": "python",
   "name": "python3"
  },
  "language_info": {
   "codemirror_mode": {
    "name": "ipython",
    "version": 3
   },
   "file_extension": ".py",
   "mimetype": "text/x-python",
   "name": "python",
   "nbconvert_exporter": "python",
   "pygments_lexer": "ipython3",
   "version": "3.5.1"
  },
  "name": ""
 },
 "nbformat": 3,
 "nbformat_minor": 0,
 "worksheets": [
  {
   "cells": [
    {
     "cell_type": "markdown",
     "metadata": {},
     "source": [
      "<img src=\"https://imgs.xkcd.com/comics/python.png\" />\n",
      "\n",
      "\n",
      "From https://wiki.python.org/moin/BeginnersGuide/Overview\n",
      "\n",
      "\n",
      "### Python is a clear and powerful object-oriented programming language, comparable to Perl, Ruby, Scheme, or Java.\n",
      "\n",
      "Some of Python's notable features:\n",
      "\n",
      " * Uses an elegant syntax, making the programs you write easier to read.\n",
      " * Is an easy-to-use language that makes it simple to get your program working. This makes Python ideal for prototype development and other ad-hoc programming tasks, without compromising maintainability.\n",
      " * Comes with a large standard library that supports many common programming tasks such as connecting to web servers, searching text with regular expressions,  reading and modifying files.\n",
      " * Python's interactive mode makes it easy to test short snippets of code. There's also a bundled development environment called IDLE.\n",
      " * Is easily extended by adding new modules implemented in a compiled language such as C or C++.\n",
      " * Can also be embedded into an application to provide a programmable interface.\n",
      " * Runs on many different computers and operating systems: Windows, MacOS, many brands of Unix, OS/2, ...\n",
      " * Is free software in two senses.  It doesn't cost anything to download or use Python, or to include it in your application.  Python can also be freely modified and re-distributed, because while the language is copyrighted it's available under [open source license](http://www.python.org/psf/license/).\n",
      "\n",
      "Some programming-language features of Python are:\n",
      "\n",
      " * A variety of basic data types are available: numbers (floating point, complex, and unlimited-length long integers), strings (both ASCII and Unicode), lists, and dictionaries.\n",
      " * Python supports object-oriented programming with classes and multiple inheritance.\n",
      " * Code can be grouped into modules and packages.\n",
      " * The language supports raising and catching exceptions, resulting in cleaner error handling.\n",
      " * Data types are strongly and dynamically typed. Mixing incompatible types (e.g. attempting to add a string and a number) causes an exception to be raised, so errors are caught sooner.\n",
      " * Python contains advanced programming features such as generators and list comprehensions.\n",
      " * Python's automatic memory management frees you from having to manually allocate and free memory in your code.\n",
      "\n",
      "See the SimplePrograms collection of short programs, gradually increasing in length, which show off Python's syntax and readability."
     ]
    },
    {
     "cell_type": "code",
     "collapsed": false,
     "input": [
      "\"hello world\""
     ],
     "language": "python",
     "metadata": {},
     "outputs": [],
     "prompt_number": null
    },
    {
     "cell_type": "heading",
     "level": 1,
     "metadata": {},
     "source": [
      "Some of Python's notable features"
     ]
    },
    {
     "cell_type": "heading",
     "level": 3,
     "metadata": {},
     "source": [
      "A variety of basic data types are available: numbers (floating point, complex, and unlimited-length long integers), strings (both ASCII and Unicode), lists, and dictionaries."
     ]
    },
    {
     "cell_type": "code",
     "collapsed": false,
     "input": [
      "a = \"1\"\n",
      "print(type(a))\n",
      "a = 1\n",
      "print(type(a))"
     ],
     "language": "python",
     "metadata": {},
     "outputs": [],
     "prompt_number": null
    },
    {
     "cell_type": "markdown",
     "metadata": {},
     "source": [
      "lists\n",
      "<img src=\"http://vignette4.wikia.nocookie.net/seuss/images/d/d3/Thing1-and-thing2.jpg/revision/latest/scale-to-width-down/180?cb=20131013015212&format=webp\"/>\n"
     ]
    },
    {
     "cell_type": "code",
     "collapsed": false,
     "input": [
      "things = [\"Thing One\", \"Thing Two\", \"Thing Three\"]\n",
      "things"
     ],
     "language": "python",
     "metadata": {},
     "outputs": [],
     "prompt_number": null
    },
    {
     "cell_type": "code",
     "collapsed": false,
     "input": [
      "type(things)"
     ],
     "language": "python",
     "metadata": {},
     "outputs": [],
     "prompt_number": null
    },
    {
     "cell_type": "code",
     "collapsed": false,
     "input": [
      "len(things)"
     ],
     "language": "python",
     "metadata": {},
     "outputs": [],
     "prompt_number": null
    },
    {
     "cell_type": "code",
     "collapsed": true,
     "input": [
      "things?"
     ],
     "language": "python",
     "metadata": {},
     "outputs": [],
     "prompt_number": null
    },
    {
     "cell_type": "code",
     "collapsed": false,
     "input": [
      "things.append(\"Thing Four\")"
     ],
     "language": "python",
     "metadata": {},
     "outputs": [],
     "prompt_number": null
    },
    {
     "cell_type": "code",
     "collapsed": false,
     "input": [
      "things"
     ],
     "language": "python",
     "metadata": {},
     "outputs": [],
     "prompt_number": null
    },
    {
     "cell_type": "markdown",
     "metadata": {},
     "source": [
      "Dictionaries"
     ]
    },
    {
     "cell_type": "code",
     "collapsed": false,
     "input": [
      "my_dictionary = {'something_unique': 1,\n",
      "                 'somthing_else_unique': 2}\n",
      "\n",
      "type(my_dictionary)"
     ],
     "language": "python",
     "metadata": {},
     "outputs": [],
     "prompt_number": null
    },
    {
     "cell_type": "code",
     "collapsed": false,
     "input": [
      "my_dictionary"
     ],
     "language": "python",
     "metadata": {},
     "outputs": [],
     "prompt_number": null
    },
    {
     "cell_type": "code",
     "collapsed": false,
     "input": [
      "my_dictionary['something_unique']"
     ],
     "language": "python",
     "metadata": {},
     "outputs": [],
     "prompt_number": null
    },
    {
     "cell_type": "code",
     "collapsed": true,
     "input": [
      "my_dictionary['something_unique'] = 2"
     ],
     "language": "python",
     "metadata": {},
     "outputs": [],
     "prompt_number": null
    },
    {
     "cell_type": "code",
     "collapsed": false,
     "input": [
      "my_dictionary"
     ],
     "language": "python",
     "metadata": {},
     "outputs": [],
     "prompt_number": null
    },
    {
     "cell_type": "code",
     "collapsed": false,
     "input": [
      "my_dictionary.values()\n",
      "# in Python 2 returns [2, 2], in 3 returns dict_values([2, 2])"
     ],
     "language": "python",
     "metadata": {},
     "outputs": [],
     "prompt_number": null
    },
    {
     "cell_type": "code",
     "collapsed": false,
     "input": [
      "my_dictionary.keys()\n",
      "# in Python 2 returns ['something_unique', 'somthing_else_unique'], \n",
      "# in 3 returns dict_keys(['something_unique', 'somthing_else_unique'])"
     ],
     "language": "python",
     "metadata": {},
     "outputs": [],
     "prompt_number": null
    },
    {
     "cell_type": "code",
     "collapsed": true,
     "input": [
      "my_dictionary?"
     ],
     "language": "python",
     "metadata": {},
     "outputs": [],
     "prompt_number": null
    },
    {
     "cell_type": "heading",
     "level": 3,
     "metadata": {},
     "source": [
      "Python supports object-oriented programming with classes and multiple inheritance."
     ]
    },
    {
     "cell_type": "code",
     "collapsed": false,
     "input": [
      "def say_hi(name, last):\n",
      "    return \"hi {} {}\".format(name, last)\n",
      "\n",
      "say_hi(\"AJ\", \"Hussein\")"
     ],
     "language": "python",
     "metadata": {},
     "outputs": [],
     "prompt_number": null
    },
    {
     "cell_type": "code",
     "collapsed": true,
     "input": [
      "\n",
      "class Fancy(object):\n",
      "    def get_y(self):\n",
      "        return self.y\n",
      "    \n",
      "class FancyMixIns(object):\n",
      "    def add(self):\n",
      "        return self.y + self.x\n",
      "\n",
      "class Fancier(Fancy, FancyMixIns):\n",
      "    \"\"\" Some really good docs \"\"\"\n",
      "    def __init__(self, x, y):\n",
      "        self.x = x\n",
      "        self.y = y\n",
      "    \n",
      "    def __eq__(self, lhs):\n",
      "        return bool(self.x == lhs.x)\n",
      "        \n",
      "    def get_x(self):\n",
      "        \"Yo this get 'x' of course\"\n",
      "        return self.x\n",
      "    \n",
      "    @staticmethod\n",
      "    def help():\n",
      "        help(Fancy)\n",
      "        "
     ],
     "language": "python",
     "metadata": {},
     "outputs": [],
     "prompt_number": null
    },
    {
     "cell_type": "code",
     "collapsed": false,
     "input": [
      "help(Fancier)"
     ],
     "language": "python",
     "metadata": {},
     "outputs": [],
     "prompt_number": null
    },
    {
     "cell_type": "code",
     "collapsed": false,
     "input": [
      "a = Fancier(100, 250)\n",
      "a.get_y()"
     ],
     "language": "python",
     "metadata": {},
     "outputs": [],
     "prompt_number": null
    },
    {
     "cell_type": "code",
     "collapsed": false,
     "input": [
      "a.get_x()"
     ],
     "language": "python",
     "metadata": {},
     "outputs": [],
     "prompt_number": null
    },
    {
     "cell_type": "code",
     "collapsed": false,
     "input": [
      "a.__dict__"
     ],
     "language": "python",
     "metadata": {},
     "outputs": [],
     "prompt_number": null
    },
    {
     "cell_type": "code",
     "collapsed": false,
     "input": [
      "a.add()"
     ],
     "language": "python",
     "metadata": {},
     "outputs": [],
     "prompt_number": null
    },
    {
     "cell_type": "code",
     "collapsed": false,
     "input": [
      "b = FancyMixIns()\n",
      "b.y = 1\n",
      "b.x = 2\n",
      "b.add()"
     ],
     "language": "python",
     "metadata": {},
     "outputs": [],
     "prompt_number": null
    },
    {
     "cell_type": "heading",
     "level": 3,
     "metadata": {},
     "source": [
      "Code can be grouped into modules and packages."
     ]
    },
    {
     "cell_type": "code",
     "collapsed": false,
     "input": [
      "import this"
     ],
     "language": "python",
     "metadata": {},
     "outputs": [],
     "prompt_number": null
    },
    {
     "cell_type": "code",
     "collapsed": true,
     "input": [
      "this?"
     ],
     "language": "python",
     "metadata": {},
     "outputs": [],
     "prompt_number": null
    },
    {
     "cell_type": "heading",
     "level": 3,
     "metadata": {},
     "source": [
      "The language supports raising and catching exceptions, resulting in cleaner error handling."
     ]
    },
    {
     "cell_type": "code",
     "collapsed": false,
     "input": [
      "1/0"
     ],
     "language": "python",
     "metadata": {},
     "outputs": [],
     "prompt_number": null
    },
    {
     "cell_type": "code",
     "collapsed": false,
     "input": [
      "try:\n",
      "    1 + 1\n",
      "    2 + 2\n",
      "    1/0\n",
      "except ZeroDivisionError as e:\n",
      "    print(e)\n",
      "    print(\"I meant to do that\")\n",
      "    \n",
      "    "
     ],
     "language": "python",
     "metadata": {},
     "outputs": [],
     "prompt_number": null
    },
    {
     "cell_type": "heading",
     "level": 3,
     "metadata": {},
     "source": [
      "Data types are strongly and dynamically typed. Mixing incompatible types (e.g. attempting to add a string and a number) causes an exception to be raised, so errors are caught sooner."
     ]
    },
    {
     "cell_type": "code",
     "collapsed": false,
     "input": [
      "1 + \"1\""
     ],
     "language": "python",
     "metadata": {},
     "outputs": [],
     "prompt_number": null
    },
    {
     "cell_type": "markdown",
     "metadata": {},
     "source": [
      "User defined types:\n",
      "\n",
      "```python\n",
      "class MyType(object):   #  name it what you want\n",
      "    \"\"\" Some documentation \"\"\"  # documentation is fun\n",
      "    def my_method(self):  # create a method\n",
      "        return \"have a nice day\" # return something \n",
      "```\n"
     ]
    },
    {
     "cell_type": "code",
     "collapsed": true,
     "input": [
      "class MyType(object):\n",
      "    \"\"\" Some documentation \"\"\"\n",
      "    def my_method(self):\n",
      "        return \"have a nice day\""
     ],
     "language": "python",
     "metadata": {},
     "outputs": [],
     "prompt_number": null
    },
    {
     "cell_type": "markdown",
     "metadata": {},
     "source": [
      "> Note: Python uses whitespace. For example \"space-space-space-space def my_method...\""
     ]
    },
    {
     "cell_type": "code",
     "collapsed": true,
     "input": [
      "my_instance = MyType()"
     ],
     "language": "python",
     "metadata": {},
     "outputs": [],
     "prompt_number": null
    },
    {
     "cell_type": "code",
     "collapsed": false,
     "input": [
      "my_instance.my_method()"
     ],
     "language": "python",
     "metadata": {},
     "outputs": [],
     "prompt_number": null
    },
    {
     "cell_type": "code",
     "collapsed": false,
     "input": [
      "type(my_instance)"
     ],
     "language": "python",
     "metadata": {},
     "outputs": [],
     "prompt_number": null
    },
    {
     "cell_type": "code",
     "collapsed": false,
     "input": [
      "type(MyType)"
     ],
     "language": "python",
     "metadata": {},
     "outputs": [],
     "prompt_number": null
    },
    {
     "cell_type": "heading",
     "level": 3,
     "metadata": {},
     "source": [
      "Python contains advanced programming features such as generators and list comprehensions."
     ]
    },
    {
     "cell_type": "markdown",
     "metadata": {},
     "source": [
      "list comprehension"
     ]
    },
    {
     "cell_type": "code",
     "collapsed": false,
     "input": [
      "data = [\"Happy\", \"good\", \"sad\", \"ecstatic\"]\n",
      "[x.upper() for x in data if x != \"sad\"]"
     ],
     "language": "python",
     "metadata": {},
     "outputs": [],
     "prompt_number": null
    },
    {
     "cell_type": "markdown",
     "metadata": {},
     "source": [
      "decorators"
     ]
    },
    {
     "cell_type": "code",
     "collapsed": false,
     "input": [
      "def my_decr(f):\n",
      "    def inner_f(x):\n",
      "        x += 1\n",
      "        return x\n",
      "    return inner_f\n",
      "\n",
      "\n",
      "@my_decr\n",
      "def pretty_function(x):\n",
      "    return x\n",
      "\n",
      "pretty_function(1)"
     ],
     "language": "python",
     "metadata": {},
     "outputs": [],
     "prompt_number": null
    },
    {
     "cell_type": "heading",
     "level": 3,
     "metadata": {},
     "source": [
      "Python's automatic memory management frees you from having to manually allocate and free memory in your code."
     ]
    },
    {
     "cell_type": "code",
     "collapsed": false,
     "input": [
      "list_of_ones = [1] * 10\n",
      "print(list_of_ones)\n",
      "[id(value) for value in list_of_ones]"
     ],
     "language": "python",
     "metadata": {},
     "outputs": [],
     "prompt_number": null
    },
    {
     "cell_type": "code",
     "collapsed": false,
     "input": [
      "import copy\n",
      "new_list_of_ones = copy.copy(list_of_ones)\n",
      "[id(value) for value in new_list_of_ones]"
     ],
     "language": "python",
     "metadata": {},
     "outputs": [],
     "prompt_number": null
    },
    {
     "cell_type": "code",
     "collapsed": false,
     "input": [
      "id(list_of_ones)"
     ],
     "language": "python",
     "metadata": {},
     "outputs": [],
     "prompt_number": null
    },
    {
     "cell_type": "code",
     "collapsed": false,
     "input": [
      "id(new_list_of_ones)"
     ],
     "language": "python",
     "metadata": {},
     "outputs": [],
     "prompt_number": null
    },
    {
     "cell_type": "code",
     "collapsed": false,
     "input": [
      "id(copy.copy(new_list_of_ones))"
     ],
     "language": "python",
     "metadata": {},
     "outputs": [],
     "prompt_number": null
    },
    {
     "cell_type": "markdown",
     "metadata": {},
     "source": [
      "### Some Extra notes\n",
      "\n",
      "dictonaries point at data"
     ]
    },
    {
     "cell_type": "code",
     "collapsed": false,
     "input": [
      "\n",
      "a = {'a': 1, 'b': 2}\n",
      "\n",
      "def do(my_dict):\n",
      "    my_dict['a'] = 7\n",
      "    # return nothing\n",
      "    \n",
      "    \n",
      "print(a)\n",
      "do(a)\n",
      "print(a)\n",
      "\n",
      "\n",
      "\n"
     ],
     "language": "python",
     "metadata": {},
     "outputs": [],
     "prompt_number": null
    },
    {
     "cell_type": "markdown",
     "metadata": {},
     "source": [
      "argument and key word expansion"
     ]
    },
    {
     "cell_type": "code",
     "collapsed": false,
     "input": [
      "\n",
      "def somestuff(*args, **kwargs):\n",
      "    print(\"{} {}\".format(args, kwargs))\n",
      "    \n",
      "\n",
      "somestuff(*[4, 5, 6, \"a\"], x=7, xxxxxx=555)\n",
      "\n",
      "\n",
      "\n"
     ],
     "language": "python",
     "metadata": {},
     "outputs": [],
     "prompt_number": null
    },
    {
     "cell_type": "markdown",
     "metadata": {},
     "source": [
      "tuples as keys"
     ]
    },
    {
     "cell_type": "code",
     "collapsed": false,
     "input": [
      "{('1', ): 1}"
     ],
     "language": "python",
     "metadata": {},
     "outputs": [],
     "prompt_number": null
    },
    {
     "cell_type": "code",
     "collapsed": true,
     "input": [],
     "language": "python",
     "metadata": {},
     "outputs": [],
     "prompt_number": null
    }
   ],
   "metadata": {}
  }
 ]
}