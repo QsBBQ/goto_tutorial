{
 "cells": [
  {
   "cell_type": "markdown",
   "metadata": {},
   "source": [
    "\n",
    "#### pain points:\n",
    "\n",
    "* Parallel processing.\n",
    "* Python-Spark API\n",
    "* Classes\n",
    "* How do you easily subset a df and create new variables\n",
    "* Functions and how you can leverage a code to make it generic to many data wrangling processes. i.e. datalodThere’s a * % include functionality in SAS that allows you to “call” different programs in current program. Is that possible?\n",
    "* Variable creation (all kinds: strings, dummys, combinations of existing vars, binning, etc.)\n",
    "* How do you run in batch multiple programs\n",
    "* subseting an existing df by passing the names of the vars you want to keep in a list format\n",
    "* how to load an existing python program\n",
    " \n",
    "\n",
    "#### wish points:\n",
    "\n",
    "* Learn to use decorators more effectively\n",
    "* How to create variables using longitudinal data\n",
    "* There’s a % include functionality in SAS that allows you to “call” different programs in current program. Is that possible?\n",
    "* Variable creation (all kinds: strings, dummys, combinations of existing vars, binning, etc.)\n",
    "* How do you run in batch multiple programs\n",
    "* subseting an existing df by passing the names of the vars you want to keep in a list format\n",
    " \n",
    "\n"
   ]
  },
  {
   "cell_type": "markdown",
   "metadata": {
    "collapsed": true
   },
   "source": [
    "## Parallel processing\n",
    "\n",
    "https://docs.python.org/2.7/library/multiprocessing.html\n",
    "\n",
    "    multiprocessing is a package that supports spawning processes using an API similar to the threading module. The multiprocessing package offers both local and remote concurrency, effectively side-stepping the Global Interpreter Lock by using subprocesses instead of threads. Due to this, the multiprocessing module allows the programmer to fully leverage multiple processors on a given machine. It runs on both Unix and Windows.\n"
   ]
  },
  {
   "cell_type": "code",
   "execution_count": null,
   "metadata": {
    "collapsed": false
   },
   "outputs": [],
   "source": [
    "from multiprocessing import Pool\n",
    "import os\n",
    "\n",
    "def f(x):\n",
    "    print(os.getpid(), x)\n",
    "    return x * 2\n",
    "\n",
    "p = Pool(3)\n",
    "p.map(f, [1, 2, 3])\n"
   ]
  },
  {
   "cell_type": "markdown",
   "metadata": {},
   "source": [
    "## pandas subset\n",
    "\n",
    " * subseting an existing df by passing the names of the vars you want to keep in a list format\n",
    " * How do you easily subset a df and create new variables\n"
   ]
  },
  {
   "cell_type": "code",
   "execution_count": null,
   "metadata": {
    "collapsed": false
   },
   "outputs": [],
   "source": [
    "import pandas as pd\n",
    "import numpy as np\n",
    "\n",
    "dates = pd.date_range('1/1/2000', periods=8)\n",
    "df = pd.DataFrame(np.random.randn(8, 4), index=dates, columns=['A', 'B', 'C', 'D'])\n",
    "df"
   ]
  },
  {
   "cell_type": "code",
   "execution_count": null,
   "metadata": {
    "collapsed": false
   },
   "outputs": [],
   "source": [
    "df[(df.A < 0) & (df.B > 0)][[\"A\", \"B\"]]"
   ]
  },
  {
   "cell_type": "markdown",
   "metadata": {},
   "source": [
    "## calling different programs\n",
    "\n",
    "```\n",
    "%macro words(string);\n",
    "   %local count word;\n",
    "   %let count=1;\n",
    "   %let word=%qscan(&string,&count,%str( ));\n",
    "   %do %while(&word ne);\n",
    "      %let count=%eval(&count+1);\n",
    "      %let word=%qscan(&string,&count,%str( ));\n",
    "   %end;\n",
    "   %let count=%eval(&count-1);\n",
    "   %put The string contains &count words.;\n",
    "%mend words;\n",
    "\n",
    "%words(This is a very long string)\n",
    "```\n"
   ]
  },
  {
   "cell_type": "code",
   "execution_count": null,
   "metadata": {
    "collapsed": false
   },
   "outputs": [],
   "source": [
    "\n",
    "def words(string):\n",
    "    \"This is what it does ....\"\n",
    "    count = len(string.split())\n",
    "    print(\"The string contains {} words\".format(count))\n",
    "    return count\n",
    "\n",
    "words(\"This is a very long string\")\n",
    "\n"
   ]
  },
  {
   "cell_type": "code",
   "execution_count": null,
   "metadata": {
    "collapsed": false
   },
   "outputs": [],
   "source": [
    "def do(func, string):\n",
    "    func(string)\n",
    "\n",
    "do(words, \"One two three\")"
   ]
  },
  {
   "cell_type": "code",
   "execution_count": null,
   "metadata": {
    "collapsed": false
   },
   "outputs": [],
   "source": [
    "do = words\n",
    "do(\"hi world\")"
   ]
  },
  {
   "cell_type": "markdown",
   "metadata": {},
   "source": [
    "### Variable creation (all kinds: strings, dummys, combinations of existing vars, binning, etc.)"
   ]
  },
  {
   "cell_type": "code",
   "execution_count": null,
   "metadata": {
    "collapsed": false
   },
   "outputs": [],
   "source": [
    "a = \"string\"\n",
    "b = a\n",
    "a, b\n",
    "a == b"
   ]
  },
  {
   "cell_type": "code",
   "execution_count": null,
   "metadata": {
    "collapsed": false
   },
   "outputs": [],
   "source": [
    "import sys\n",
    "import random\n",
    "from mock import Mock\n",
    "\n",
    "random.randint = Mock(return_value = \"hi\")\n",
    "random.randint()\n",
    "random.randint()\n",
    "random.randint()\n",
    "random.randint()\n",
    "\n"
   ]
  },
  {
   "cell_type": "code",
   "execution_count": null,
   "metadata": {
    "collapsed": false
   },
   "outputs": [],
   "source": [
    "c = a + b\n",
    "c"
   ]
  },
  {
   "cell_type": "markdown",
   "metadata": {},
   "source": [
    "# decorators\n",
    "\n",
    "http://thecodeship.com/patterns/guide-to-python-function-decorators/"
   ]
  },
  {
   "cell_type": "code",
   "execution_count": null,
   "metadata": {
    "collapsed": false
   },
   "outputs": [],
   "source": [
    "def greet(name):\n",
    "    return \"hello \" + name\n",
    "\n",
    "greet_someone = greet\n",
    "print greet_someone(\"John\")"
   ]
  },
  {
   "cell_type": "code",
   "execution_count": null,
   "metadata": {
    "collapsed": false
   },
   "outputs": [],
   "source": [
    "def greet(name):\n",
    "    def get_message():\n",
    "        return \"Hello \"\n",
    "\n",
    "    result = get_message() + name\n",
    "    return result\n",
    "\n",
    "print greet(\"John\")"
   ]
  },
  {
   "cell_type": "code",
   "execution_count": null,
   "metadata": {
    "collapsed": false
   },
   "outputs": [],
   "source": [
    "\n",
    "def greet(name):\n",
    "   return \"Hello \" + name \n",
    "\n",
    "def call_func(func):\n",
    "    other_name = \"John\"\n",
    "    return func(other_name)  \n",
    "\n",
    "print call_func(greet)\n"
   ]
  },
  {
   "cell_type": "code",
   "execution_count": null,
   "metadata": {
    "collapsed": false
   },
   "outputs": [],
   "source": [
    "def compose_greet_func():\n",
    "    def get_message():\n",
    "        return \"Hello there!\"\n",
    "\n",
    "    return get_message\n",
    "\n",
    "greet = compose_greet_func()\n",
    "print greet()"
   ]
  },
  {
   "cell_type": "code",
   "execution_count": null,
   "metadata": {
    "collapsed": false
   },
   "outputs": [],
   "source": [
    "def compose_greet_func(name):\n",
    "    def get_message():\n",
    "        return \"Hello there \"+name+\"!\"\n",
    "\n",
    "    return get_message\n",
    "\n",
    "greet = compose_greet_func(\"John\")\n",
    "print greet()\n"
   ]
  },
  {
   "cell_type": "code",
   "execution_count": null,
   "metadata": {
    "collapsed": false
   },
   "outputs": [],
   "source": [
    "\n",
    "print(1)\n",
    "\n",
    "def get_text(name):\n",
    "   print(6)\n",
    "   return \"lorem ipsum, {0} dolor sit amet\".format(name)\n",
    "\n",
    "def p_decorate(func):\n",
    "   print(3)\n",
    "   def func_wrapper(name):\n",
    "       print(5) \n",
    "       name = \"Brian and {}\".format(name)\n",
    "       ret = func(name)\n",
    "       ret += \"!!!!\"\n",
    "       return \"<p>{0}</p>\".format(ret)\n",
    "   print(4)\n",
    "   return func_wrapper\n",
    "\n",
    "print(2)\n",
    "my_get_text = p_decorate(get_text)\n",
    "\n",
    "print my_get_text(\"John\")\n",
    "print(7)"
   ]
  },
  {
   "cell_type": "code",
   "execution_count": null,
   "metadata": {
    "collapsed": false
   },
   "outputs": [],
   "source": [
    "def p_decorate(func):\n",
    "   def func_wrapper(name):\n",
    "       return \"<p>{0}</p>\".format(func(name))\n",
    "   return func_wrapper\n",
    "\n",
    "@p_decorate\n",
    "def get_text(name):\n",
    "   return \"lorem ipsum, {0} dolor sit amet\".format(name)\n",
    "\n",
    "@p_decorate\n",
    "def get_more_text(string):\n",
    "    return string\n",
    "\n",
    "print get_more_text(\"Hello world\")"
   ]
  },
  {
   "cell_type": "code",
   "execution_count": null,
   "metadata": {
    "collapsed": false
   },
   "outputs": [],
   "source": [
    "\n",
    "def p_decorate(func):\n",
    "   def func_wrapper(self):\n",
    "       return \"<p>{0}</p>\".format(func(self))\n",
    "   return func_wrapper\n",
    "\n",
    "class Person(object):\n",
    "    def __init__(self):\n",
    "        self.name = \"John\"\n",
    "        self.family = \"Doe\"\n",
    "\n",
    "    @p_decorate\n",
    "    def get_fullname(self):\n",
    "        return self.name+\" \"+self.family\n",
    "\n",
    "my_person = Person()\n",
    "print my_person.get_fullname()"
   ]
  },
  {
   "cell_type": "code",
   "execution_count": null,
   "metadata": {
    "collapsed": false
   },
   "outputs": [],
   "source": [
    "def tags(tag_name):\n",
    "    def tags_decorator(func):\n",
    "        def func_wrapper(name):\n",
    "            return \"<{0}>{1}</{0}>\".format(tag_name, func(name))\n",
    "        return func_wrapper\n",
    "    return tags_decorator\n",
    "\n",
    "\n",
    "\n",
    "@tags(\"div\")\n",
    "def get_text(name):\n",
    "    return \"Hello \"+name\n",
    "\n",
    "\n",
    "print get_text(\"John\")\n",
    "\n"
   ]
  },
  {
   "cell_type": "code",
   "execution_count": null,
   "metadata": {
    "collapsed": true
   },
   "outputs": [],
   "source": []
  }
 ],
 "metadata": {
  "kernelspec": {
   "display_name": "Python 2",
   "language": "python",
   "name": "python2"
  },
  "language_info": {
   "codemirror_mode": {
    "name": "ipython",
    "version": 2
   },
   "file_extension": ".py",
   "mimetype": "text/x-python",
   "name": "python",
   "nbconvert_exporter": "python",
   "pygments_lexer": "ipython2",
   "version": "2.7.11"
  }
 },
 "nbformat": 4,
 "nbformat_minor": 0
}
