{
 "cells": [
  {
   "cell_type": "markdown",
   "metadata": {},
   "source": [
    "1 Create a module called bob and import it"
   ]
  },
  {
   "cell_type": "code",
   "execution_count": 1,
   "metadata": {
    "collapsed": true
   },
   "outputs": [],
   "source": [
    "!mkdir bob"
   ]
  },
  {
   "cell_type": "code",
   "execution_count": 2,
   "metadata": {
    "collapsed": true
   },
   "outputs": [],
   "source": [
    "!echo \"'I am bob'\" > bob/__init__.py"
   ]
  },
  {
   "cell_type": "code",
   "execution_count": 3,
   "metadata": {
    "collapsed": true
   },
   "outputs": [],
   "source": [
    "import bob"
   ]
  },
  {
   "cell_type": "code",
   "execution_count": 4,
   "metadata": {
    "collapsed": false
   },
   "outputs": [
    {
     "name": "stdout",
     "output_type": "stream",
     "text": [
      "Help on package bob:\n",
      "\n",
      "NAME\n",
      "    bob - I am bob\n",
      "\n",
      "FILE\n",
      "    /Users/rayb/goto_tutorial/bob/__init__.py\n",
      "\n",
      "PACKAGE CONTENTS\n",
      "\n",
      "\n",
      "\n"
     ]
    }
   ],
   "source": [
    "help(bob)"
   ]
  },
  {
   "cell_type": "markdown",
   "metadata": {},
   "source": [
    "2 given set [1, 2, 3, 5]  and [2, 3, 4, 7] find the intersection"
   ]
  },
  {
   "cell_type": "code",
   "execution_count": 40,
   "metadata": {
    "collapsed": false
   },
   "outputs": [
    {
     "data": {
      "text/plain": [
       "{2, 3}"
      ]
     },
     "execution_count": 40,
     "metadata": {},
     "output_type": "execute_result"
    }
   ],
   "source": [
    "set([1, 2, 3, 5]) & set([2, 3, 4, 7])"
   ]
  },
  {
   "cell_type": "markdown",
   "metadata": {},
   "source": [
    "3 what is thee difference between an 'interpreter' and an 'editor', and (bonus) an IDE"
   ]
  },
  {
   "cell_type": "markdown",
   "metadata": {},
   "source": [
    "1. interpreter: runs line by line\n",
    "2. editor: does not execute the code (unless you tell it to)\n",
    "3. interpreter: does not save the state\n",
    "4. IDE: often allows setting breakpoints"
   ]
  },
  {
   "cell_type": "markdown",
   "metadata": {},
   "source": [
    "4 make a dictionary of 4 ducks, 3 dogs, and 10 cats. Now print out the items in alphebetical order. "
   ]
  },
  {
   "cell_type": "code",
   "execution_count": 41,
   "metadata": {
    "collapsed": false
   },
   "outputs": [
    {
     "name": "stdout",
     "output_type": "stream",
     "text": [
      "cats: 10\n",
      "dogs: 3\n",
      "ducks: 4\n"
     ]
    }
   ],
   "source": [
    "from __future__ import print_function\n",
    "\n",
    "animals = dict(ducks=4, dogs=3, cats=10)\n",
    "for key in sorted(animals.keys()):\n",
    "    print(\"{}: {}\".format(key, animals[key]))"
   ]
  },
  {
   "cell_type": "markdown",
   "metadata": {},
   "source": [
    "5 now print out above in order of quantity"
   ]
  },
  {
   "cell_type": "code",
   "execution_count": 27,
   "metadata": {
    "collapsed": false
   },
   "outputs": [
    {
     "name": "stdout",
     "output_type": "stream",
     "text": [
      "Help on built-in function sorted in module __builtin__:\n",
      "\n",
      "sorted(...)\n",
      "    sorted(iterable, cmp=None, key=None, reverse=False) --> new sorted list\n",
      "\n"
     ]
    }
   ],
   "source": [
    "help(sorted)"
   ]
  },
  {
   "cell_type": "code",
   "execution_count": 45,
   "metadata": {
    "collapsed": false
   },
   "outputs": [
    {
     "data": {
      "text/plain": [
       "10"
      ]
     },
     "execution_count": 45,
     "metadata": {},
     "output_type": "execute_result"
    }
   ],
   "source": [
    "animals.get(\"cats\", \"nada\")"
   ]
  },
  {
   "cell_type": "code",
   "execution_count": 37,
   "metadata": {
    "collapsed": false
   },
   "outputs": [
    {
     "name": "stdout",
     "output_type": "stream",
     "text": [
      "cats: 10\n",
      "ducks: 4\n",
      "dogs: 3\n"
     ]
    }
   ],
   "source": [
    "for a in sorted(animals, key=animals.get, reverse=True):\n",
    "    print(\"{}: {}\".format(a, animals[a]))"
   ]
  },
  {
   "cell_type": "markdown",
   "metadata": {},
   "source": [
    "6 Create a string with a new line and print it out so it appears on seperate lines"
   ]
  },
  {
   "cell_type": "code",
   "execution_count": 46,
   "metadata": {
    "collapsed": false
   },
   "outputs": [
    {
     "name": "stdout",
     "output_type": "stream",
     "text": [
      "a\n",
      "b\n"
     ]
    }
   ],
   "source": [
    "print(\"a\\nb\")"
   ]
  },
  {
   "cell_type": "markdown",
   "metadata": {},
   "source": [
    "7 In the statement \"I love the fall\", what part of speach is 'fall'?"
   ]
  },
  {
   "cell_type": "code",
   "execution_count": 47,
   "metadata": {
    "collapsed": false
   },
   "outputs": [
    {
     "data": {
      "text/plain": [
       "[('I', 'PRP'), ('love', 'VBP'), ('the', 'DT'), ('fall', 'NN')]"
      ]
     },
     "execution_count": 47,
     "metadata": {},
     "output_type": "execute_result"
    }
   ],
   "source": [
    "from nltk import word_tokenize, pos_tag\n",
    "a = \"I love the fall\"\n",
    "tokenized = word_tokenize(a)\n",
    "pos_tag(tokenized) # NN singular or mass noun"
   ]
  },
  {
   "cell_type": "markdown",
   "metadata": {},
   "source": [
    "8 in the statement \"The ball will fall\", what part of speach is 'fall'?"
   ]
  },
  {
   "cell_type": "code",
   "execution_count": 33,
   "metadata": {
    "collapsed": false
   },
   "outputs": [
    {
     "data": {
      "text/plain": [
       "[('The', 'DT'), ('ball', 'NN'), ('will', 'MD'), ('fall', 'VB')]"
      ]
     },
     "execution_count": 33,
     "metadata": {},
     "output_type": "execute_result"
    }
   ],
   "source": [
    "pos_tag(word_tokenize(\"The ball will fall\"))"
   ]
  },
  {
   "cell_type": "markdown",
   "metadata": {},
   "source": [
    "9 make a numpy array"
   ]
  },
  {
   "cell_type": "code",
   "execution_count": 48,
   "metadata": {
    "collapsed": false
   },
   "outputs": [
    {
     "data": {
      "text/plain": [
       "array([0, 1])"
      ]
     },
     "execution_count": 48,
     "metadata": {},
     "output_type": "execute_result"
    }
   ],
   "source": [
    "from numpy import arange\n",
    "arange(2)"
   ]
  },
  {
   "cell_type": "markdown",
   "metadata": {},
   "source": [
    "bonus:  Without running the code below, write down the final values of A1, A2, An...\n",
    "\n",
    "```python\n",
    "A0 = dict(zip(('a','b','c','d','e'),(1,2,3,4,5)))\n",
    "A1 = range(10)\n",
    "A2 = sorted([i for i in A1 if i in A0])\n",
    "A3 = sorted([A0[s] for s in A0])\n",
    "A4 = [i for i in A1 if i in A3]\n",
    "A5 = {i:i*i for i in A1}\n",
    "A6 = [[i,i*i] for i in A1]\n",
    "```"
   ]
  },
  {
   "cell_type": "code",
   "execution_count": 57,
   "metadata": {
    "collapsed": false
   },
   "outputs": [
    {
     "name": "stdout",
     "output_type": "stream",
     "text": [
      "a\n",
      "b\n"
     ]
    }
   ],
   "source": [
    "for s in {'b':'a', 'a':2}: print(s)"
   ]
  },
  {
   "cell_type": "code",
   "execution_count": 58,
   "metadata": {
    "collapsed": false
   },
   "outputs": [
    {
     "data": {
      "text/plain": [
       "({'a': 1, 'b': 2, 'c': 3, 'd': 4, 'e': 5},\n",
       " [0, 1, 2, 3, 4, 5, 6, 7, 8, 9],\n",
       " [],\n",
       " [1, 2, 3, 4, 5],\n",
       " [1, 2, 3, 4, 5],\n",
       " {0: 0, 1: 1, 2: 4, 3: 9, 4: 16, 5: 25, 6: 36, 7: 49, 8: 64, 9: 81},\n",
       " [[0, 0],\n",
       "  [1, 1],\n",
       "  [2, 4],\n",
       "  [3, 9],\n",
       "  [4, 16],\n",
       "  [5, 25],\n",
       "  [6, 36],\n",
       "  [7, 49],\n",
       "  [8, 64],\n",
       "  [9, 81]])"
      ]
     },
     "execution_count": 58,
     "metadata": {},
     "output_type": "execute_result"
    }
   ],
   "source": [
    "A0 = dict(zip(('a','b','c','d','e'),(1,2,3,4,5)))\n",
    "# {'a': 1, 'b': 2, 'c': 3, 'd': 4, 'e': 5}\n",
    "A1 = range(10)\n",
    "# [0, .... 9]\n",
    "A2 = sorted([i for i in A1 if i in A0])\n",
    "# []\n",
    "A3 = sorted([A0[s] for s in A0])\n",
    "# [1, 2, 3, 4, 5]\n",
    "A4 = [i for i in A1 if i in A3]\n",
    "# [1, 2, 3, 4, 5]\n",
    "A5 = {i:i*i for i in A1}\n",
    "# {0:0, 1:1, 2:4 ...}\n",
    "A6 = [[i,i*i] for i in A1]\n",
    "# [[0, 0], [1, 1], ...]\n",
    "A0, A1, A2, A3, A4, A5, A6"
   ]
  },
  {
   "cell_type": "code",
   "execution_count": 36,
   "metadata": {
    "collapsed": false
   },
   "outputs": [
    {
     "name": "stdout",
     "output_type": "stream",
     "text": [
      "[nltk_data] Downloading package punkt to /Users/rayb/nltk_data...\n",
      "[nltk_data]   Package punkt is already up-to-date!\n"
     ]
    },
    {
     "data": {
      "text/plain": [
       "True"
      ]
     },
     "execution_count": 36,
     "metadata": {},
     "output_type": "execute_result"
    }
   ],
   "source": [
    "import nltk\n",
    "nltk.download(\"punkt\")"
   ]
  },
  {
   "cell_type": "markdown",
   "metadata": {},
   "source": [
    "bonus 2: use 'time' magic to see if list comprehension is faster that a function that does the same thing "
   ]
  },
  {
   "cell_type": "code",
   "execution_count": 62,
   "metadata": {
    "collapsed": false
   },
   "outputs": [
    {
     "name": "stdout",
     "output_type": "stream",
     "text": [
      "100 loops, best of 3: 4.26 ms per loop\n",
      "100 loops, best of 3: 8.08 ms per loop\n"
     ]
    }
   ],
   "source": [
    "\n",
    "\n",
    "%timeit [x for x in range(100000)] \n",
    "\n",
    "def list_in_range(n):\n",
    "    out = []\n",
    "    for x in range(n):\n",
    "        out.append(x)\n",
    "    return out\n",
    "    \n",
    "%timeit list_in_range(100000)\n",
    "    \n"
   ]
  },
  {
   "cell_type": "code",
   "execution_count": null,
   "metadata": {
    "collapsed": true
   },
   "outputs": [],
   "source": []
  }
 ],
 "metadata": {
  "kernelspec": {
   "display_name": "Python 2",
   "language": "python",
   "name": "python2"
  },
  "language_info": {
   "codemirror_mode": {
    "name": "ipython",
    "version": 2
   },
   "file_extension": ".py",
   "mimetype": "text/x-python",
   "name": "python",
   "nbconvert_exporter": "python",
   "pygments_lexer": "ipython2",
   "version": "2.7.11"
  }
 },
 "nbformat": 4,
 "nbformat_minor": 0
}
