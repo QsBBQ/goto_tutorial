{
 "metadata": {
  "kernelspec": {
   "display_name": "Python 2", 
   "language": "python", 
   "name": "python2"
  }, 
  "language_info": {
   "codemirror_mode": {
    "name": "ipython", 
    "version": 2
   }, 
   "file_extension": ".py", 
   "mimetype": "text/x-python", 
   "name": "python", 
   "nbconvert_exporter": "python", 
   "pygments_lexer": "ipython2", 
   "version": "2.7.11"
  }, 
  "name": ""
 }, 
 "nbformat": 2, 
 "nbformat_minor": 0, 
 "orig_nbformat": 4, 
 "orig_nbformat_minor": 0, 
 "worksheets": [
  {
   "cells": [
    {
     "cell_type": "markdown", 
     "metadata": {}, 
     "source": [
      "", 
      "#### pain points:", 
      "", 
      "* Parallel processing.", 
      "* Python-Spark API", 
      "* Classes", 
      "* How do you easily subset a df and create new variables", 
      "* Functions and how you can leverage a code to make it generic to many data wrangling processes. i.e. datalodThere\u2019s a * % include functionality in SAS that allows you to \u201ccall\u201d different programs in current program. Is that possible?", 
      "* Variable creation (all kinds: strings, dummys, combinations of existing vars, binning, etc.)", 
      "* How do you run in batch multiple programs", 
      "* subseting an existing df by passing the names of the vars you want to keep in a list format", 
      "* how to load an existing python program", 
      " ", 
      "", 
      "#### wish points:", 
      "", 
      "* Learn to use decorators more effectively", 
      "* How to create variables using longitudinal data", 
      "* There\u2019s a % include functionality in SAS that allows you to \u201ccall\u201d different programs in current program. Is that possible?", 
      "* Variable creation (all kinds: strings, dummys, combinations of existing vars, binning, etc.)", 
      "* How do you run in batch multiple programs", 
      "* subseting an existing df by passing the names of the vars you want to keep in a list format", 
      " ", 
      ""
     ]
    }, 
    {
     "cell_type": "markdown", 
     "metadata": {
      "collapsed": true
     }, 
     "source": [
      "## Parallel processing", 
      "", 
      "https://docs.python.org/2.7/library/multiprocessing.html", 
      "", 
      "    multiprocessing is a package that supports spawning processes using an API similar to the threading module. The multiprocessing package offers both local and remote concurrency, effectively side-stepping the Global Interpreter Lock by using subprocesses instead of threads. Due to this, the multiprocessing module allows the programmer to fully leverage multiple processors on a given machine. It runs on both Unix and Windows."
     ]
    }, 
    {
     "cell_type": "code", 
     "collapsed": false, 
     "input": [
      "from multiprocessing import Pool", 
      "import os", 
      "", 
      "def f(x):", 
      "    print(os.getpid(), x)", 
      "    return x * 2", 
      "", 
      "p = Pool(3)", 
      "p.map(f, [1, 2, 3])"
     ], 
     "language": "python", 
     "metadata": {}, 
     "outputs": [], 
     "prompt_number": null
    }, 
    {
     "cell_type": "markdown", 
     "metadata": {}, 
     "source": [
      "## pandas subset", 
      "", 
      " * subseting an existing df by passing the names of the vars you want to keep in a list format", 
      " * How do you easily subset a df and create new variables"
     ]
    }, 
    {
     "cell_type": "code", 
     "collapsed": false, 
     "input": [
      "import pandas as pd", 
      "import numpy as np", 
      "", 
      "dates = pd.date_range('1/1/2000', periods=8)", 
      "df = pd.DataFrame(np.random.randn(8, 4), index=dates, columns=['A', 'B', 'C', 'D'])", 
      "df"
     ], 
     "language": "python", 
     "metadata": {}, 
     "outputs": [], 
     "prompt_number": null
    }, 
    {
     "cell_type": "code", 
     "collapsed": false, 
     "input": [
      "df[(df.A < 0) & (df.B > 0)][[\"A\", \"B\"]]"
     ], 
     "language": "python", 
     "metadata": {}, 
     "outputs": [], 
     "prompt_number": null
    }, 
    {
     "cell_type": "markdown", 
     "metadata": {}, 
     "source": [
      "## calling different programs", 
      "", 
      "```", 
      "%macro words(string);", 
      "   %local count word;", 
      "   %let count=1;", 
      "   %let word=%qscan(&string,&count,%str( ));", 
      "   %do %while(&word ne);", 
      "      %let count=%eval(&count+1);", 
      "      %let word=%qscan(&string,&count,%str( ));", 
      "   %end;", 
      "   %let count=%eval(&count-1);", 
      "   %put The string contains &count words.;", 
      "%mend words;", 
      "", 
      "%words(This is a very long string)", 
      "```"
     ]
    }, 
    {
     "cell_type": "code", 
     "collapsed": false, 
     "input": [
      "", 
      "def words(string):", 
      "    \"This is what it does ....\"", 
      "    count = len(string.split())", 
      "    print(\"The string contains {} words\".format(count))", 
      "    return count", 
      "", 
      "words(\"This is a very long string\")", 
      ""
     ], 
     "language": "python", 
     "metadata": {}, 
     "outputs": [], 
     "prompt_number": null
    }, 
    {
     "cell_type": "code", 
     "collapsed": false, 
     "input": [
      "def do(func, string):", 
      "    func(string)", 
      "", 
      "do(words, \"One two three\")"
     ], 
     "language": "python", 
     "metadata": {}, 
     "outputs": [], 
     "prompt_number": null
    }, 
    {
     "cell_type": "code", 
     "collapsed": false, 
     "input": [
      "do = words", 
      "do(\"hi world\")"
     ], 
     "language": "python", 
     "metadata": {}, 
     "outputs": [], 
     "prompt_number": null
    }, 
    {
     "cell_type": "markdown", 
     "metadata": {}, 
     "source": [
      "### Variable creation (all kinds: strings, dummys, combinations of existing vars, binning, etc.)"
     ]
    }, 
    {
     "cell_type": "code", 
     "collapsed": false, 
     "input": [
      "a = \"string\"", 
      "b = a", 
      "a, b", 
      "a == b"
     ], 
     "language": "python", 
     "metadata": {}, 
     "outputs": [], 
     "prompt_number": null
    }, 
    {
     "cell_type": "code", 
     "collapsed": false, 
     "input": [
      "import sys", 
      "import random", 
      "from mock import Mock", 
      "", 
      "random.randint = Mock(return_value = \"hi\")", 
      "random.randint()", 
      "random.randint()", 
      "random.randint()", 
      "random.randint()", 
      ""
     ], 
     "language": "python", 
     "metadata": {}, 
     "outputs": [], 
     "prompt_number": null
    }, 
    {
     "cell_type": "code", 
     "collapsed": false, 
     "input": [
      "c = a + b", 
      "c"
     ], 
     "language": "python", 
     "metadata": {}, 
     "outputs": [], 
     "prompt_number": null
    }, 
    {
     "cell_type": "markdown", 
     "metadata": {}, 
     "source": [
      "# decorators", 
      "", 
      "http://thecodeship.com/patterns/guide-to-python-function-decorators/"
     ]
    }, 
    {
     "cell_type": "code", 
     "collapsed": false, 
     "input": [
      "def greet(name):", 
      "    return \"hello \" + name", 
      "", 
      "greet_someone = greet", 
      "print greet_someone(\"John\")"
     ], 
     "language": "python", 
     "metadata": {}, 
     "outputs": [], 
     "prompt_number": null
    }, 
    {
     "cell_type": "code", 
     "collapsed": false, 
     "input": [
      "def greet(name):", 
      "    def get_message():", 
      "        return \"Hello \"", 
      "", 
      "    result = get_message() + name", 
      "    return result", 
      "", 
      "print greet(\"John\")"
     ], 
     "language": "python", 
     "metadata": {}, 
     "outputs": [], 
     "prompt_number": null
    }, 
    {
     "cell_type": "code", 
     "collapsed": false, 
     "input": [
      "", 
      "def greet(name):", 
      "   return \"Hello \" + name ", 
      "", 
      "def call_func(func):", 
      "    other_name = \"John\"", 
      "    return func(other_name)  ", 
      "", 
      "print call_func(greet)"
     ], 
     "language": "python", 
     "metadata": {}, 
     "outputs": [], 
     "prompt_number": null
    }, 
    {
     "cell_type": "code", 
     "collapsed": false, 
     "input": [
      "def compose_greet_func():", 
      "    def get_message():", 
      "        return \"Hello there!\"", 
      "", 
      "    return get_message", 
      "", 
      "greet = compose_greet_func()", 
      "print greet()"
     ], 
     "language": "python", 
     "metadata": {}, 
     "outputs": [], 
     "prompt_number": null
    }, 
    {
     "cell_type": "code", 
     "collapsed": false, 
     "input": [
      "def compose_greet_func(name):", 
      "    def get_message():", 
      "        return \"Hello there \"+name+\"!\"", 
      "", 
      "    return get_message", 
      "", 
      "greet = compose_greet_func(\"John\")", 
      "print greet()"
     ], 
     "language": "python", 
     "metadata": {}, 
     "outputs": [], 
     "prompt_number": null
    }, 
    {
     "cell_type": "code", 
     "collapsed": false, 
     "input": [
      "", 
      "print(1)", 
      "", 
      "def get_text(name):", 
      "   print(6)", 
      "   return \"lorem ipsum, {0} dolor sit amet\".format(name)", 
      "", 
      "def p_decorate(func):", 
      "   print(3)", 
      "   def func_wrapper(name):", 
      "       print(5) ", 
      "       name = \"Brian and {}\".format(name)", 
      "       ret = func(name)", 
      "       ret += \"!!!!\"", 
      "       return \"<p>{0}</p>\".format(ret)", 
      "   print(4)", 
      "   return func_wrapper", 
      "", 
      "print(2)", 
      "my_get_text = p_decorate(get_text)", 
      "", 
      "print my_get_text(\"John\")", 
      "print(7)"
     ], 
     "language": "python", 
     "metadata": {}, 
     "outputs": [], 
     "prompt_number": null
    }, 
    {
     "cell_type": "code", 
     "collapsed": false, 
     "input": [
      "def p_decorate(func):", 
      "   def func_wrapper(name):", 
      "       return \"<p>{0}</p>\".format(func(name))", 
      "   return func_wrapper", 
      "", 
      "@p_decorate", 
      "def get_text(name):", 
      "   return \"lorem ipsum, {0} dolor sit amet\".format(name)", 
      "", 
      "@p_decorate", 
      "def get_more_text(string):", 
      "    return string", 
      "", 
      "print get_more_text(\"Hello world\")"
     ], 
     "language": "python", 
     "metadata": {}, 
     "outputs": [], 
     "prompt_number": null
    }, 
    {
     "cell_type": "code", 
     "collapsed": false, 
     "input": [
      "", 
      "def p_decorate(func):", 
      "   def func_wrapper(self):", 
      "       return \"<p>{0}</p>\".format(func(self))", 
      "   return func_wrapper", 
      "", 
      "class Person(object):", 
      "    def __init__(self):", 
      "        self.name = \"John\"", 
      "        self.family = \"Doe\"", 
      "", 
      "    @p_decorate", 
      "    def get_fullname(self):", 
      "        return self.name+\" \"+self.family", 
      "", 
      "my_person = Person()", 
      "print my_person.get_fullname()"
     ], 
     "language": "python", 
     "metadata": {}, 
     "outputs": [], 
     "prompt_number": null
    }, 
    {
     "cell_type": "code", 
     "collapsed": false, 
     "input": [
      "def tags(tag_name):", 
      "    def tags_decorator(func):", 
      "        def func_wrapper(name):", 
      "            return \"<{0}>{1}</{0}>\".format(tag_name, func(name))", 
      "        return func_wrapper", 
      "    return tags_decorator", 
      "", 
      "", 
      "", 
      "@tags(\"div\")", 
      "def get_text(name):", 
      "    return \"Hello \"+name", 
      "", 
      "", 
      "print get_text(\"John\")", 
      ""
     ], 
     "language": "python", 
     "metadata": {}, 
     "outputs": [], 
     "prompt_number": null
    }, 
    {
     "cell_type": "code", 
     "collapsed": true, 
     "input": [], 
     "language": "python", 
     "metadata": {}, 
     "outputs": [], 
     "prompt_number": null
    }
   ], 
   "metadata": {}
  }
 ]
}