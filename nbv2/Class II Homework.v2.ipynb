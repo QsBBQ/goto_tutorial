{
 "metadata": {
  "kernelspec": {
   "display_name": "Python 2", 
   "language": "python", 
   "name": "python2"
  }, 
  "language_info": {
   "codemirror_mode": {
    "name": "ipython", 
    "version": 2
   }, 
   "file_extension": ".py", 
   "mimetype": "text/x-python", 
   "name": "python", 
   "nbconvert_exporter": "python", 
   "pygments_lexer": "ipython2", 
   "version": "2.7.11"
  }, 
  "name": ""
 }, 
 "nbformat": 2, 
 "nbformat_minor": 0, 
 "orig_nbformat": 4, 
 "orig_nbformat_minor": 0, 
 "worksheets": [
  {
   "cells": [
    {
     "cell_type": "markdown", 
     "metadata": {}, 
     "source": [
      "1 Create a module called bob and import it"
     ]
    }, 
    {
     "cell_type": "code", 
     "collapsed": true, 
     "input": [], 
     "language": "python", 
     "metadata": {}, 
     "outputs": [], 
     "prompt_number": null
    }, 
    {
     "cell_type": "markdown", 
     "metadata": {}, 
     "source": [
      "2 given set [1, 2, 3, 5]  and [2, 3, 4, 7] find the intersection"
     ]
    }, 
    {
     "cell_type": "code", 
     "collapsed": true, 
     "input": [], 
     "language": "python", 
     "metadata": {}, 
     "outputs": [], 
     "prompt_number": null
    }, 
    {
     "cell_type": "markdown", 
     "metadata": {}, 
     "source": [
      "3 what is thee difference between an 'interpreter' and an 'editor', and (bonus) an IDE"
     ]
    }, 
    {
     "cell_type": "markdown", 
     "metadata": {}, 
     "source": []
    }, 
    {
     "cell_type": "markdown", 
     "metadata": {}, 
     "source": [
      "4 make a dictionary of 4 ducks, 3 dogs, and 10 cats. Now print out the items in alphebetical order. "
     ]
    }, 
    {
     "cell_type": "code", 
     "collapsed": true, 
     "input": [], 
     "language": "python", 
     "metadata": {}, 
     "outputs": [], 
     "prompt_number": null
    }, 
    {
     "cell_type": "markdown", 
     "metadata": {}, 
     "source": [
      "5 now print out above in order of quantity"
     ]
    }, 
    {
     "cell_type": "code", 
     "collapsed": true, 
     "input": [], 
     "language": "python", 
     "metadata": {}, 
     "outputs": [], 
     "prompt_number": null
    }, 
    {
     "cell_type": "markdown", 
     "metadata": {}, 
     "source": [
      "6 Create a string with a new line and print it out so it appears on seperate lines"
     ]
    }, 
    {
     "cell_type": "code", 
     "collapsed": true, 
     "input": [], 
     "language": "python", 
     "metadata": {}, 
     "outputs": [], 
     "prompt_number": null
    }, 
    {
     "cell_type": "markdown", 
     "metadata": {}, 
     "source": [
      "7 In the statement \"I love the fall\", what part of speach is 'fall'?"
     ]
    }, 
    {
     "cell_type": "code", 
     "collapsed": true, 
     "input": [], 
     "language": "python", 
     "metadata": {}, 
     "outputs": [], 
     "prompt_number": null
    }, 
    {
     "cell_type": "markdown", 
     "metadata": {}, 
     "source": [
      "8 in the statement \"The ball will fall\", what part of speach is 'fall'?"
     ]
    }, 
    {
     "cell_type": "code", 
     "collapsed": true, 
     "input": [], 
     "language": "python", 
     "metadata": {}, 
     "outputs": [], 
     "prompt_number": null
    }, 
    {
     "cell_type": "markdown", 
     "metadata": {}, 
     "source": [
      "9 make a numpy array"
     ]
    }, 
    {
     "cell_type": "code", 
     "collapsed": true, 
     "input": [], 
     "language": "python", 
     "metadata": {}, 
     "outputs": [], 
     "prompt_number": null
    }, 
    {
     "cell_type": "markdown", 
     "metadata": {}, 
     "source": [
      "bonus:  Without running the code below, write down the final values of A1, A2, An...", 
      "", 
      "```python", 
      "A0 = dict(zip(('a','b','c','d','e'),(1,2,3,4,5)))", 
      "A1 = range(10)", 
      "A2 = sorted([i for i in A1 if i in A0])", 
      "A3 = sorted([A0[s] for s in A0])", 
      "A4 = [i for i in A1 if i in A3]", 
      "A5 = {i:i*i for i in A1}", 
      "A6 = [[i,i*i] for i in A1]", 
      "```"
     ]
    }, 
    {
     "cell_type": "markdown", 
     "metadata": {}, 
     "source": []
    }, 
    {
     "cell_type": "markdown", 
     "metadata": {}, 
     "source": [
      "bonus 2: use 'time' magic to see if list comprehension is faster that a function that does the same thing "
     ]
    }, 
    {
     "cell_type": "code", 
     "collapsed": true, 
     "input": [], 
     "language": "python", 
     "metadata": {}, 
     "outputs": [], 
     "prompt_number": null
    }
   ], 
   "metadata": {}
  }
 ]
}