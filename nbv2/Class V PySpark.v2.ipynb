{
 "metadata": {
  "kernelspec": {
   "display_name": "Python 2", 
   "language": "python", 
   "name": "python2"
  }, 
  "language_info": {
   "codemirror_mode": {
    "name": "ipython", 
    "version": 2
   }, 
   "file_extension": ".py", 
   "mimetype": "text/x-python", 
   "name": "python", 
   "nbconvert_exporter": "python", 
   "pygments_lexer": "ipython2", 
   "version": "2.7.11"
  }, 
  "name": ""
 }, 
 "nbformat": 2, 
 "nbformat_minor": 0, 
 "orig_nbformat": 4, 
 "orig_nbformat_minor": 0, 
 "worksheets": [
  {
   "cells": [
    {
     "cell_type": "markdown", 
     "metadata": {
      "collapsed": false
     }, 
     "source": [
      "", 
      "Steps:", 
      "", 
      " * Created/launched EC2", 
      " * Anaconda ", 
      " * conda install spark / jre", 
      " * run spark example: spark-shell --master local[4]", 
      " * run notebook example: /home/ubuntu/anaconda2/bin/jupyter notebook --no-browser --ip=ec2-54-191-160-67.us-west-2.compute.amazonaws.com", 
      "", 
      "", 
      "https://spark.apache.org/docs/1.6.0/api/python/pyspark.mllib.html"
     ]
    }, 
    {
     "cell_type": "code", 
     "collapsed": false, 
     "input": [
      "!head /home/ubuntu/anaconda2/share/spark-1.3.0/data/mllib/sample_svm_data.txt"
     ], 
     "language": "python", 
     "metadata": {}, 
     "outputs": [
      {
       "output_type": "stream", 
       "stream": "stdout", 
       "text": [
        "1 0 2.52078447201548 0 0 0 2.004684436494304 2.000347299268466 0 2.228387042742021 2.228387042742023 0 0 0 0 0 0", 
        "0 2.857738033247042 0 0 2.619965104088255 0 2.004684436494304 2.000347299268466 0 2.228387042742021 2.228387042742023 0 0 0 0 0 0", 
        "0 2.857738033247042 0 2.061393766919624 0 0 2.004684436494304 0 0 2.228387042742021 2.228387042742023 0 0 0 0 0 0", 
        "1 0 0 2.061393766919624 2.619965104088255 0 2.004684436494304 2.000347299268466 0 0 0 0 2.055002875864414 0 0 0 0", 
        "1 2.857738033247042 0 2.061393766919624 2.619965104088255 0 2.004684436494304 0 0 0 0 0 2.055002875864414 0 0 0 0", 
        "0 2.857738033247042 0 2.061393766919624 2.619965104088255 0 2.004684436494304 2.000347299268466 0 2.228387042742021 2.228387042742023 0 0 0 0 0 0", 
        "1 0 0 0 2.619965104088255 0 2.004684436494304 0 0 2.228387042742021 2.228387042742023 0 2.055002875864414 0 0 0 0", 
        "1 0 0 0 2.619965104088255 0 2.004684436494304 0 0 2.228387042742021 2.228387042742023 0 2.055002875864414 0 0 0 0", 
        "0 2.857738033247042 0 2.061393766919624 2.619965104088255 0 2.004684436494304 2.000347299268466 2.122974378789621 2.228387042742021 2.228387042742023 0 0 0 0 12.72816758217773 0", 
        "0 2.857738033247042 0 0 2.619965104088255 0 0 0 0 2.228387042742021 2.228387042742023 0 2.055002875864414 0 0 0 0"
       ]
      }
     ], 
     "prompt_number": 1
    }, 
    {
     "cell_type": "code", 
     "collapsed": false, 
     "input": [
      "", 
      "# Example from Spark Docs @ http://spark.apache.org/docs/1.3.1/mllib-linear-methods.html", 
      "from pyspark.mllib.classification import LogisticRegressionWithSGD", 
      "from pyspark.mllib.regression import LabeledPoint", 
      "from numpy import array", 
      "from pyspark import SparkContext", 
      "", 
      "", 
      "sc = SparkContext(appName = \"python class\")", 
      "", 
      "# Load and parse the data", 
      "def parsePoint(line):", 
      "    values = [float(x) for x in line.split(' ')]", 
      "    return LabeledPoint(values[0], values[1:])", 
      "", 
      "data = sc.textFile(\"file:///home/ubuntu/anaconda2/share/spark-1.3.0/data/mllib/sample_svm_data.txt\")", 
      "parsedData = data.map(parsePoint)", 
      "", 
      "# Build the model", 
      "model = LogisticRegressionWithSGD.train(parsedData)", 
      "", 
      "# Evaluating the model on training data", 
      "labelsAndPreds = parsedData.map(lambda p: (p.label, model.predict(p.features)))", 
      "trainErr = labelsAndPreds.filter(lambda (v, p): v != p).count() / float(parsedData.count())", 
      "print(\"Training Error = \" + str(trainErr))"
     ], 
     "language": "python", 
     "metadata": {}, 
     "outputs": [
      {
       "output_type": "stream", 
       "stream": "stdout", 
       "text": [
        "Training Error = 0.363354037267"
       ]
      }
     ], 
     "prompt_number": 2
    }, 
    {
     "cell_type": "code", 
     "collapsed": true, 
     "input": [], 
     "language": "python", 
     "metadata": {}, 
     "outputs": [], 
     "prompt_number": null
    }
   ], 
   "metadata": {}
  }
 ]
}