{
 "metadata": {
  "kernelspec": {
   "display_name": "Python 3", 
   "language": "python", 
   "name": "python3"
  }, 
  "language_info": {
   "codemirror_mode": {
    "name": "ipython", 
    "version": 3
   }, 
   "file_extension": ".py", 
   "mimetype": "text/x-python", 
   "name": "python", 
   "nbconvert_exporter": "python", 
   "pygments_lexer": "ipython3", 
   "version": "3.5.1"
  }, 
  "name": ""
 }, 
 "nbformat": 2, 
 "nbformat_minor": 0, 
 "orig_nbformat": 4, 
 "orig_nbformat_minor": 0, 
 "worksheets": [
  {
   "cells": [
    {
     "cell_type": "markdown", 
     "metadata": {}, 
     "source": [
      "<img src=\"https://imgs.xkcd.com/comics/python.png\" />", 
      "", 
      "", 
      "From https://wiki.python.org/moin/BeginnersGuide/Overview", 
      "", 
      "", 
      "### Python is a clear and powerful object-oriented programming language, comparable to Perl, Ruby, Scheme, or Java.", 
      "", 
      "Some of Python's notable features:", 
      "", 
      " * Uses an elegant syntax, making the programs you write easier to read.", 
      " * Is an easy-to-use language that makes it simple to get your program working. This makes Python ideal for prototype development and other ad-hoc programming tasks, without compromising maintainability.", 
      " * Comes with a large standard library that supports many common programming tasks such as connecting to web servers, searching text with regular expressions,  reading and modifying files.", 
      " * Python's interactive mode makes it easy to test short snippets of code. There's also a bundled development environment called IDLE.", 
      " * Is easily extended by adding new modules implemented in a compiled language such as C or C++.", 
      " * Can also be embedded into an application to provide a programmable interface.", 
      " * Runs on many different computers and operating systems: Windows, MacOS, many brands of Unix, OS/2, ...", 
      " * Is free software in two senses.  It doesn't cost anything to download or use Python, or to include it in your application.  Python can also be freely modified and re-distributed, because while the language is copyrighted it's available under [open source license](http://www.python.org/psf/license/).", 
      "", 
      "Some programming-language features of Python are:", 
      "", 
      " * A variety of basic data types are available: numbers (floating point, complex, and unlimited-length long integers), strings (both ASCII and Unicode), lists, and dictionaries.", 
      " * Python supports object-oriented programming with classes and multiple inheritance.", 
      " * Code can be grouped into modules and packages.", 
      " * The language supports raising and catching exceptions, resulting in cleaner error handling.", 
      " * Data types are strongly and dynamically typed. Mixing incompatible types (e.g. attempting to add a string and a number) causes an exception to be raised, so errors are caught sooner.", 
      " * Python contains advanced programming features such as generators and list comprehensions.", 
      " * Python's automatic memory management frees you from having to manually allocate and free memory in your code.", 
      "", 
      "See the SimplePrograms collection of short programs, gradually increasing in length, which show off Python's syntax and readability."
     ]
    }, 
    {
     "cell_type": "code", 
     "collapsed": false, 
     "input": [
      "\"hello world\""
     ], 
     "language": "python", 
     "metadata": {}, 
     "outputs": [], 
     "prompt_number": null
    }, 
    {
     "cell_type": "markdown", 
     "metadata": {}, 
     "source": [
      "# Some of Python's notable features"
     ]
    }, 
    {
     "cell_type": "markdown", 
     "metadata": {}, 
     "source": [
      "### A variety of basic data types are available: numbers (floating point, complex, and unlimited-length long integers), strings (both ASCII and Unicode), lists, and dictionaries."
     ]
    }, 
    {
     "cell_type": "code", 
     "collapsed": false, 
     "input": [
      "a = \"1\"", 
      "print(type(a))", 
      "a = 1", 
      "print(type(a))"
     ], 
     "language": "python", 
     "metadata": {}, 
     "outputs": [], 
     "prompt_number": null
    }, 
    {
     "cell_type": "markdown", 
     "metadata": {}, 
     "source": [
      "lists", 
      "<img src=\"http://vignette4.wikia.nocookie.net/seuss/images/d/d3/Thing1-and-thing2.jpg/revision/latest/scale-to-width-down/180?cb=20131013015212&format=webp\"/>"
     ]
    }, 
    {
     "cell_type": "code", 
     "collapsed": false, 
     "input": [
      "things = [\"Thing One\", \"Thing Two\", \"Thing Three\"]", 
      "things"
     ], 
     "language": "python", 
     "metadata": {}, 
     "outputs": [], 
     "prompt_number": null
    }, 
    {
     "cell_type": "code", 
     "collapsed": false, 
     "input": [
      "type(things)"
     ], 
     "language": "python", 
     "metadata": {}, 
     "outputs": [], 
     "prompt_number": null
    }, 
    {
     "cell_type": "code", 
     "collapsed": false, 
     "input": [
      "len(things)"
     ], 
     "language": "python", 
     "metadata": {}, 
     "outputs": [], 
     "prompt_number": null
    }, 
    {
     "cell_type": "code", 
     "collapsed": true, 
     "input": [
      "things?"
     ], 
     "language": "python", 
     "metadata": {}, 
     "outputs": [], 
     "prompt_number": null
    }, 
    {
     "cell_type": "code", 
     "collapsed": false, 
     "input": [
      "things.append(\"Thing Four\")"
     ], 
     "language": "python", 
     "metadata": {}, 
     "outputs": [], 
     "prompt_number": null
    }, 
    {
     "cell_type": "code", 
     "collapsed": false, 
     "input": [
      "things"
     ], 
     "language": "python", 
     "metadata": {}, 
     "outputs": [], 
     "prompt_number": null
    }, 
    {
     "cell_type": "markdown", 
     "metadata": {}, 
     "source": [
      "Dictionaries"
     ]
    }, 
    {
     "cell_type": "code", 
     "collapsed": false, 
     "input": [
      "my_dictionary = {'something_unique': 1,", 
      "                 'somthing_else_unique': 2}", 
      "", 
      "type(my_dictionary)"
     ], 
     "language": "python", 
     "metadata": {}, 
     "outputs": [], 
     "prompt_number": null
    }, 
    {
     "cell_type": "code", 
     "collapsed": false, 
     "input": [
      "my_dictionary"
     ], 
     "language": "python", 
     "metadata": {}, 
     "outputs": [], 
     "prompt_number": null
    }, 
    {
     "cell_type": "code", 
     "collapsed": false, 
     "input": [
      "my_dictionary['something_unique']"
     ], 
     "language": "python", 
     "metadata": {}, 
     "outputs": [], 
     "prompt_number": null
    }, 
    {
     "cell_type": "code", 
     "collapsed": true, 
     "input": [
      "my_dictionary['something_unique'] = 2"
     ], 
     "language": "python", 
     "metadata": {}, 
     "outputs": [], 
     "prompt_number": null
    }, 
    {
     "cell_type": "code", 
     "collapsed": false, 
     "input": [
      "my_dictionary"
     ], 
     "language": "python", 
     "metadata": {}, 
     "outputs": [], 
     "prompt_number": null
    }, 
    {
     "cell_type": "code", 
     "collapsed": false, 
     "input": [
      "my_dictionary.values()", 
      "# in Python 2 returns [2, 2], in 3 returns dict_values([2, 2])"
     ], 
     "language": "python", 
     "metadata": {}, 
     "outputs": [], 
     "prompt_number": null
    }, 
    {
     "cell_type": "code", 
     "collapsed": false, 
     "input": [
      "my_dictionary.keys()", 
      "# in Python 2 returns ['something_unique', 'somthing_else_unique'], ", 
      "# in 3 returns dict_keys(['something_unique', 'somthing_else_unique'])"
     ], 
     "language": "python", 
     "metadata": {}, 
     "outputs": [], 
     "prompt_number": null
    }, 
    {
     "cell_type": "code", 
     "collapsed": true, 
     "input": [
      "my_dictionary?"
     ], 
     "language": "python", 
     "metadata": {}, 
     "outputs": [], 
     "prompt_number": null
    }, 
    {
     "cell_type": "markdown", 
     "metadata": {}, 
     "source": [
      "### Python supports object-oriented programming with classes and multiple inheritance."
     ]
    }, 
    {
     "cell_type": "code", 
     "collapsed": false, 
     "input": [
      "def say_hi(name, last):", 
      "    return \"hi {} {}\".format(name, last)", 
      "", 
      "say_hi(\"AJ\", \"Hussein\")"
     ], 
     "language": "python", 
     "metadata": {}, 
     "outputs": [], 
     "prompt_number": null
    }, 
    {
     "cell_type": "code", 
     "collapsed": true, 
     "input": [
      "", 
      "class Fancy(object):", 
      "    def get_y(self):", 
      "        return self.y", 
      "    ", 
      "class FancyMixIns(object):", 
      "    def add(self):", 
      "        return self.y + self.x", 
      "", 
      "class Fancier(Fancy, FancyMixIns):", 
      "    \"\"\" Some really good docs \"\"\"", 
      "    def __init__(self, x, y):", 
      "        self.x = x", 
      "        self.y = y", 
      "    ", 
      "    def __eq__(self, lhs):", 
      "        return bool(self.x == lhs.x)", 
      "        ", 
      "    def get_x(self):", 
      "        \"Yo this get 'x' of course\"", 
      "        return self.x", 
      "    ", 
      "    @staticmethod", 
      "    def help():", 
      "        help(Fancy)", 
      "        "
     ], 
     "language": "python", 
     "metadata": {}, 
     "outputs": [], 
     "prompt_number": null
    }, 
    {
     "cell_type": "code", 
     "collapsed": false, 
     "input": [
      "help(Fancier)"
     ], 
     "language": "python", 
     "metadata": {}, 
     "outputs": [], 
     "prompt_number": null
    }, 
    {
     "cell_type": "code", 
     "collapsed": false, 
     "input": [
      "a = Fancier(100, 250)", 
      "a.get_y()"
     ], 
     "language": "python", 
     "metadata": {}, 
     "outputs": [], 
     "prompt_number": null
    }, 
    {
     "cell_type": "code", 
     "collapsed": false, 
     "input": [
      "a.get_x()"
     ], 
     "language": "python", 
     "metadata": {}, 
     "outputs": [], 
     "prompt_number": null
    }, 
    {
     "cell_type": "code", 
     "collapsed": false, 
     "input": [
      "a.__dict__"
     ], 
     "language": "python", 
     "metadata": {}, 
     "outputs": [], 
     "prompt_number": null
    }, 
    {
     "cell_type": "code", 
     "collapsed": false, 
     "input": [
      "a.add()"
     ], 
     "language": "python", 
     "metadata": {}, 
     "outputs": [], 
     "prompt_number": null
    }, 
    {
     "cell_type": "code", 
     "collapsed": false, 
     "input": [
      "b = FancyMixIns()", 
      "b.y = 1", 
      "b.x = 2", 
      "b.add()"
     ], 
     "language": "python", 
     "metadata": {}, 
     "outputs": [], 
     "prompt_number": null
    }, 
    {
     "cell_type": "markdown", 
     "metadata": {}, 
     "source": [
      "### Code can be grouped into modules and packages."
     ]
    }, 
    {
     "cell_type": "code", 
     "collapsed": false, 
     "input": [
      "import this"
     ], 
     "language": "python", 
     "metadata": {}, 
     "outputs": [], 
     "prompt_number": null
    }, 
    {
     "cell_type": "code", 
     "collapsed": true, 
     "input": [
      "this?"
     ], 
     "language": "python", 
     "metadata": {}, 
     "outputs": [], 
     "prompt_number": null
    }, 
    {
     "cell_type": "markdown", 
     "metadata": {}, 
     "source": [
      "### The language supports raising and catching exceptions, resulting in cleaner error handling."
     ]
    }, 
    {
     "cell_type": "code", 
     "collapsed": false, 
     "input": [
      "1/0"
     ], 
     "language": "python", 
     "metadata": {}, 
     "outputs": [], 
     "prompt_number": null
    }, 
    {
     "cell_type": "code", 
     "collapsed": false, 
     "input": [
      "try:", 
      "    1 + 1", 
      "    2 + 2", 
      "    1/0", 
      "except ZeroDivisionError as e:", 
      "    print(e)", 
      "    print(\"I meant to do that\")", 
      "    ", 
      "    "
     ], 
     "language": "python", 
     "metadata": {}, 
     "outputs": [], 
     "prompt_number": null
    }, 
    {
     "cell_type": "markdown", 
     "metadata": {}, 
     "source": [
      "### Data types are strongly and dynamically typed. Mixing incompatible types (e.g. attempting to add a string and a number) causes an exception to be raised, so errors are caught sooner."
     ]
    }, 
    {
     "cell_type": "code", 
     "collapsed": false, 
     "input": [
      "1 + \"1\""
     ], 
     "language": "python", 
     "metadata": {}, 
     "outputs": [], 
     "prompt_number": null
    }, 
    {
     "cell_type": "markdown", 
     "metadata": {}, 
     "source": [
      "User defined types:", 
      "", 
      "```python", 
      "class MyType(object):   #  name it what you want", 
      "    \"\"\" Some documentation \"\"\"  # documentation is fun", 
      "    def my_method(self):  # create a method", 
      "        return \"have a nice day\" # return something ", 
      "```"
     ]
    }, 
    {
     "cell_type": "code", 
     "collapsed": true, 
     "input": [
      "class MyType(object):", 
      "    \"\"\" Some documentation \"\"\"", 
      "    def my_method(self):", 
      "        return \"have a nice day\""
     ], 
     "language": "python", 
     "metadata": {}, 
     "outputs": [], 
     "prompt_number": null
    }, 
    {
     "cell_type": "markdown", 
     "metadata": {}, 
     "source": [
      "> Note: Python uses whitespace. For example \"space-space-space-space def my_method...\""
     ]
    }, 
    {
     "cell_type": "code", 
     "collapsed": true, 
     "input": [
      "my_instance = MyType()"
     ], 
     "language": "python", 
     "metadata": {}, 
     "outputs": [], 
     "prompt_number": null
    }, 
    {
     "cell_type": "code", 
     "collapsed": false, 
     "input": [
      "my_instance.my_method()"
     ], 
     "language": "python", 
     "metadata": {}, 
     "outputs": [], 
     "prompt_number": null
    }, 
    {
     "cell_type": "code", 
     "collapsed": false, 
     "input": [
      "type(my_instance)"
     ], 
     "language": "python", 
     "metadata": {}, 
     "outputs": [], 
     "prompt_number": null
    }, 
    {
     "cell_type": "code", 
     "collapsed": false, 
     "input": [
      "type(MyType)"
     ], 
     "language": "python", 
     "metadata": {}, 
     "outputs": [], 
     "prompt_number": null
    }, 
    {
     "cell_type": "markdown", 
     "metadata": {}, 
     "source": [
      "### Python contains advanced programming features such as generators and list comprehensions."
     ]
    }, 
    {
     "cell_type": "markdown", 
     "metadata": {}, 
     "source": [
      "list comprehension"
     ]
    }, 
    {
     "cell_type": "code", 
     "collapsed": false, 
     "input": [
      "data = [\"Happy\", \"good\", \"sad\", \"ecstatic\"]", 
      "[x.upper() for x in data if x != \"sad\"]"
     ], 
     "language": "python", 
     "metadata": {}, 
     "outputs": [], 
     "prompt_number": null
    }, 
    {
     "cell_type": "markdown", 
     "metadata": {}, 
     "source": [
      "decorators"
     ]
    }, 
    {
     "cell_type": "code", 
     "collapsed": false, 
     "input": [
      "def my_decr(f):", 
      "    def inner_f(x):", 
      "        x += 1", 
      "        return x", 
      "    return inner_f", 
      "", 
      "", 
      "@my_decr", 
      "def pretty_function(x):", 
      "    return x", 
      "", 
      "pretty_function(1)"
     ], 
     "language": "python", 
     "metadata": {}, 
     "outputs": [], 
     "prompt_number": null
    }, 
    {
     "cell_type": "markdown", 
     "metadata": {}, 
     "source": [
      "### Python's automatic memory management frees you from having to manually allocate and free memory in your code."
     ]
    }, 
    {
     "cell_type": "code", 
     "collapsed": false, 
     "input": [
      "list_of_ones = [1] * 10", 
      "print(list_of_ones)", 
      "[id(value) for value in list_of_ones]"
     ], 
     "language": "python", 
     "metadata": {}, 
     "outputs": [], 
     "prompt_number": null
    }, 
    {
     "cell_type": "code", 
     "collapsed": false, 
     "input": [
      "import copy", 
      "new_list_of_ones = copy.copy(list_of_ones)", 
      "[id(value) for value in new_list_of_ones]"
     ], 
     "language": "python", 
     "metadata": {}, 
     "outputs": [], 
     "prompt_number": null
    }, 
    {
     "cell_type": "code", 
     "collapsed": false, 
     "input": [
      "id(list_of_ones)"
     ], 
     "language": "python", 
     "metadata": {}, 
     "outputs": [], 
     "prompt_number": null
    }, 
    {
     "cell_type": "code", 
     "collapsed": false, 
     "input": [
      "id(new_list_of_ones)"
     ], 
     "language": "python", 
     "metadata": {}, 
     "outputs": [], 
     "prompt_number": null
    }, 
    {
     "cell_type": "code", 
     "collapsed": false, 
     "input": [
      "id(copy.copy(new_list_of_ones))"
     ], 
     "language": "python", 
     "metadata": {}, 
     "outputs": [], 
     "prompt_number": null
    }, 
    {
     "cell_type": "markdown", 
     "metadata": {}, 
     "source": [
      "### Some Extra notes", 
      "", 
      "dictonaries point at data"
     ]
    }, 
    {
     "cell_type": "code", 
     "collapsed": false, 
     "input": [
      "", 
      "a = {'a': 1, 'b': 2}", 
      "", 
      "def do(my_dict):", 
      "    my_dict['a'] = 7", 
      "    # return nothing", 
      "    ", 
      "    ", 
      "print(a)", 
      "do(a)", 
      "print(a)", 
      "", 
      "", 
      ""
     ], 
     "language": "python", 
     "metadata": {}, 
     "outputs": [], 
     "prompt_number": null
    }, 
    {
     "cell_type": "markdown", 
     "metadata": {}, 
     "source": [
      "argument and key word expansion"
     ]
    }, 
    {
     "cell_type": "code", 
     "collapsed": false, 
     "input": [
      "", 
      "def somestuff(*args, **kwargs):", 
      "    print(\"{} {}\".format(args, kwargs))", 
      "    ", 
      "", 
      "somestuff(*[4, 5, 6, \"a\"], x=7, xxxxxx=555)", 
      "", 
      "", 
      ""
     ], 
     "language": "python", 
     "metadata": {}, 
     "outputs": [], 
     "prompt_number": null
    }, 
    {
     "cell_type": "markdown", 
     "metadata": {}, 
     "source": [
      "tuples as keys"
     ]
    }, 
    {
     "cell_type": "code", 
     "collapsed": false, 
     "input": [
      "{('1', ): 1}"
     ], 
     "language": "python", 
     "metadata": {}, 
     "outputs": [], 
     "prompt_number": null
    }, 
    {
     "cell_type": "code", 
     "collapsed": true, 
     "input": [], 
     "language": "python", 
     "metadata": {}, 
     "outputs": [], 
     "prompt_number": null
    }
   ], 
   "metadata": {}
  }
 ]
}