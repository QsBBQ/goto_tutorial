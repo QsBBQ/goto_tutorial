{
 "metadata": {
  "kernelspec": {
   "display_name": "Python 3", 
   "language": "python", 
   "name": "python3"
  }, 
  "language_info": {
   "codemirror_mode": {
    "name": "ipython", 
    "version": 3
   }, 
   "file_extension": ".py", 
   "mimetype": "text/x-python", 
   "name": "python", 
   "nbconvert_exporter": "python", 
   "pygments_lexer": "ipython3", 
   "version": "3.5.1"
  }, 
  "name": ""
 }, 
 "nbformat": 2, 
 "nbformat_minor": 0, 
 "orig_nbformat": 4, 
 "orig_nbformat_minor": 0, 
 "worksheets": [
  {
   "cells": [
    {
     "cell_type": "markdown", 
     "metadata": {}, 
     "source": [
      "# Class II Outline", 
      "", 
      "* Homework review", 
      "* How Python works", 
      "    * on disk `.py` files", 
      "    * interpreter", 
      "    * IDEs & editors", 
      "    * Jupyter notebook ", 
      "    * modules ", 
      "* Built-in types review", 
      "    * int/float/decimal", 
      "    * str/unicode", 
      "    * list/tuple/set", 
      "    * dictionaries / ordereddicts ", 
      "    * scope", 
      "* Intro to packages", 
      "    * NLTK", 
      "    * Numpy ", 
      "* Next week outlook", 
      "    * pair-coding exercise ", 
      "* Post-class office hours", 
      "", 
      "", 
      "## How works this Python?", 
      "", 
      "", 
      "<img src=\"how_works.png\"/>", 
      "", 
      "", 
      "### On disk", 
      "", 
      "#### 1. Make file", 
      "", 
      "Example file \"`say_hello.py`\":", 
      "", 
      "```python", 
      "print(\"Hello World\")", 
      "```", 
      "", 
      "#### 2. Call file", 
      "", 
      "```bash", 
      "python say_hello.py", 
      "```", 
      "", 
      "#### 3. Expected output", 
      "", 
      "```bash", 
      "Hello World", 
      "```", 
      "", 
      "### In interpreter", 
      "", 
      "An Read-Eval-Print Loop (REPL) 'interpreter'", 
      "", 
      "```bash", 
      "python", 
      "Python 2.7 (#1, Feb 28 2010, 00:02:06)", 
      "Type \"help\", \"copyright\", \"credits\" or \"license\" for more information.", 
      ">>>", 
      "```", 
      "", 
      "IPython; a better Python shell", 
      "", 
      "```python", 
      "Python 2.7.11 |Anaconda 2.2.0 (x86_64)| (default, Dec  6 2015, 18:57:58) ", 
      "Type \"copyright\", \"credits\" or \"license\" for more information.", 
      "", 
      "IPython 4.1.2 -- An enhanced Interactive Python.", 
      "?         -> Introduction and overview of IPython's features.", 
      "%quickref -> Quick reference.", 
      "help      -> Python's own help system.", 
      "object?   -> Details about 'object', use 'object??' for extra details.", 
      "", 
      "In [1]: ", 
      "```", 
      "Or in this notebook"
     ]
    }, 
    {
     "cell_type": "code", 
     "collapsed": false, 
     "input": [
      "from __future__ import print_function", 
      "", 
      "print(\"Hello World\")"
     ], 
     "language": "python", 
     "metadata": {}, 
     "outputs": [], 
     "prompt_number": null
    }, 
    {
     "cell_type": "markdown", 
     "metadata": {}, 
     "source": [
      "Jupyter Notebook tips:", 
      "", 
      "* Help >> User Interface Tour", 
      "* Command mode vs. Edit mode (modal editor)", 
      "* Keyboard shortcut cheat-sheet: Hit <kbd>H</kbd> in command mode (<kbd>Esc</kbd> first)    "
     ]
    }, 
    {
     "cell_type": "markdown", 
     "metadata": {}, 
     "source": [
      "## Editors vs IDEs ", 
      "", 
      "An Editor (like Sublime Text or VIM):", 
      "", 
      "<img src=\"sublime_text.png\"/>", 
      "", 
      "Or a full IDE (like PyCharm):", 
      "", 
      "<img src=\"pycharm.jpg\"/>", 
      ""
     ]
    }, 
    {
     "cell_type": "markdown", 
     "metadata": {
      "collapsed": true
     }, 
     "source": [
      "### modules", 
      "", 
      "Let's build our own.", 
      "", 
      "```", 
      "foo_module/", 
      "  |", 
      "  +-__init__.py", 
      "  |", 
      "  +-bar.py", 
      "```", 
      "", 
      "", 
      "[browse](/tree/foo_module)"
     ]
    }, 
    {
     "cell_type": "code", 
     "collapsed": false, 
     "input": [
      "import foo_module"
     ], 
     "language": "python", 
     "metadata": {}, 
     "outputs": [], 
     "prompt_number": null
    }, 
    {
     "cell_type": "code", 
     "collapsed": false, 
     "input": [
      "foo_module.bar.a"
     ], 
     "language": "python", 
     "metadata": {}, 
     "outputs": [], 
     "prompt_number": null
    }, 
    {
     "cell_type": "markdown", 
     "metadata": {
      "collapsed": true
     }, 
     "source": [
      "## Built-in types review", 
      "", 
      " * int/float/decimal", 
      " * str/unicode", 
      " * list/tuple/set", 
      " * dictionaries / ordereddicts ", 
      " * scope", 
      " ", 
      "How to define a variable:", 
      "", 
      "| Language   | Syntax                                   | Example                                                            |", 
      "|------------|------------------------------------------|--------------------------------------------------------------------|", 
      "| Javascript | var variable = new class(parameters)     | my_int_array = new Array();                                        |", 
      "| Java/C#    | class variable = new class(parameters);  | int[] my_int_array = new int[10];                                  |", 
      "| C/C++      | class *variable = new class(parameters); | int *my_int_array,= new int[10];                                   |", 
      "| VB         | Dim variable As New class(parameters)    | Dim my_int_array (10) As Integer                                   |", 
      "| Ruby       | variable = class.new(parameters)         | my_int_array = Array.new(10)                                       |", 
      "|  Python    | variable = class(parameters)             | my_int_array = [] ## or use arrays: my_array = array('i', [1,2,3,4,5]) |"
     ]
    }, 
    {
     "cell_type": "code", 
     "collapsed": false, 
     "input": [
      "i = 1", 
      "print(i, type(i))"
     ], 
     "language": "python", 
     "metadata": {}, 
     "outputs": [], 
     "prompt_number": null
    }, 
    {
     "cell_type": "code", 
     "collapsed": false, 
     "input": [
      "i = 1.0", 
      "print(i, type(i))"
     ], 
     "language": "python", 
     "metadata": {}, 
     "outputs": [], 
     "prompt_number": null
    }, 
    {
     "cell_type": "code", 
     "collapsed": true, 
     "input": [
      "import decimal"
     ], 
     "language": "python", 
     "metadata": {}, 
     "outputs": [], 
     "prompt_number": null
    }, 
    {
     "cell_type": "code", 
     "collapsed": false, 
     "input": [
      "decimal.D"
     ], 
     "language": "python", 
     "metadata": {}, 
     "outputs": [], 
     "prompt_number": null
    }, 
    {
     "cell_type": "code", 
     "collapsed": false, 
     "input": [
      "from decimal import Decimal", 
      "# altrnative to IEEE floating point version implemented by most computer hardware", 
      "help(Decimal)"
     ], 
     "language": "python", 
     "metadata": {}, 
     "outputs": [], 
     "prompt_number": null
    }, 
    {
     "cell_type": "code", 
     "collapsed": false, 
     "input": [
      "i = Decimal(\"1.0\")", 
      "i"
     ], 
     "language": "python", 
     "metadata": {}, 
     "outputs": [], 
     "prompt_number": null
    }, 
    {
     "cell_type": "code", 
     "collapsed": false, 
     "input": [
      "Decimal(\"1.0\") - Decimal(\".99\")"
     ], 
     "language": "python", 
     "metadata": {}, 
     "outputs": [], 
     "prompt_number": null
    }, 
    {
     "cell_type": "code", 
     "collapsed": false, 
     "input": [
      "i = \"I'm a String\"", 
      "i"
     ], 
     "language": "python", 
     "metadata": {}, 
     "outputs": [], 
     "prompt_number": null
    }, 
    {
     "cell_type": "code", 
     "collapsed": false, 
     "input": [
      "i = \"\"\"So ", 
      "Am I!", 
      "But triple quoted\"\"\"", 
      "print(i)"
     ], 
     "language": "python", 
     "metadata": {}, 
     "outputs": [], 
     "prompt_number": null
    }, 
    {
     "cell_type": "code", 
     "collapsed": false, 
     "input": [
      "type(i)"
     ], 
     "language": "python", 
     "metadata": {}, 
     "outputs": [], 
     "prompt_number": null
    }, 
    {
     "cell_type": "code", 
     "collapsed": false, 
     "input": [
      "i = \"a\\nb\"", 
      "", 
      "print(i)"
     ], 
     "language": "python", 
     "metadata": {}, 
     "outputs": [], 
     "prompt_number": null
    }, 
    {
     "cell_type": "markdown", 
     "metadata": {}, 
     "source": [
      "Raw string"
     ]
    }, 
    {
     "cell_type": "code", 
     "collapsed": false, 
     "input": [
      "i = r\"a\\nb\"", 
      "print(i)"
     ], 
     "language": "python", 
     "metadata": {}, 
     "outputs": [], 
     "prompt_number": null
    }, 
    {
     "cell_type": "markdown", 
     "metadata": {}, 
     "source": [
      "Unicode"
     ]
    }, 
    {
     "cell_type": "code", 
     "collapsed": false, 
     "input": [
      "i = u\"(\\u0e07'\\u0300-'\\u0301)\\u0e07\"", 
      "print(i)"
     ], 
     "language": "python", 
     "metadata": {}, 
     "outputs": [], 
     "prompt_number": null
    }, 
    {
     "cell_type": "markdown", 
     "metadata": {}, 
     "source": [
      "#### List/Tuple/Set"
     ]
    }, 
    {
     "cell_type": "code", 
     "collapsed": false, 
     "input": [
      "(1, 2, 3) != [1, 2, 3]"
     ], 
     "language": "python", 
     "metadata": {}, 
     "outputs": [], 
     "prompt_number": null
    }, 
    {
     "cell_type": "code", 
     "collapsed": true, 
     "input": [
      "a = [1, 2, 3]"
     ], 
     "language": "python", 
     "metadata": {}, 
     "outputs": [], 
     "prompt_number": null
    }, 
    {
     "cell_type": "code", 
     "collapsed": false, 
     "input": [
      "a[0] = 3", 
      "a"
     ], 
     "language": "python", 
     "metadata": {}, 
     "outputs": [], 
     "prompt_number": null
    }, 
    {
     "cell_type": "code", 
     "collapsed": true, 
     "input": [
      "b = (1, 2, 3)"
     ], 
     "language": "python", 
     "metadata": {}, 
     "outputs": [], 
     "prompt_number": null
    }, 
    {
     "cell_type": "code", 
     "collapsed": false, 
     "input": [
      "b[0] = 1"
     ], 
     "language": "python", 
     "metadata": {}, 
     "outputs": [], 
     "prompt_number": null
    }, 
    {
     "cell_type": "code", 
     "collapsed": false, 
     "input": [
      "set([1, 2, 3]) == set([1, 2, 3, 3, 3])"
     ], 
     "language": "python", 
     "metadata": {}, 
     "outputs": [], 
     "prompt_number": null
    }, 
    {
     "cell_type": "code", 
     "collapsed": false, 
     "input": [
      "set_1_to_3 = set([1, 2, 3])", 
      "set_2_to_4 = set([2, 3, 4])", 
      "set_1_to_3 - set_2_to_4"
     ], 
     "language": "python", 
     "metadata": {}, 
     "outputs": [], 
     "prompt_number": null
    }, 
    {
     "cell_type": "code", 
     "collapsed": false, 
     "input": [
      "set_1_to_3 & set_2_to_4"
     ], 
     "language": "python", 
     "metadata": {}, 
     "outputs": [], 
     "prompt_number": null
    }, 
    {
     "cell_type": "code", 
     "collapsed": false, 
     "input": [
      "set_1_to_3 | set_2_to_4"
     ], 
     "language": "python", 
     "metadata": {}, 
     "outputs": [], 
     "prompt_number": null
    }, 
    {
     "cell_type": "markdown", 
     "metadata": {}, 
     "source": [
      "#### Dictonaries / Ordered Dicts"
     ]
    }, 
    {
     "cell_type": "code", 
     "collapsed": true, 
     "input": [], 
     "language": "python", 
     "metadata": {}, 
     "outputs": [], 
     "prompt_number": null
    }, 
    {
     "cell_type": "code", 
     "collapsed": true, 
     "input": [
      "my_dict = {'a': 1, 'b': 2, 'c': 3, 5: 'd'}"
     ], 
     "language": "python", 
     "metadata": {}, 
     "outputs": [], 
     "prompt_number": null
    }, 
    {
     "cell_type": "code", 
     "collapsed": false, 
     "input": [
      "my_dict.keys()"
     ], 
     "language": "python", 
     "metadata": {}, 
     "outputs": [], 
     "prompt_number": null
    }, 
    {
     "cell_type": "code", 
     "collapsed": false, 
     "input": [
      "my_dict.values()"
     ], 
     "language": "python", 
     "metadata": {}, 
     "outputs": [], 
     "prompt_number": null
    }, 
    {
     "cell_type": "code", 
     "collapsed": false, 
     "input": [
      "my_dict.items()"
     ], 
     "language": "python", 
     "metadata": {}, 
     "outputs": [], 
     "prompt_number": null
    }, 
    {
     "cell_type": "code", 
     "collapsed": true, 
     "input": [
      "my_dict['a'] = 1337"
     ], 
     "language": "python", 
     "metadata": {}, 
     "outputs": [], 
     "prompt_number": null
    }, 
    {
     "cell_type": "code", 
     "collapsed": false, 
     "input": [
      "my_dict"
     ], 
     "language": "python", 
     "metadata": {}, 
     "outputs": [], 
     "prompt_number": null
    }, 
    {
     "cell_type": "markdown", 
     "metadata": {}, 
     "source": [
      "*order is not preserved*"
     ]
    }, 
    {
     "cell_type": "code", 
     "collapsed": true, 
     "input": [
      "del my_dict['b']"
     ], 
     "language": "python", 
     "metadata": {}, 
     "outputs": [], 
     "prompt_number": null
    }, 
    {
     "cell_type": "code", 
     "collapsed": false, 
     "input": [
      "my_dict"
     ], 
     "language": "python", 
     "metadata": {}, 
     "outputs": [], 
     "prompt_number": null
    }, 
    {
     "cell_type": "code", 
     "collapsed": false, 
     "input": [
      "my_dict.pop('c')"
     ], 
     "language": "python", 
     "metadata": {}, 
     "outputs": [], 
     "prompt_number": null
    }, 
    {
     "cell_type": "code", 
     "collapsed": false, 
     "input": [
      "my_dict"
     ], 
     "language": "python", 
     "metadata": {}, 
     "outputs": [], 
     "prompt_number": null
    }, 
    {
     "cell_type": "code", 
     "collapsed": false, 
     "input": [
      "len(my_dict)"
     ], 
     "language": "python", 
     "metadata": {}, 
     "outputs": [], 
     "prompt_number": null
    }, 
    {
     "cell_type": "code", 
     "collapsed": false, 
     "input": [
      "print(\"\\n\".join([\"key: '{}' value: '{}'\".format(k, v) for k, v in my_dict.items()]))"
     ], 
     "language": "python", 
     "metadata": {}, 
     "outputs": [], 
     "prompt_number": null
    }, 
    {
     "cell_type": "markdown", 
     "metadata": {}, 
     "source": [
      "special: ordered dicts"
     ]
    }, 
    {
     "cell_type": "code", 
     "collapsed": true, 
     "input": [
      "from collections import OrderedDict"
     ], 
     "language": "python", 
     "metadata": {}, 
     "outputs": [], 
     "prompt_number": null
    }, 
    {
     "cell_type": "code", 
     "collapsed": true, 
     "input": [
      "ordered_dict = OrderedDict(a=1, b=2, c=3, d=4)", 
      "regular_dict = dict(a=1, b=2, c=3)", 
      "ordered_dict[1] = 4", 
      "regular_dict[1] = 4"
     ], 
     "language": "python", 
     "metadata": {}, 
     "outputs": [], 
     "prompt_number": null
    }, 
    {
     "cell_type": "code", 
     "collapsed": false, 
     "input": [
      "ordered_dict"
     ], 
     "language": "python", 
     "metadata": {}, 
     "outputs": [], 
     "prompt_number": null
    }, 
    {
     "cell_type": "code", 
     "collapsed": false, 
     "input": [
      "regular_dict"
     ], 
     "language": "python", 
     "metadata": {}, 
     "outputs": [], 
     "prompt_number": null
    }, 
    {
     "cell_type": "markdown", 
     "metadata": {}, 
     "source": [
      "#### scope", 
      "LEGB Rule.", 
      "", 
      "* Local ", 
      "* Enclosed", 
      "* Global", 
      "* Built In"
     ]
    }, 
    {
     "cell_type": "code", 
     "collapsed": false, 
     "input": [
      "x = 100", 
      "print(\"1. Global x:\", x)", 
      "class Test(object):", 
      "    y = x", 
      "    print(\"2. Enclosed y:\", y)", 
      "    x = x + 1 ", 
      "    print(\"3. Enclosed x:\", x)", 
      "    z = x", 
      "", 
      "    def method(self):", 
      "        print(\"4. Enclosed self.x\", self.x)", 
      "        print(\"5. Global x\", x)", 
      "        try:", 
      "            print(y)", 
      "        except NameError as e:", 
      "            print(\"6.\", e)", 
      "", 
      "    def method_local_ref(self):", 
      "        try:", 
      "            print(x)", 
      "        except UnboundLocalError as e:", 
      "            print(\"7.\", e)", 
      "        x = 200 ", 
      "        print(\"8. Local x\", x)", 
      "        ", 
      "inst = Test()", 
      "inst.method()", 
      "inst.method_local_ref()"
     ], 
     "language": "python", 
     "metadata": {}, 
     "outputs": [], 
     "prompt_number": null
    }, 
    {
     "cell_type": "markdown", 
     "metadata": {}, 
     "source": [
      "# Intro to Packages", 
      "* NLTK (Natural Language Toolkit) http://www.nltk.org/", 
      "* Numpy http://www.numpy.org/"
     ]
    }, 
    {
     "cell_type": "code", 
     "collapsed": false, 
     "input": [
      "!conda install -q --yes nltk"
     ], 
     "language": "python", 
     "metadata": {}, 
     "outputs": [], 
     "prompt_number": null
    }, 
    {
     "cell_type": "code", 
     "collapsed": true, 
     "input": [
      "import nltk"
     ], 
     "language": "python", 
     "metadata": {}, 
     "outputs": [], 
     "prompt_number": null
    }, 
    {
     "cell_type": "code", 
     "collapsed": false, 
     "input": [
      "nltk.download(\"brown\")", 
      "nltk.download(\"averaged_perceptron_tagger\")"
     ], 
     "language": "python", 
     "metadata": {}, 
     "outputs": [], 
     "prompt_number": null
    }, 
    {
     "cell_type": "code", 
     "collapsed": true, 
     "input": [
      "from nltk.corpus import brown"
     ], 
     "language": "python", 
     "metadata": {}, 
     "outputs": [], 
     "prompt_number": null
    }, 
    {
     "cell_type": "code", 
     "collapsed": false, 
     "input": [
      "brown.words()[0:10]"
     ], 
     "language": "python", 
     "metadata": {}, 
     "outputs": [], 
     "prompt_number": null
    }, 
    {
     "cell_type": "code", 
     "collapsed": false, 
     "input": [
      "brown.tagged_words()[0:10]"
     ], 
     "language": "python", 
     "metadata": {}, 
     "outputs": [], 
     "prompt_number": null
    }, 
    {
     "cell_type": "markdown", 
     "metadata": {}, 
     "source": [
      "POS:", 
      " * AT\tarticle\ta, the, no", 
      " * NP\tproper noun or part of name phrase", 
      " * JJ\tadjective", 
      " * VBD\tverb, past tense", 
      " * NN\tsingular or mass noun", 
      " * NNS\tplural noun", 
      " * ...", 
      "  "
     ]
    }, 
    {
     "cell_type": "code", 
     "collapsed": true, 
     "input": [
      "from nltk import sent_tokenize, word_tokenize, pos_tag", 
      "", 
      "text = \"\"\"Change will not come if we wait for some other person or some other time.", 
      "We are the ones we've been waiting for. We are the change that we seek.\"\"\""
     ], 
     "language": "python", 
     "metadata": {}, 
     "outputs": [], 
     "prompt_number": null
    }, 
    {
     "cell_type": "code", 
     "collapsed": false, 
     "input": [
      "sents = sent_tokenize(text)", 
      "sents"
     ], 
     "language": "python", 
     "metadata": {}, 
     "outputs": [], 
     "prompt_number": null
    }, 
    {
     "cell_type": "code", 
     "collapsed": false, 
     "input": [
      "tokens = word_tokenize(sents[0])", 
      "tokens"
     ], 
     "language": "python", 
     "metadata": {}, 
     "outputs": [], 
     "prompt_number": null
    }, 
    {
     "cell_type": "code", 
     "collapsed": false, 
     "input": [
      "pos_tag(tokens)"
     ], 
     "language": "python", 
     "metadata": {}, 
     "outputs": [], 
     "prompt_number": null
    }, 
    {
     "cell_type": "code", 
     "collapsed": false, 
     "input": [
      "pos_tag(word_tokenize(\"I cubbed a ball\"))"
     ], 
     "language": "python", 
     "metadata": {}, 
     "outputs": [], 
     "prompt_number": null
    }, 
    {
     "cell_type": "code", 
     "collapsed": true, 
     "input": [], 
     "language": "python", 
     "metadata": {}, 
     "outputs": [], 
     "prompt_number": null
    }, 
    {
     "cell_type": "markdown", 
     "metadata": {}, 
     "source": [
      "#### Numpy", 
      "", 
      "http://phillipmfeldman.org/Python/Advantages_of_Python_Over_Matlab.html", 
      "", 
      "> Python's support for automatic broadcasting allows for cleaner, more readable code. The following is a sample of Matlab code that performs element-wise subtraction and multiplication of arrays with broadcasting, where A has dimensions 20&times;1&times;15, B is 20&times;12&times;1, and C is 1&times;12&times;15:", 
      "", 
      ">     D = bsxfun(@times, bsxfun(@minus, B, C), A);", 
      "", 
      "> The corresponding Python/Numpy code below looks exactly like the equation that it implements:", 
      "", 
      ">     D = A * (B - C)", 
      "    ", 
      "Matlab users can [check the Numpy docs][npmatlab] for how to \"translate\" Matlab to Numpy", 
      "", 
      "[npmatlab]: https://docs.scipy.org/doc/numpy-dev/user/numpy-for-matlab-users.html#table-of-rough-matlab-numpy-equivalents"
     ]
    }, 
    {
     "cell_type": "code", 
     "collapsed": false, 
     "input": [
      "from numpy import arange", 
      "", 
      "Nelements = 100000", 
      "", 
      "x = arange(Nelements)", 
      "y = range(Nelements)", 
      "", 
      "print('-- Numpy --')", 
      "%timeit x.sum()", 
      "", 
      "print('-- Python --')", 
      "%timeit sum(y)"
     ], 
     "language": "python", 
     "metadata": {}, 
     "outputs": [], 
     "prompt_number": null
    }, 
    {
     "cell_type": "code", 
     "collapsed": true, 
     "input": [], 
     "language": "python", 
     "metadata": {}, 
     "outputs": [], 
     "prompt_number": null
    }
   ], 
   "metadata": {}
  }
 ]
}