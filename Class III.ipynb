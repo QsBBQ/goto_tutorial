{
 "cells": [
  {
   "cell_type": "code",
   "execution_count": null,
   "metadata": {
    "collapsed": true
   },
   "outputs": [],
   "source": [
    "import pandas as pd"
   ]
  },
  {
   "cell_type": "markdown",
   "metadata": {},
   "source": [
    "## Pair Programming\n",
    "\n",
    "Do the following as Pairs.\n",
    "\n",
    "During Class:\n",
    "\n",
    " * Person One: is the \"driver\"\n",
    " * Person Two/Three: is the \"observer\"\n",
    " \n",
    "Attempt in :30 minutes:\n",
    "\n",
    " 1. Complete your notebook\n",
    " 2. Send to your team members to code review\n",
    " 3. Address their comments until happy\n",
    " 4. submit\n",
    " "
   ]
  },
  {
   "cell_type": "markdown",
   "metadata": {},
   "source": [
    "# The Exercise\n",
    "\n",
    "You and your pair will dive head deep into the world of Pair Programming. The Goal is to build one combined dataframe out of four data sets.\n",
    "\n",
    "There are four gapminder data sets:\n",
    "\n",
    "\n",
    " * [fertility](http://spreadsheets.google.com/pub?key=phAwcNAVuyj0TAlJeCEzcGQ)\n",
    " * [life_expectancy](http://spreadsheets.google.com/pub?key=tiAiXcrneZrUnnJ9dBU-PAw)\n",
    " * [population](http://spreadsheets.google.com/pub?key=phAwcNAVuyj0XOoBL_n5tAQ)\n",
    " * [regions](https://docs.google.com/spreadsheets/d/1OxmGUNWeADbPJkQxVPupSOK5MbAECdqThnvyPrwG5Os/pub?gid=1)\n",
    "\n",
    "\n"
   ]
  },
  {
   "cell_type": "code",
   "execution_count": null,
   "metadata": {
    "collapsed": false
   },
   "outputs": [],
   "source": [
    "import os\n",
    "os.listdir(\"data\")"
   ]
  },
  {
   "cell_type": "markdown",
   "metadata": {},
   "source": [
    "### Step 1: read all the files into data frames\n",
    "\n",
    "> Hint: look here http://pandas.pydata.org/pandas-docs/stable/generated/pandas.DataFrame.from_csv.html#pandas-dataframe-from-csv\n",
    ">  or http://pandas.pydata.org/pandas-docs/stable/generated/pandas.read_csv.html\n",
    "\n",
    "Please notice you already have imported pandas as pd.  You might want to tab-complete or use a '?' to explore it more.\n",
    "\n",
    "*output variables named: df_fertility, df_life, df_population, df_regions*\n"
   ]
  },
  {
   "cell_type": "code",
   "execution_count": null,
   "metadata": {
    "collapsed": false
   },
   "outputs": [],
   "source": []
  },
  {
   "cell_type": "markdown",
   "metadata": {},
   "source": [
    "### Step 2: create list of years as intergers\n",
    "\n",
    "> Hint: look here http://pandas.pydata.org/pandas-docs/stable/api.html#attributes-and-underlying-data (columns)\n",
    "\n",
    "You can get a list of columns using \".\" columns on a dataframe. Now convert those to integers and store them in a dict, with the key names the string version, the values the intger like so:\n",
    "\n",
    "```python\n",
    "\n",
    "{'1964': 1964,\n",
    " '1965': 1965,\n",
    " '1966': 1966,\n",
    " '1967': 1967,\n",
    "  ... }\n",
    " ```\n",
    "\n",
    "*output called: rename_dict*"
   ]
  },
  {
   "cell_type": "code",
   "execution_count": null,
   "metadata": {
    "collapsed": false
   },
   "outputs": [],
   "source": []
  },
  {
   "cell_type": "markdown",
   "metadata": {},
   "source": [
    "### Step 3: rename all the columns with the year as str, to year as int\n",
    "\n",
    "> hint: look here http://pandas.pydata.org/pandas-docs/stable/generated/pandas.DataFrame.rename.html#pandas-dataframe-rename\n",
    "\n",
    "\n",
    "*output variables named: df_fertility, df_life, df_population, df_regions*\n"
   ]
  },
  {
   "cell_type": "code",
   "execution_count": null,
   "metadata": {
    "collapsed": false
   },
   "outputs": [],
   "source": []
  },
  {
   "cell_type": "markdown",
   "metadata": {},
   "source": [
    "### Step 4: add some extra info\n",
    "\n",
    "Since we will be presenting with bokeh (a graphing library), let's assign each group a color and get a popuation size."
   ]
  },
  {
   "cell_type": "code",
   "execution_count": null,
   "metadata": {
    "collapsed": true
   },
   "outputs": [],
   "source": [
    "from bokeh.palettes import Spectral6\n",
    "import numpy as np\n",
    "\n",
    "def assign_region_color(regions, scale=200, min_size=3):\n",
    "    \"\"\" This function assignes the bubbles and colors\"\"\"\n",
    "    regions.Group = regions.Group.astype('category')\n",
    "    regions_list = list(regions.Group.cat.categories)\n",
    "\n",
    "    def get_color(r):\n",
    "        \"\"\"internally defined function\"\"\"\n",
    "        return Spectral6[regions_list.index(r.Group)]\n",
    "    regions['region_color'] = regions.apply(get_color, axis=1)\n",
    "    return regions\n",
    "\n",
    "def normalize_popuation_size(population, scale_factor=200, min_size=3):\n",
    "    \"\"\"Turn population into bubble sizes. Use min_size and factor to tweak.\"\"\"\n",
    "    population_size = np.sqrt(population / np.pi) / scale_factor\n",
    "    return population_size.where(population_size >= min_size).fillna(min_size)\n",
    "    "
   ]
  },
  {
   "cell_type": "code",
   "execution_count": null,
   "metadata": {
    "collapsed": false
   },
   "outputs": [],
   "source": []
  },
  {
   "cell_type": "markdown",
   "metadata": {},
   "source": [
    "### Step 5: concatinate all the data\n",
    "\n",
    "Let's create a dictionary called sources. Make it have a key for each year, but start that key with a \"_\" so it looks like this:\n",
    "\n",
    "```python\n",
    "sources.keys()\n",
    "# ['_1989', '_2010', '_2004', '_1999', ...] \n",
    "```\n",
    "\n",
    "Pseudocode:\n",
    "\n",
    "```python\n",
    "\n",
    "# some extra stuff\n",
    "region_color = regions_df['region_color']\n",
    "region_color.name = 'region_color'\n",
    "dictionary_of_sources = dict(zip([x for x in years], ['_%s' % x for x in years]))\n",
    "js_source_array = str(dictionary_of_sources).replace(\"'\", \"\")\n",
    "\n",
    "#function you will call\n",
    "def make_data(fertility, life, population, region_color):\n",
    "    sources = {}\n",
    "    \n",
    "    ### FINISH THIS CODE\n",
    "    for each year:\n",
    "        get fertility\n",
    "        add fertility.name = 'fertility'\n",
    "        # do same for: life, population\n",
    "        into new data frame conacatinate: fertility, life, population, region_color\n",
    "        create a key with \"_\"+year and assign ColumnDataSource(new_df)\n",
    "    return dict\n",
    "```\n"
   ]
  },
  {
   "cell_type": "code",
   "execution_count": null,
   "metadata": {
    "collapsed": false
   },
   "outputs": [],
   "source": []
  },
  {
   "cell_type": "markdown",
   "metadata": {},
   "source": [
    "### display a pretty graph"
   ]
  },
  {
   "cell_type": "code",
   "execution_count": null,
   "metadata": {
    "collapsed": true
   },
   "outputs": [],
   "source": [
    "from IPython.display import display, HTML\n",
    "\n",
    "import pandas as pd\n",
    "\n",
    "from jinja2 import Template\n",
    "\n",
    "# using bokeh=0.11.0=py35_0\n",
    "from bokeh.models import (\n",
    "    ColumnDataSource, Plot, Circle, Range1d, \n",
    "    LinearAxis, HoverTool, Text,\n",
    "    SingleIntervalTicker, Slider, CustomJS\n",
    ")\n",
    "from bokeh.palettes import Spectral6\n",
    "from bokeh.plotting import vplot\n",
    "from bokeh.resources import JSResources\n",
    "from bokeh.embed import file_html\n"
   ]
  },
  {
   "cell_type": "code",
   "execution_count": null,
   "metadata": {
    "collapsed": false
   },
   "outputs": [],
   "source": [
    "sources = make_data(df_fertility, df_life, df_population, region_color)\n",
    "\n",
    "# Set up the plot\n",
    "xdr = Range1d(1, 9)\n",
    "ydr = Range1d(20, 100)\n",
    "plot = Plot(\n",
    "    x_range=xdr,\n",
    "    y_range=ydr,\n",
    "    title=\"\",\n",
    "    plot_width=800,\n",
    "    plot_height=400,\n",
    "    outline_line_color=None,\n",
    "    toolbar_location=None,    \n",
    ")\n",
    "AXIS_FORMATS = dict(\n",
    "    minor_tick_in=None,\n",
    "    minor_tick_out=None,\n",
    "    major_tick_in=None,\n",
    "    major_label_text_font_size=\"10pt\",\n",
    "    major_label_text_font_style=\"normal\",\n",
    "    axis_label_text_font_size=\"10pt\",\n",
    "\n",
    "    axis_line_color='#AAAAAA',\n",
    "    major_tick_line_color='#AAAAAA',\n",
    "    major_label_text_color='#666666',\n",
    "\n",
    "    major_tick_line_cap=\"round\",\n",
    "    axis_line_cap=\"round\",\n",
    "    axis_line_width=1,\n",
    "    major_tick_line_width=1,\n",
    ")\n",
    "\n",
    "xaxis = LinearAxis(ticker=SingleIntervalTicker(interval=1), axis_label=\"Children per woman (total fertility)\", **AXIS_FORMATS)\n",
    "yaxis = LinearAxis(ticker=SingleIntervalTicker(interval=20), axis_label=\"Life expectancy at birth (years)\", **AXIS_FORMATS)   \n",
    "plot.add_layout(xaxis, 'below')\n",
    "plot.add_layout(yaxis, 'left')\n",
    "\n",
    "# Add the year in background (add before circle)\n",
    "text_source = ColumnDataSource({'year': rename_dict.keys()})\n",
    "text = Text(x=2, y=35, text='year', text_font_size='150pt', text_color='#EEEEEE')\n",
    "plot.add_glyph(text_source, text)\n",
    "\n",
    "# Add the circle\n",
    "renderer_source = sources['_%s' % years[0]]\n",
    "circle_glyph = Circle(\n",
    "    x='fertility', y='life', size='population',\n",
    "    fill_color='region_color', fill_alpha=0.8, \n",
    "    line_color='#7c7e71', line_width=0.5, line_alpha=0.5)\n",
    "circle_renderer = plot.add_glyph(renderer_source, circle_glyph)\n",
    "\n",
    "# Add the hover (only against the circle and not other plot elements)\n",
    "tooltips = \"@index\"\n",
    "plot.add_tools(HoverTool(tooltips=tooltips, renderers=[circle_renderer]))\n",
    "\n",
    "#legend \n",
    "text_x = 7\n",
    "text_y = 95\n",
    "for i, region in enumerate(regions):\n",
    "    plot.add_glyph(Text(x=text_x, y=text_y, text=[region], text_font_size='10pt', text_color='#666666'))\n",
    "    plot.add_glyph(Circle(x=text_x - 0.1, y=text_y + 2, fill_color=Spectral6[i], size=10, line_color=None, fill_alpha=0.8))\n",
    "    text_y = text_y - 5 \n",
    "\n",
    "# Add the slider\n",
    "code = \"\"\"\n",
    "    var year = slider.get('value'),\n",
    "        sources = %s,\n",
    "        new_source_data = sources[year].get('data');\n",
    "    renderer_source.set('data', new_source_data);\n",
    "    text_source.set('data', {'year': [String(year)]});\n",
    "\"\"\" % js_source_array\n",
    "\n",
    "callback = CustomJS(args=sources, code=code)\n",
    "slider = Slider(start=years[0], end=years[-1], value=1, step=1, title=\"Year\", callback=callback, name='testy')\n",
    "callback.args[\"renderer_source\"] = renderer_source\n",
    "callback.args[\"slider\"] = slider\n",
    "callback.args[\"text_source\"] = text_source\n",
    "\n",
    "\n",
    "# Stick the plot and the slider together\n",
    "layout = vplot(plot, slider)\n",
    "\n",
    "# Open our custom template\n",
    "with open('gapminder_template.jinja', 'r') as f:\n",
    "    template = Template(f.read())\n",
    "\n",
    "# Use inline resources, render the html and open\n",
    "js_resources = JSResources(mode='inline')\n",
    "title = \"Bokeh - Gapminder Bubble Plot\"\n",
    "html = file_html(layout, resources=(js_resources, None), title=title, template=template)\n",
    "\n",
    "display(HTML(html))"
   ]
  },
  {
   "cell_type": "code",
   "execution_count": null,
   "metadata": {
    "collapsed": true
   },
   "outputs": [],
   "source": []
  }
 ],
 "metadata": {
  "kernelspec": {
   "display_name": "Python 2",
   "language": "python",
   "name": "python2"
  },
  "language_info": {
   "codemirror_mode": {
    "name": "ipython",
    "version": 2
   },
   "file_extension": ".py",
   "mimetype": "text/x-python",
   "name": "python",
   "nbconvert_exporter": "python",
   "pygments_lexer": "ipython2",
   "version": "2.7.11"
  }
 },
 "nbformat": 4,
 "nbformat_minor": 0
}
